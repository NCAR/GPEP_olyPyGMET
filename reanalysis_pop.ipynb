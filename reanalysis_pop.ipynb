{
 "cells": [
  {
   "cell_type": "code",
   "execution_count": 52,
   "metadata": {},
   "outputs": [],
   "source": [
    "import numpy as np\n",
    "import regression as reg\n",
    "from scipy import io\n",
    "from auxiliary_merge import m_DateList\n",
    "from matplotlib import pyplot as plt\n",
    "\n",
    "\n",
    "def empirical_cdf(data, probtar):\n",
    "    # data: vector of data\n",
    "    data2 = data[~np.isnan(data)]\n",
    "    if len(data2) > 0:\n",
    "        ds = np.sort(data2)\n",
    "        probreal = np.arange(len(data2)) / (len(data2) + 1)\n",
    "        ecdf_out = np.interp(probtar, probreal, ds)\n",
    "    else:\n",
    "        ecdf_out = np.nan * np.zeros(len(probtar))\n",
    "    return ecdf_out\n",
    "\n",
    "\n",
    "def cdf_correction(cdf_ref, value_ref, cdf_raw, value_raw, value_tar):\n",
    "    prob_tar = np.interp(value_tar, value_raw, cdf_raw)\n",
    "    value_out = np.interp(prob_tar, cdf_ref, value_ref)\n",
    "    return value_out\n",
    "\n",
    "### Local Mac settings\n",
    "# input files/paths\n",
    "gmet_stnfile = '/Users/localuser/Research/EMDNA/basicinfo/stnlist_whole.txt'\n",
    "gmet_stndatafile = '/Users/localuser/Research/EMDNA/stndata_whole.npz'\n",
    "file_mask = './DEM/NA_DEM_010deg_trim.mat'\n",
    "near_file_GMET = '/Users/localuser/Research/EMDNA/regression/weight_nearstn.npz' # near station of stations/grids\n",
    "file_readownstn = ['/Users/localuser/Research/EMDNA/downscale/ERA5_downto_stn_nearest.npz', # downscaled to stn points\n",
    "                   '/Users/localuser/Research/EMDNA/downscale/MERRA2_downto_stn_nearest.npz',\n",
    "                   '/Users/localuser/Research/EMDNA/downscale/JRA55_downto_stn_nearest.npz']\n",
    "\n",
    "# output files/paths (can also be used as inputs once generated)\n",
    "near_path = '/Users/localuser/Research/EMDNA/correction'  # path to save near station for each grid/cell\n",
    "path_ecdf = '/Users/localuser/Research/EMDNA/merge/ECDF'\n",
    "file_pop = '/Users/localuser/Research/EMDNA/merge/reanalysis_pop'\n",
    "### Local Mac settings\n",
    "\n",
    "\n",
    "# ### Plato settings\n",
    "# gmet_stnfile = '/datastore/GLOBALWATER/CommonData/EMDNA/StnGridInfo/stnlist_whole.txt'\n",
    "# gmet_stndatafile = '/datastore/GLOBALWATER/CommonData/EMDNA/stndata_whole.npz'\n",
    "# file_mask = '/datastore/GLOBALWATER/CommonData/EMDNA/DEM/NA_DEM_010deg_trim.mat'\n",
    "# near_file_GMET = '/datastore/GLOBALWATER/CommonData/EMDNA/PyGMETout/weight.npz'\n",
    "# file_readownstn = ['/datastore/GLOBALWATER/CommonData/EMDNA/ERA5_day_ds/ERA5_downto_stn_GWR.npz', # downscaled to stn points\n",
    "#                    '/datastore/GLOBALWATER/CommonData/EMDNA/MERRA2_day_ds/MERRA2_downto_stn_GWR.npz',\n",
    "#                    '/datastore/GLOBALWATER/CommonData/EMDNA/JRA55_day_ds/JRA55_downto_stn_GWR.npz']\n",
    "# near_path = '/home/gut428/ReanalysisCorrMerge'  # path to save near station for each grid/cell\n",
    "# path_ecdf = '/datastore/GLOBALWATER/CommonData/EMDNA/ReanalysisCorrMerge/ECDF'\n",
    "# file_pop = '/home/gut428/ReanalysisCorrMerge/reanalysis_pop'\n",
    "# ### Plato settings\n",
    "\n",
    "near_stnfile = near_path + '/near_stn_prcp.npz'\n",
    "near_gridfile = near_path + '/near_grid_prcp.npz'\n",
    "\n"
   ]
  },
  {
   "cell_type": "code",
   "execution_count": 2,
   "metadata": {},
   "outputs": [
    {
     "name": "stdout",
     "output_type": "stream",
     "text": [
      "start basic processing\n",
      "load downscaled reanalysis data at station points\n"
     ]
    },
    {
     "name": "stderr",
     "output_type": "stream",
     "text": [
      "/usr/local/lib/python3.7/site-packages/ipykernel_launcher.py:56: RuntimeWarning: invalid value encountered in less\n"
     ]
    }
   ],
   "source": [
    "########################################################################################################################\n",
    "\n",
    "# basic processing\n",
    "print('start basic processing')\n",
    "\n",
    "lontar = np.arange(-180 + 0.05, -50, 0.1)\n",
    "lattar = np.arange(85 - 0.05, 5, -0.1)\n",
    "# mask\n",
    "mask = io.loadmat(file_mask)\n",
    "mask = mask['DEM']\n",
    "mask[~np.isnan(mask)] = 1  # 1: valid pixels\n",
    "\n",
    "# meshed lat/lon of the target region\n",
    "reanum = len(file_readownstn)\n",
    "nrows, ncols = np.shape(mask)\n",
    "lontarm, lattarm = np.meshgrid(lontar, lattar)\n",
    "lontarm[np.isnan(mask)] = np.nan\n",
    "lattarm[np.isnan(mask)] = np.nan\n",
    "\n",
    "# date list\n",
    "date_list, date_number = m_DateList(1979, 2018, 'ByYear')\n",
    "\n",
    "# load observations for all stations\n",
    "datatemp = np.load(gmet_stndatafile)\n",
    "stndata = datatemp['prcp_stn']\n",
    "stnlle = datatemp['stn_lle']\n",
    "nstn, ntimes = np.shape(stndata)\n",
    "del datatemp\n",
    "\n",
    "# load near station information\n",
    "datatemp = np.load(near_file_GMET)\n",
    "near_loc_stn = datatemp['near_stn_prcpLoc']\n",
    "near_weight_stn = datatemp['near_stn_prcpWeight']\n",
    "near_dist_stn = datatemp['near_stn_prcpDist']\n",
    "# near_loc_grid = datatemp['near_grid_prcpLoc']\n",
    "# near_weight_grid = datatemp['near_grid_prcpWeight']\n",
    "# near_dist_grid = datatemp['near_grid_prcpDist']\n",
    "# near_loc = np.flipud(near_loc_grid)\n",
    "# near_weight = np.flipud(near_weight_grid)\n",
    "# near_dist = np.flipud(near_dist_grid)\n",
    "\n",
    "# probability bins for QM\n",
    "binprob = 500\n",
    "ecdf_prob = np.arange(0, 1 + 1 / binprob, 1 / binprob)\n",
    "\n",
    "########################################################################################################################\n",
    "\n",
    "# load downscaled reanalysis at station points\n",
    "print('load downscaled reanalysis data at station points')\n",
    "readata_stn = np.nan * np.zeros([reanum, nstn, ntimes], dtype=np.float32)\n",
    "for rr in range(reanum):\n",
    "    dr = np.load(file_readownstn[rr])\n",
    "    temp = dr['prcp_readown']\n",
    "    readata_stn[rr, :, :] = temp\n",
    "    del dr, temp\n",
    "readata_stn[readata_stn < 0] = 0"
   ]
  },
  {
   "cell_type": "code",
   "execution_count": 131,
   "metadata": {},
   "outputs": [
    {
     "name": "stdout",
     "output_type": "stream",
     "text": [
      "0\n"
     ]
    },
    {
     "name": "stderr",
     "output_type": "stream",
     "text": [
      "/usr/local/lib/python3.7/site-packages/ipykernel_launcher.py:45: RuntimeWarning: overflow encountered in exp\n"
     ]
    },
    {
     "name": "stdout",
     "output_type": "stream",
     "text": [
      "500\n",
      "1000\n",
      "1500\n",
      "2000\n",
      "2500\n",
      "3000\n",
      "3500\n",
      "4000\n",
      "4500\n",
      "5000\n",
      "5500\n",
      "6000\n",
      "6500\n",
      "7000\n",
      "7500\n",
      "8000\n",
      "8500\n",
      "9000\n",
      "9500\n",
      "10000\n",
      "10500\n",
      "11000\n",
      "11500\n",
      "12000\n",
      "12500\n",
      "13000\n",
      "13500\n",
      "14000\n",
      "14500\n",
      "15000\n",
      "15500\n",
      "16000\n",
      "16500\n",
      "17000\n",
      "17500\n",
      "18000\n",
      "18500\n",
      "19000\n",
      "19500\n",
      "20000\n",
      "20500\n",
      "21000\n",
      "21500\n",
      "22000\n",
      "22500\n",
      "23000\n",
      "23500\n",
      "24000\n",
      "24500\n",
      "25000\n",
      "25500\n",
      "26000\n",
      "26500\n",
      "27000\n"
     ]
    }
   ],
   "source": [
    "rea_pop1 = np.nan * np.zeros([reanum, nstn, ntimes], dtype=np.float32)\n",
    "for rr in range(1):\n",
    "    for gg in range(nstn):\n",
    "        if not np.mod(gg,20)==0:\n",
    "            continue\n",
    "        if np.mod(gg,500)==0:\n",
    "            print(gg)\n",
    "        if np.isnan(stndata[gg, 0]):\n",
    "            continue\n",
    "        nearloc = near_loc_stn[gg, :]\n",
    "        neardist = near_dist_stn[gg, :]\n",
    "        nearweight = near_weight_stn[gg, :]\n",
    "        neardist = neardist[nearloc > -1]\n",
    "        nearweight = nearweight[nearloc > -1]\n",
    "        nearloc = nearloc[nearloc > -1]\n",
    "\n",
    "        nstn_prcp = len(nearloc)\n",
    "        w_pcp_red = np.zeros([nstn_prcp, nstn_prcp])\n",
    "        for i in range(nstn_prcp):\n",
    "            w_pcp_red[i, i] = nearweight[i]  # eye matrix: stn weight in one-one lien\n",
    "\n",
    "        x_red = np.ones([nstn_prcp, 2])\n",
    "\n",
    "        for tt in range(365):\n",
    "            prea_tar = readata_stn[rr, gg, tt]\n",
    "            if stndata[gg, tt]>0:\n",
    "                pstn_tar = 1\n",
    "            else:\n",
    "                pstn_tar = 0\n",
    "            prea_near = readata_stn[rr, nearloc, tt]\n",
    "            pstn_near = stndata[nearloc, tt]\n",
    "            pstn_near[pstn_near > 0] = 1\n",
    "\n",
    "            # logistic regression\n",
    "            if np.all(pstn_near == 1):\n",
    "                rea_pop1[rr, gg, tt] = 1\n",
    "            elif np.all(pstn_near == 0) or np.all(prea_near == 0):\n",
    "                rea_pop1[rr, gg, tt] = 0\n",
    "            else:\n",
    "                x_red[:, 1] = prea_near\n",
    "                tx_red = np.transpose(x_red)\n",
    "                twx_red = np.matmul(tx_red, w_pcp_red)\n",
    "                b = reg.logistic_regression(x_red, twx_red, pstn_near)\n",
    "                zb = - np.dot(np.array([1,prea_tar]), b)\n",
    "                rea_pop1[rr, gg, tt] = 1 / (1 + np.exp(zb))"
   ]
  },
  {
   "cell_type": "code",
   "execution_count": 179,
   "metadata": {},
   "outputs": [
    {
     "name": "stdout",
     "output_type": "stream",
     "text": [
      "0\n"
     ]
    },
    {
     "name": "stderr",
     "output_type": "stream",
     "text": [
      "/usr/local/lib/python3.7/site-packages/ipykernel_launcher.py:45: RuntimeWarning: overflow encountered in exp\n"
     ]
    },
    {
     "name": "stdout",
     "output_type": "stream",
     "text": [
      "0\n",
      "0\n"
     ]
    }
   ],
   "source": [
    "rea_pop1_temp = np.nan * np.zeros([reanum, nstn, ntimes], dtype=np.float32)\n",
    "for rr in range(reanum):\n",
    "    for gg in range(1):\n",
    "        if not np.mod(gg,20)==0:\n",
    "            continue\n",
    "        if np.mod(gg,500)==0:\n",
    "            print(gg)\n",
    "        if np.isnan(stndata[gg, 0]):\n",
    "            continue\n",
    "        nearloc = near_loc_stn[gg, :]\n",
    "        neardist = near_dist_stn[gg, :]\n",
    "        nearweight = near_weight_stn[gg, :]\n",
    "        neardist = neardist[nearloc > -1]\n",
    "        nearweight = nearweight[nearloc > -1]\n",
    "        nearloc = nearloc[nearloc > -1]\n",
    "\n",
    "        nstn_prcp = len(nearloc)\n",
    "        w_pcp_red = np.zeros([nstn_prcp, nstn_prcp])\n",
    "        for i in range(nstn_prcp):\n",
    "            w_pcp_red[i, i] = nearweight[i]  # eye matrix: stn weight in one-one lien\n",
    "\n",
    "        x_red = np.ones([nstn_prcp, 2])\n",
    "\n",
    "        for tt in range(366,ntimes):\n",
    "            prea_tar = readata_stn[rr, gg, tt]\n",
    "            if stndata[gg, tt]>0:\n",
    "                pstn_tar = 1\n",
    "            else:\n",
    "                pstn_tar = 0\n",
    "            prea_near = readata_stn[rr, nearloc, tt]\n",
    "            pstn_near = stndata[nearloc, tt]\n",
    "            pstn_near[pstn_near > 0] = 1\n",
    "\n",
    "            # logistic regression\n",
    "            if np.all(pstn_near == 1):\n",
    "                rea_pop1[rr, gg, tt] = 1\n",
    "            elif np.all(pstn_near == 0) or np.all(prea_near == 0):\n",
    "                rea_pop1[rr, gg, tt] = 0\n",
    "            else:\n",
    "                x_red[:, 1] = prea_near\n",
    "                tx_red = np.transpose(x_red)\n",
    "                twx_red = np.matmul(tx_red, w_pcp_red)\n",
    "                b = reg.logistic_regression(x_red, twx_red, pstn_near)\n",
    "                zb = - np.dot(np.array([1,prea_tar]), b)\n",
    "                rea_pop1_temp[rr, gg, tt] = 1 / (1 + np.exp(zb))"
   ]
  },
  {
   "cell_type": "code",
   "execution_count": 188,
   "metadata": {},
   "outputs": [
    {
     "name": "stderr",
     "output_type": "stream",
     "text": [
      "/usr/local/lib/python3.7/site-packages/ipykernel_launcher.py:45: RuntimeWarning: overflow encountered in exp\n"
     ]
    }
   ],
   "source": [
    "rea_pop11 = np.zeros([nstn, ntimes], dtype=np.float32)\n",
    "for gg in range(1):\n",
    "    if np.isnan(stndata[gg, 0]):\n",
    "        continue\n",
    "    nearloc = near_loc_stn[gg, :]\n",
    "    neardist = near_dist_stn[gg, :]\n",
    "    nearweight = near_weight_stn[gg, :]\n",
    "    neardist = neardist[nearloc > -1]\n",
    "    nearweight = nearweight[nearloc > -1]\n",
    "    nearloc = nearloc[nearloc > -1]\n",
    "\n",
    "    nstn_prcp = len(nearloc)\n",
    "    w_pcp_red = np.zeros([nstn_prcp, nstn_prcp])\n",
    "    for i in range(nstn_prcp):\n",
    "        w_pcp_red[i, i] = nearweight[i]  # eye matrix: stn weight in one-one lien\n",
    "\n",
    "    x_red = np.ones([nstn_prcp, 4])\n",
    "\n",
    "    for tt in range(366,ntimes):\n",
    "        prea_tar = readata_stn[:, gg, tt]\n",
    "        prea_tar2 = np.ones(reanum+1)\n",
    "        prea_tar2[1:]=prea_tar\n",
    "        if stndata[gg, tt] > 0:\n",
    "            pstn_tar = 1\n",
    "        else:\n",
    "            pstn_tar = 0\n",
    "        prea_near = readata_stn[:, nearloc, tt]\n",
    "        pstn_near = stndata[nearloc, tt]\n",
    "        pstn_near[pstn_near > 0] = 1\n",
    "\n",
    "        # logistic regression\n",
    "        if np.all(pstn_near == 1):\n",
    "            rea_pop1[rr, gg, tt] = 1\n",
    "        elif np.all(pstn_near == 0) or np.all(prea_near ==0):\n",
    "            rea_pop1[rr, gg, tt] = 0\n",
    "        else:\n",
    "            x_red[:, 1:4] = prea_near.T\n",
    "            tx_red = np.transpose(x_red)\n",
    "            twx_red = np.matmul(tx_red, w_pcp_red)\n",
    "            b = reg.logistic_regression(x_red, twx_red, pstn_near)\n",
    "            if np.all(b==0):\n",
    "                rea_pop11[gg, tt] = 0\n",
    "            else:\n",
    "                zb = - np.dot(prea_tar2, b)\n",
    "                rea_pop11[gg, tt] = 1 / (1 + np.exp(zb))"
   ]
  },
  {
   "cell_type": "code",
   "execution_count": 194,
   "metadata": {},
   "outputs": [
    {
     "name": "stdout",
     "output_type": "stream",
     "text": [
      "0.7696027633851468\n",
      "0.7453862485709619\n",
      "0.7366666666666667\n",
      "0.5597687239478284\n",
      "0.7620947630922693\n"
     ]
    },
    {
     "name": "stderr",
     "output_type": "stream",
     "text": [
      "/usr/local/lib/python3.7/site-packages/ipykernel_launcher.py:7: RuntimeWarning: invalid value encountered in greater\n",
      "  import sys\n",
      "/usr/local/lib/python3.7/site-packages/ipykernel_launcher.py:8: RuntimeWarning: invalid value encountered in greater\n",
      "  \n",
      "/usr/local/lib/python3.7/site-packages/ipykernel_launcher.py:9: RuntimeWarning: invalid value encountered in less_equal\n",
      "  if __name__ == '__main__':\n",
      "/usr/local/lib/python3.7/site-packages/ipykernel_launcher.py:6: RuntimeWarning: Mean of empty slice\n",
      "  \n"
     ]
    }
   ],
   "source": [
    "obs=stndata[0,:].copy()\n",
    "obs[obs>0]=1\n",
    "for i in range(3):\n",
    "    print(cal_csi(obs, rea_pop1_temp[i,0,:],0.5))\n",
    "print(cal_csi(obs, rea_pop11[0,:],0.5))\n",
    "print(cal_csi(obs, np.nanmean(rea_pop1_temp[:,0,:],axis=0),0.5))"
   ]
  },
  {
   "cell_type": "code",
   "execution_count": 193,
   "metadata": {},
   "outputs": [
    {
     "data": {
      "text/plain": [
       "0.0"
      ]
     },
     "execution_count": 193,
     "metadata": {},
     "output_type": "execute_result"
    }
   ],
   "source": [
    "rea_pop11[gg, tt]"
   ]
  },
  {
   "cell_type": "code",
   "execution_count": 238,
   "metadata": {},
   "outputs": [
    {
     "name": "stdout",
     "output_type": "stream",
     "text": [
      "0\n",
      "0\n",
      "0\n"
     ]
    }
   ],
   "source": [
    "date_list, date_number = m_DateList(1979, 2018, 'ByYear')\n",
    "rea_pop2 = np.nan * np.zeros([reanum, nstn, ntimes], dtype=np.float32)\n",
    "for rr in range(reanum):\n",
    "    for gg in range(0,10):\n",
    "        if np.mod(gg,500)==0:\n",
    "            print(gg)\n",
    "        if np.isnan(stndata[gg, 0]):\n",
    "            continue\n",
    "        nearloc = near_loc_stn[gg, :]\n",
    "        neardist = near_dist_stn[gg, :]\n",
    "        nearweight = near_weight_stn[gg, :]\n",
    "        neardist = neardist[nearloc > -1]\n",
    "        nearweight = nearweight[nearloc > -1]\n",
    "        nearweight = nearweight / np.sum(nearweight)\n",
    "        nearloc = nearloc[nearloc > -1]\n",
    "        nstn_prcp = len(nearloc)\n",
    "\n",
    "        for mm in range(12):\n",
    "            indm = date_number['mm'] == (mm+1)\n",
    "            prea_tar = readata_stn[rr, gg, indm]\n",
    "            pstn_near = stndata[nearloc,:][:, indm]\n",
    "            ecdf_reatar = empirical_cdf(prea_tar, ecdf_prob)\n",
    "            popmm_near = np.zeros([nstn_prcp, np.sum(indm)])\n",
    "            popmm = np.zeros(np.sum(indm))\n",
    "            for i in range(nstn_prcp):\n",
    "                # a simple Qunatile mapping by sorting\n",
    "                ecdf_neari = empirical_cdf(pstn_near[i,:], ecdf_prob)\n",
    "                pqm = cdf_correction(ecdf_prob, ecdf_neari, ecdf_prob, ecdf_reatar, pstn_near[i,:])\n",
    "                pqm[pqm > 0] = 1\n",
    "                popmm_near[i, :] = pqm\n",
    "                popmm = popmm + pqm * nearweight[i]\n",
    "            rea_pop2[rr, gg, indm] = popmm"
   ]
  },
  {
   "cell_type": "code",
   "execution_count": 197,
   "metadata": {},
   "outputs": [
    {
     "name": "stderr",
     "output_type": "stream",
     "text": [
      "/usr/local/lib/python3.7/site-packages/ipykernel_launcher.py:7: RuntimeWarning: invalid value encountered in greater\n",
      "  import sys\n",
      "/usr/local/lib/python3.7/site-packages/ipykernel_launcher.py:8: RuntimeWarning: invalid value encountered in greater\n",
      "  \n",
      "/usr/local/lib/python3.7/site-packages/ipykernel_launcher.py:9: RuntimeWarning: invalid value encountered in less_equal\n",
      "  if __name__ == '__main__':\n",
      "/usr/local/lib/python3.7/site-packages/ipykernel_launcher.py:8: RuntimeWarning: invalid value encountered in less_equal\n",
      "  \n",
      "/usr/local/lib/python3.7/site-packages/ipykernel_launcher.py:9: RuntimeWarning: invalid value encountered in greater\n",
      "  if __name__ == '__main__':\n",
      "/usr/local/lib/python3.7/site-packages/ipykernel_launcher.py:22: RuntimeWarning: invalid value encountered in long_scalars\n",
      "/usr/local/lib/python3.7/site-packages/ipykernel_launcher.py:10: RuntimeWarning: Mean of empty slice\n",
      "  # Remove the CWD from sys.path while we load stuff.\n",
      "/usr/local/lib/python3.7/site-packages/ipykernel_launcher.py:11: RuntimeWarning: Mean of empty slice\n",
      "  # This is added back by InteractiveShellApp.init_path()\n"
     ]
    },
    {
     "name": "stdout",
     "output_type": "stream",
     "text": [
      "[0.60599306 0.52258967]\n",
      "[0.10463801 0.11367713]\n"
     ]
    }
   ],
   "source": [
    "rea_pop1[:,:,365:]=np.nan\n",
    "rea_pop2[:,:,365:]=np.nan\n",
    "csi=np.nan * np.zeros([nstn,2])\n",
    "bs=np.nan * np.zeros([nstn,2])\n",
    "for i in range(0,27000,20):\n",
    "    obs=stndata[i,:].copy()\n",
    "    obs[obs>0]=1\n",
    "    csi[i,0]=cal_csi(obs, rea_pop1[0,i,:],0.5)\n",
    "    csi[i,1]=cal_csi(obs, rea_pop2[0,i,:],0.5)\n",
    "    bs[i,0]=np.nanmean((obs - rea_pop1[0,i,:])**2)\n",
    "    bs[i,1]=np.nanmean((obs - rea_pop2[0,i,:])**2)\n",
    "csi = csi[~np.isnan(csi[:,0]),:]\n",
    "bs = bs[~np.isnan(bs[:,0]),:]\n",
    "print(np.nanmean(csi,axis=0))\n",
    "print(np.nanmean(bs,axis=0))"
   ]
  },
  {
   "cell_type": "code",
   "execution_count": 248,
   "metadata": {},
   "outputs": [
    {
     "data": {
      "text/plain": [
       "(3, 1240)"
      ]
     },
     "execution_count": 248,
     "metadata": {},
     "output_type": "execute_result"
    }
   ],
   "source": [
    "np.shape(rea_pop2[:,1,date_number['mm']==3])"
   ]
  },
  {
   "cell_type": "code",
   "execution_count": 243,
   "metadata": {},
   "outputs": [
    {
     "data": {
      "text/plain": [
       "array([0.35316675, 0.329166  , 0.31766725])"
      ]
     },
     "execution_count": 243,
     "metadata": {},
     "output_type": "execute_result"
    }
   ],
   "source": [
    "from bma_merge import bma\n",
    "weight, sigma, sigma_s = bma(rea.T, obs)\n",
    "weight"
   ]
  },
  {
   "cell_type": "code",
   "execution_count": 198,
   "metadata": {},
   "outputs": [
    {
     "data": {
      "text/plain": [
       "Text(0.5, 1.0, 'Brier score')"
      ]
     },
     "execution_count": 198,
     "metadata": {},
     "output_type": "execute_result"
    },
    {
     "data": {
      "image/png": "[encoded data removed]",
      "text/plain": [
       "<Figure size 720x360 with 2 Axes>"
      ]
     },
     "metadata": {
      "needs_background": "light"
     },
     "output_type": "display_data"
    }
   ],
   "source": [
    "plt.figure(figsize=[10,5])\n",
    "plt.subplot(1,2,1)\n",
    "plt.scatter(csi[:,0],csi[:,1])\n",
    "plt.plot([0,1],[0,1],'r')\n",
    "plt.xlabel('Regression pop')\n",
    "plt.ylabel('QM pop')\n",
    "plt.title('CSI')\n",
    "\n",
    "plt.subplot(1,2,2)\n",
    "plt.scatter(bs[:,0],bs[:,1])\n",
    "plt.plot([0,1],[0,1],'r')\n",
    "plt.xlabel('Regression pop')\n",
    "plt.ylabel('QM pop')\n",
    "plt.title('Brier score')"
   ]
  },
  {
   "cell_type": "code",
   "execution_count": 150,
   "metadata": {},
   "outputs": [
    {
     "data": {
      "image/png": "[encoded data removed]",
      "text/plain": [
       "<Figure size 720x1080 with 10 Axes>"
      ]
     },
     "metadata": {
      "needs_background": "light"
     },
     "output_type": "display_data"
    }
   ],
   "source": [
    "plt.figure(figsize=[10,15])\n",
    "ii=np.arange(0,2500,500)\n",
    "for i in range(5):\n",
    "    plt.subplot(5,2,(i+1)*2-1)\n",
    "    zz = rea_pop1[0,ii[i],:]\n",
    "    plt.hist(zz[:])\n",
    "    if i==0:\n",
    "        plt.title('regression pop')\n",
    "    plt.subplot(5,2,(i+1)*2)\n",
    "    zz = rea_pop2[0,ii[i],:]\n",
    "    plt.hist(zz[:])\n",
    "    if i==0:\n",
    "        plt.title('QM pop')"
   ]
  },
  {
   "cell_type": "code",
   "execution_count": 151,
   "metadata": {},
   "outputs": [
    {
     "data": {
      "text/plain": [
       "<matplotlib.collections.PathCollection at 0x2b318a390>"
      ]
     },
     "execution_count": 151,
     "metadata": {},
     "output_type": "execute_result"
    },
    {
     "data": {
      "image/png": "[encoded data removed]",
      "text/plain": [
       "<Figure size 432x288 with 1 Axes>"
      ]
     },
     "metadata": {
      "needs_background": "light"
     },
     "output_type": "display_data"
    }
   ],
   "source": [
    "plt.scatter(rea_pop1[0,0,:], rea_pop2[0,0,:])"
   ]
  },
  {
   "cell_type": "code",
   "execution_count": 199,
   "metadata": {},
   "outputs": [],
   "source": [
    "near_file_GMET = '/Users/localuser/Research/EMDNA/regression/weight_nearstn.npz'\n",
    "near_loc_grid = datatemp['near_grid_prcpLoc']\n",
    "near_weight_grid = datatemp['near_grid_prcpWeight']\n",
    "near_dist_grid = datatemp['near_grid_prcpDist']"
   ]
  },
  {
   "cell_type": "code",
   "execution_count": 234,
   "metadata": {},
   "outputs": [
    {
     "ename": "KeyboardInterrupt",
     "evalue": "",
     "output_type": "error",
     "traceback": [
      "\u001b[0;31m---------------------------------------------------------------------------\u001b[0m",
      "\u001b[0;31mKeyboardInterrupt\u001b[0m                         Traceback (most recent call last)",
      "\u001b[0;32m<ipython-input-234-8e11139980ef>\u001b[0m in \u001b[0;36m<module>\u001b[0;34m\u001b[0m\n\u001b[1;32m      9\u001b[0m \u001b[0;32mfor\u001b[0m \u001b[0mr\u001b[0m \u001b[0;32min\u001b[0m \u001b[0mrange\u001b[0m\u001b[0;34m(\u001b[0m\u001b[0mnrows\u001b[0m\u001b[0;34m)\u001b[0m\u001b[0;34m:\u001b[0m\u001b[0;34m\u001b[0m\u001b[0;34m\u001b[0m\u001b[0m\n\u001b[1;32m     10\u001b[0m     \u001b[0;32mfor\u001b[0m \u001b[0mc\u001b[0m \u001b[0;32min\u001b[0m \u001b[0mrange\u001b[0m\u001b[0;34m(\u001b[0m\u001b[0mncols\u001b[0m\u001b[0;34m)\u001b[0m\u001b[0;34m:\u001b[0m\u001b[0;34m\u001b[0m\u001b[0;34m\u001b[0m\u001b[0m\n\u001b[0;32m---> 11\u001b[0;31m         \u001b[0mnearloc_uniflag\u001b[0m\u001b[0;34m[\u001b[0m\u001b[0mr\u001b[0m\u001b[0;34m,\u001b[0m \u001b[0mc\u001b[0m\u001b[0;34m]\u001b[0m \u001b[0;34m=\u001b[0m \u001b[0mnp\u001b[0m\u001b[0;34m.\u001b[0m\u001b[0mwhere\u001b[0m\u001b[0;34m(\u001b[0m\u001b[0mnear_loc_grid\u001b[0m\u001b[0;34m[\u001b[0m\u001b[0mr\u001b[0m\u001b[0;34m,\u001b[0m \u001b[0mc\u001b[0m\u001b[0;34m,\u001b[0m \u001b[0;34m:\u001b[0m\u001b[0;34m]\u001b[0m \u001b[0;32min\u001b[0m \u001b[0mnearloc_unique\u001b[0m\u001b[0;34m)\u001b[0m\u001b[0;34m[\u001b[0m\u001b[0;36m0\u001b[0m\u001b[0;34m]\u001b[0m\u001b[0;34m[\u001b[0m\u001b[0;36m0\u001b[0m\u001b[0;34m]\u001b[0m\u001b[0;34m\u001b[0m\u001b[0;34m\u001b[0m\u001b[0m\n\u001b[0m",
      "\u001b[0;31mKeyboardInterrupt\u001b[0m: "
     ]
    }
   ],
   "source": [
    "nearloc_unique = np.zeros([nrows * ncols, np.shape(near_loc_grid)[2]])\n",
    "flag = 0\n",
    "for r in range(nrows):\n",
    "    for c in range(ncols):\n",
    "        nearloc_unique[flag, :] = near_loc_grid[r, c, :]\n",
    "        flag = flag + 1\n",
    "nearloc_unique = np.unique(nearloc_unique, axis=0)\n",
    "nearloc_uniflag = np.zeros([nrows, ncols])\n",
    "for r in range(59,nrows):\n",
    "    print(r)\n",
    "    for c in range(ncols):\n",
    "        if np.isnan(mask[r, c]):\n",
    "            continue\n",
    "        nearloc_uniflag[r, c] = np.where(near_loc_grid[r, c, :] in nearloc_unique)[0][0]"
   ]
  }
 ],
 "metadata": {
  "kernelspec": {
   "display_name": "Python 3",
   "language": "python",
   "name": "python3"
  },
  "language_info": {
   "codemirror_mode": {
    "name": "ipython",
    "version": 3
   },
   "file_extension": ".py",
   "mimetype": "text/x-python",
   "name": "python",
   "nbconvert_exporter": "python",
   "pygments_lexer": "ipython3",
   "version": "3.7.4"
  }
 },
 "nbformat": 4,
 "nbformat_minor": 4
}
