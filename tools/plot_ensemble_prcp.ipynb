{
 "cells": [
  {
   "cell_type": "markdown",
   "id": "c3b09292-20ab-4ca3-bea1-967771b83b82",
   "metadata": {},
   "source": [
    "# Visualize ensemble precipitation outputs"
   ]
  },
  {
   "cell_type": "code",
   "execution_count": 1,
   "id": "72bc2c75-c953-47d7-83e3-fb10d4c4fa40",
   "metadata": {},
   "outputs": [],
   "source": [
    "import matplotlib.pyplot as plt\n",
    "import xarray as xr\n",
    "import imageio\n",
    "import os, glob\n",
    "import numpy as np\n",
    "\n",
    "def boxcox_retransform(data, texp=4):\n",
    "    # transform prcp to approximate normal distribution\n",
    "    # mode: box-cox; power-law\n",
    "    if not isinstance(data, np.ndarray):\n",
    "        data = np.array(data)\n",
    "    data[data<-texp] = -texp\n",
    "    datat = (data / texp + 1) ** texp\n",
    "    return datat\n"
   ]
  },
  {
   "cell_type": "code",
   "execution_count": 2,
   "id": "bc3e15bf-5c1e-4ecc-a0cf-94c2f0e4ddd8",
   "metadata": {},
   "outputs": [],
   "source": [
    "\n",
    "# Ensemble mean\n",
    "files = glob.glob('../test_cases/cali2017/outputs/ensembles/LWLRstatic_ensMember_20170201-20170215_*.nc')\n",
    "files.sort()\n",
    "ds_ens = xr.open_mfdataset(files, concat_dim='z',combine='nested')\n",
    "ds_ens = ds_ens.mean(dim='z')\n",
    "ds_ens = ds_ens.mean(dim='time')\n",
    "\n",
    "fig_list = [] \n",
    "\n",
    "duration = 0.5 # Set the duration of each frame in seconds\n",
    "loop = 0 # Set the number of loops (0 means infinite)\n",
    "ensnum = 5\n",
    "\n",
    "for i in range(ensnum):\n",
    "    outfigi = f'fig_{i}.png'\n",
    "    fig_list.append(outfigi)\n",
    "    \n",
    "    \n",
    "    fig, ax = plt.subplots(1, 2, figsize=[9, 4])\n",
    "    \n",
    "    # ensemble maen\n",
    "    axi = ax[0]\n",
    "    dsi = ds_ens\n",
    "    dsi.prcp.plot(ax=axi, vmin=0, vmax=50)\n",
    "    axi.set_xlabel('latitude')\n",
    "    axi.set_ylabel('longitude')\n",
    "    axi.set_title(f'Ensemble mean precipitation', fontsize=10)\n",
    "    \n",
    "    \n",
    "    axi = ax[1]\n",
    "    filei = f'../test_cases/cali2017/outputs/ensembles/LWLRstatic_ensMember_20170201-20170215_{i+1:03}.nc'\n",
    "    dsi = xr.open_dataset(filei)\n",
    "    # dsi = dsi.isel(time=5)\n",
    "    dsi = dsi.mean(dim='time')\n",
    "    dsi.prcp.plot(ax=axi, vmin=0, vmax=50)\n",
    "    axi.set_xlabel('latitude')\n",
    "    axi.set_ylabel('longitude')\n",
    "    axi.set_title(f'Probabilistic precipitation: Member {i+1}', fontsize=10)\n",
    "    \n",
    "    plt.tight_layout()\n",
    "    plt.savefig(outfigi)\n",
    "    plt.close()"
   ]
  },
  {
   "cell_type": "code",
   "execution_count": 3,
   "id": "d9499785-202b-4892-9764-ea4ab0e61769",
   "metadata": {},
   "outputs": [],
   "source": [
    "# generate gif \n",
    "save_path = 'california2017_ensemble_prcp.gif'\n",
    "duration = 0.1\n",
    "loop = 0\n",
    "    \n",
    "with imageio.get_writer(save_path, mode='I', duration=duration, loop=loop) as writer:\n",
    "    for i in range(len(fig_list)):\n",
    "        image = imageio.v2.imread(fig_list[i])\n",
    "        writer.append_data(image)"
   ]
  },
  {
   "cell_type": "code",
   "execution_count": 4,
   "id": "112669b3-8c25-49a6-8d67-abd41bd39964",
   "metadata": {},
   "outputs": [],
   "source": [
    "# remove individual files\n",
    "for i in range(len(fig_list)):\n",
    "    os.remove(fig_list[i])"
   ]
  }
 ],
 "metadata": {
  "kernelspec": {
   "display_name": "Python [conda env:general]",
   "language": "python",
   "name": "conda-env-general-py"
  },
  "language_info": {
   "codemirror_mode": {
    "name": "ipython",
    "version": 3
   },
   "file_extension": ".py",
   "mimetype": "text/x-python",
   "name": "python",
   "nbconvert_exporter": "python",
   "pygments_lexer": "ipython3",
   "version": "3.9.13"
  }
 },
 "nbformat": 4,
 "nbformat_minor": 5
}
