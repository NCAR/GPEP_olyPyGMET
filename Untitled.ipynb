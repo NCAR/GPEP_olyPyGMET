{
 "cells": [
  {
   "cell_type": "code",
   "execution_count": 2,
   "metadata": {},
   "outputs": [],
   "source": [
    "# convert files from .npz to .mat to facilitate analysis using matlab\n",
    "import numpy as np\n",
    "from scipy import io\n",
    "import os\n",
    "\n",
    "# station observation\n",
    "infile = '/Users/localuser/Research/EMDNA/LScorrfactor_tmean.npz'\n",
    "outfile = '/Users/localuser/Research/EMDNA/LScorrfactor_tmean.mat'\n",
    "if not os.path.isfile(outfile):\n",
    "    d = np.load(infile)\n",
    "    prcp_stn = d['prcp_stn']\n",
    "    tmean_stn = d['tmean_stn']\n",
    "    trange_stn = d['trange_stn']\n",
    "    date_ymd = d['date_ymd']\n",
    "    stnID = d['stnID']\n",
    "    stninfo = d['stninfo']\n",
    "    del d\n",
    "\n",
    "    io.savemat(outfile, {'prcp_stn': prcp_stn, 'tmean_stn': tmean_stn, 'trange_stn': trange_stn,\n",
    "                         'date_ymd': date_ymd, 'stnID': stnID, 'stninfo': stninfo})\n",
    "    del prcp_stn, tmean_stn, trange_stn, date_ymd, stnID, stninfo"
   ]
  },
  {
   "cell_type": "code",
   "execution_count": 5,
   "metadata": {},
   "outputs": [
    {
     "name": "stdout",
     "output_type": "stream",
     "text": [
      "0\n",
      "1\n",
      "2\n",
      "3\n",
      "4\n",
      "5\n"
     ]
    }
   ],
   "source": [
    "# reanalysis downscaled data\n",
    "infile = ['/Users/localuser/Research/EMDNA/ERA5_downto_stn_GWR.npz',\n",
    "          '/Users/localuser/Research/EMDNA/ERA5_downto_stn_nearest.npz',\n",
    "          '/Users/localuser/Research/EMDNA/MERRA2_downto_stn_GWR.npz',\n",
    "          '/Users/localuser/Research/EMDNA/MERRA2_downto_stn_nearest.npz',\n",
    "          '/Users/localuser/Research/EMDNA/JRA55_downto_stn_GWR.npz',\n",
    "          '/Users/localuser/Research/EMDNA/JRA55_downto_stn_nearest.npz']\n",
    "outfile = ['/Users/localuser/Research/EMDNA/ERA5_downto_stn_GWR.mat',\n",
    "          '/Users/localuser/Research/EMDNA/ERA5_downto_stn_nearest.mat',\n",
    "          '/Users/localuser/Research/EMDNA/MERRA2_downto_stn_GWR.mat',\n",
    "          '/Users/localuser/Research/EMDNA/MERRA2_downto_stn_nearest.mat',\n",
    "          '/Users/localuser/Research/EMDNA/JRA55_downto_stn_GWR.mat',\n",
    "          '/Users/localuser/Research/EMDNA/JRA55_downto_stn_nearest.mat']\n",
    "for i in range(6):\n",
    "    if os.path.isfile(outfile[i]):\n",
    "        continue\n",
    "    d = np.load(infile[i])\n",
    "    prcp_readown = d['prcp_readown']\n",
    "    tmean_readown = d['tmean_readown']\n",
    "    trange_readown = d['trange_readown']\n",
    "    latitude = d['latitude']\n",
    "    longitude = d['longitude']\n",
    "    stn_ID = d['stn_ID']\n",
    "    stn_lle = d['stn_lle']\n",
    "    stn_row = d['stn_row']\n",
    "    stn_col = d['stn_col']\n",
    "    io.savemat(outfile[i], {'prcp_readown':prcp_readown, 'tmean_readown':tmean_readown, 'trange_readown':trange_readown,\n",
    "                         'latitude':latitude, 'longitude':longitude, 'stn_ID':stn_ID,\n",
    "                         'stn_lle':stn_lle, 'stn_row':stn_row, 'stn_col':stn_col}, do_compression=True)\n",
    "    del d, prcp_readown, tmean_readown, trange_readown, longitude, latitude, stn_ID, stn_lle, stn_row, stn_col"
   ]
  },
  {
   "cell_type": "code",
   "execution_count": 6,
   "metadata": {},
   "outputs": [
    {
     "name": "stdout",
     "output_type": "stream",
     "text": [
      "0\n",
      "1\n",
      "2\n"
     ]
    }
   ],
   "source": [
    "# LS correction factor\n",
    "infile = ['/Users/localuser/Research/EMDNA/LScorrfactor_prcp.npz',\n",
    "          '/Users/localuser/Research/EMDNA/LScorrfactor_tmean.npz',\n",
    "          '/Users/localuser/Research/EMDNA/LScorrfactor_trange.npz']\n",
    "outfile = ['/Users/localuser/Research/EMDNA/LScorrfactor_prcp.mat',\n",
    "          '/Users/localuser/Research/EMDNA/LScorrfactor_tmean.mat',\n",
    "          '/Users/localuser/Research/EMDNA/LScorrfactor_trange.mat']\n",
    "for i in range(3):\n",
    "    print(i)\n",
    "    if os.path.isfile(outfile[i]):\n",
    "        continue\n",
    "    d = np.load(infile[i])\n",
    "    corrfactor = d['corrfactor']\n",
    "    latitude = d['latitude']\n",
    "    longitude = d['longitude']\n",
    "    io.savemat(outfile[i], {'corrfactor':corrfactor, 'latitude':latitude, 'longitude':longitude}, do_compression=True)\n",
    "    del d, corrfactor, longitude, latitude"
   ]
  },
  {
   "cell_type": "code",
   "execution_count": 7,
   "metadata": {},
   "outputs": [
    {
     "name": "stdout",
     "output_type": "stream",
     "text": [
      "0\n",
      "1\n",
      "2\n"
     ]
    }
   ],
   "source": [
    "# BMA merging weight\n",
    "infile = ['/Users/localuser/Research/EMDNA/mergeweight_prcp_BMA.npz',\n",
    "          '/Users/localuser/Research/EMDNA/mergeweight_tmean_BMA.npz',\n",
    "          '/Users/localuser/Research/EMDNA/mergeweight_trange_BMA.npz']\n",
    "outfile = ['/Users/localuser/Research/EMDNA/mergeweight_prcp_BMA.mat',\n",
    "          '/Users/localuser/Research/EMDNA/mergeweight_tmean_BMA.mat',\n",
    "          '/Users/localuser/Research/EMDNA/mergeweight_trange_BMA.mat']\n",
    "for i in range(3):\n",
    "    print(i)\n",
    "    if os.path.isfile(outfile[i]):\n",
    "        continue\n",
    "    d = np.load(infile[i])\n",
    "    reamerge_weight_grid = d['reamerge_weight_grid']\n",
    "    latitude = d['latitude']\n",
    "    longitude = d['longitude']\n",
    "    io.savemat(outfile[i], {'reamerge_weight_grid':reamerge_weight_grid, 'latitude':latitude, 'longitude':longitude}, do_compression=True)\n",
    "    del d, reamerge_weight_grid, longitude, latitude"
   ]
  },
  {
   "cell_type": "code",
   "execution_count": 13,
   "metadata": {},
   "outputs": [
    {
     "name": "stdout",
     "output_type": "stream",
     "text": [
      "0\n",
      "1\n",
      "2\n"
     ]
    }
   ],
   "source": [
    "# bma merge and correction\n",
    "infile = ['/Users/localuser/Research/EMDNA/mergecorr_stn_prcp_GWRLS_BMA.npz',\n",
    "          '/Users/localuser/Research/EMDNA/mergecorr_stn_tmean_GWRLS_BMA.npz',\n",
    "          '/Users/localuser/Research/EMDNA/mergecorr_stn_trange_GWRLS_BMA.npz']\n",
    "outfile = ['/Users/localuser/Research/EMDNA/mergecorr_stn_prcp_GWRLS_BMA.mat',\n",
    "          '/Users/localuser/Research/EMDNA/mergecorr_stn_tmean_GWRLS_BMA.mat',\n",
    "          '/Users/localuser/Research/EMDNA/mergecorr_stn_trange_GWRLS_BMA.mat']\n",
    "for i in range(3):\n",
    "    print(i)\n",
    "    if os.path.isfile(outfile[i]):\n",
    "        continue\n",
    "    d = np.load(infile[i])\n",
    "    reamerge_stn = d['reamerge_stn']\n",
    "    reamerge_weight_stn = d['reamerge_weight_stn']\n",
    "    reacorr_stn=d['reacorr_stn']\n",
    "    date_ymd=d['date_ymd']\n",
    "    prefix=d['prefix']\n",
    "    stninfo=d['stninfo']\n",
    "    io.savemat(outfile[i], {'reamerge_stn':reamerge_stn,\n",
    "                            'reamerge_weight_stn':reamerge_weight_stn, 'date_ymd':date_ymd,\n",
    "                            'reacorr_stn1': reacorr_stn[0],'reacorr_stn2': reacorr_stn[1],'reacorr_stn3': reacorr_stn[2],\n",
    "                            'prefix':prefix,'stninfo':stninfo}, do_compression=True)\n",
    "    del d, reamerge_stn, reamerge_weight_stn, reacorr_stn, date_ymd, prefix, stninfo"
   ]
  },
  {
   "cell_type": "code",
   "execution_count": 18,
   "metadata": {},
   "outputs": [
    {
     "name": "stdout",
     "output_type": "stream",
     "text": [
      "0\n",
      "1\n",
      "2\n",
      "3\n"
     ]
    }
   ],
   "source": [
    "infile = ['/Users/localuser/Research/EMDNA/OImerge_stn_GWRBMA_pop.npz',\n",
    "          '/Users/localuser/Research/EMDNA/OImerge_stn_GWRLSBMA_prcp.npz',\n",
    "          '/Users/localuser/Research/EMDNA/OImerge_stn_GWRLSBMA_tmean.npz',\n",
    "          '/Users/localuser/Research/EMDNA/OImerge_stn_GWRLSBMA_trange.npz']\n",
    "outfile = ['/Users/localuser/Research/EMDNA/OImerge_stn_GWRBMA_pop.mat',\n",
    "          '/Users/localuser/Research/EMDNA/OImerge_stn_GWRLSBMA_prcp.mat',\n",
    "          '/Users/localuser/Research/EMDNA/OImerge_stn_GWRLSBMA_tmean.mat',\n",
    "          '/Users/localuser/Research/EMDNA/OImerge_stn_GWRLSBMA_trange.mat']\n",
    "for i in range(4):\n",
    "    print(i)\n",
    "    if os.path.isfile(outfile[i]):\n",
    "        continue\n",
    "    d = np.load(infile[i])\n",
    "    oimerge_stn = d['oimerge_stn']\n",
    "    stninfo = d['stninfo']\n",
    "    date_ymd = d['date_ymd']\n",
    "    stnID = d['stnID']\n",
    "    io.savemat(outfile[i], {'oimerge_stn':oimerge_stn, 'stninfo':stninfo,'date_ymd':date_ymd,'stnID':stnID}, do_compression=True)\n",
    "    del d, oimerge_stn, stninfo, date_ymd, stnID\n"
   ]
  },
  {
   "cell_type": "code",
   "execution_count": 20,
   "metadata": {},
   "outputs": [],
   "source": [
    "infile = '/Users/localuser/Research/EMDNA/merge_stn_pop_GWR_BMA.npz'\n",
    "outfile = '/Users/localuser/Research/EMDNA/merge_stn_pop_GWR_BMA.mat'\n",
    "if not os.path.isfile(outfile):\n",
    "    d = np.load(infile)\n",
    "    reamerge_weight_stn = d['reamerge_weight_stn']\n",
    "    reamerge_stn = d['reamerge_stn']\n",
    "    del d\n",
    "    io.savemat(outfile, {'reamerge_weight_stn': reamerge_weight_stn, 'reamerge_stn': reamerge_stn}, do_compression=True)\n",
    "    del reamerge_stn, reamerge_weight_stn"
   ]
  },
  {
   "cell_type": "code",
   "execution_count": 25,
   "metadata": {},
   "outputs": [],
   "source": [
    "infile = '/Users/localuser/Research/EMDNA/MERRA2_rawds/MERRA2_ds_tmean_201808.npz'\n",
    "outfile = '/Users/localuser/Research/EMDNA/MERRA2_rawds/MERRA2_ds_tmean_201808.mat'\n",
    "if not os.path.isfile(outfile):\n",
    "    d = np.load(infile)\n",
    "    data = d['data']\n",
    "    io.savemat(outfile, {'data': data}, do_compression=True)"
   ]
  },
  {
   "cell_type": "code",
   "execution_count": 32,
   "metadata": {},
   "outputs": [],
   "source": [
    "infile = '/Users/localuser/Research/EMDNA/regression_stn.npz'\n",
    "outfile = '/Users/localuser/Research/EMDNA/regression_stn.mat'\n",
    "if not os.path.isfile(outfile):\n",
    "    d = np.load(infile)\n",
    "    prcp = d['prcp']\n",
    "    tmean = d['tmean']\n",
    "    trange = d['trange']\n",
    "    pop = d['pop']\n",
    "    date_ymd = d['date_ymd']\n",
    "    stnID = d['stnID']\n",
    "    stninfo = d['stninfo']\n",
    "    io.savemat(outfile, {'prcp': prcp, 'tmean': tmean, 'trange': trange, 'pop': pop,\n",
    "                         'stninfo':stninfo,'date_ymd':date_ymd,'stnID':stnID}, do_compression=True)"
   ]
  },
  {
   "cell_type": "code",
   "execution_count": 31,
   "metadata": {},
   "outputs": [
    {
     "data": {
      "text/plain": [
       "['prcp', 'tmean', 'trange', 'pop', 'stninfo', 'stnID', 'date_ymd']"
      ]
     },
     "execution_count": 31,
     "metadata": {},
     "output_type": "execute_result"
    }
   ],
   "source": [
    "d.files"
   ]
  },
  {
   "cell_type": "code",
   "execution_count": null,
   "metadata": {},
   "outputs": [],
   "source": []
  }
 ],
 "metadata": {
  "kernelspec": {
   "display_name": "Python 3",
   "language": "python",
   "name": "python3"
  },
  "language_info": {
   "codemirror_mode": {
    "name": "ipython",
    "version": 3
   },
   "file_extension": ".py",
   "mimetype": "text/x-python",
   "name": "python",
   "nbconvert_exporter": "python",
   "pygments_lexer": "ipython3",
   "version": "3.7.4"
  }
 },
 "nbformat": 4,
 "nbformat_minor": 4
}
