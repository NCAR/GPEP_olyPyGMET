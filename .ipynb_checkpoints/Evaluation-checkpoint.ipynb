{
 "cells": [
  {
   "cell_type": "code",
   "execution_count": 2,
   "metadata": {},
   "outputs": [
    {
     "name": "stderr",
     "output_type": "stream",
     "text": [
      "/usr/local/lib/python3.7/site-packages/numpy/lib/function_base.py:390: RuntimeWarning: Mean of empty slice.\n",
      "  avg = a.mean(axis)\n",
      "/usr/local/lib/python3.7/site-packages/numpy/core/_methods.py:154: RuntimeWarning: invalid value encountered in true_divide\n",
      "  ret, rcount, out=ret, casting='unsafe', subok=False)\n",
      "/usr/local/lib/python3.7/site-packages/numpy/lib/function_base.py:2526: RuntimeWarning: Degrees of freedom <= 0 for slice\n",
      "  c = cov(x, y, rowvar)\n",
      "/usr/local/lib/python3.7/site-packages/numpy/lib/function_base.py:2455: RuntimeWarning: divide by zero encountered in true_divide\n",
      "  c *= np.true_divide(1, fact)\n",
      "/usr/local/lib/python3.7/site-packages/numpy/lib/function_base.py:2455: RuntimeWarning: invalid value encountered in multiply\n",
      "  c *= np.true_divide(1, fact)\n",
      "/Users/localuser/Github/PyGMET/auxiliary.py:150: RuntimeWarning: Mean of empty slice\n",
      "  metout[1] = np.nanmean(pre - obs)  # ME\n",
      "/Users/localuser/Github/PyGMET/auxiliary.py:151: RuntimeWarning: Mean of empty slice\n",
      "  metout[2] = np.nanmean(np.abs(pre - obs))  # MAE\n",
      "/Users/localuser/Github/PyGMET/auxiliary.py:152: RuntimeWarning: invalid value encountered in true_divide\n",
      "  metout[3] = np.sqrt(np.sum(np.square(obs - pre)) / len(obs))  # RMSE\n"
     ]
    },
    {
     "name": "stdout",
     "output_type": "stream",
     "text": [
      "[ 0.75860596 -0.02266114  2.41889808  3.12342345]\n",
      "[0.75558377 0.00402423 2.45591684 3.16678333]\n"
     ]
    }
   ],
   "source": [
    "import numpy as np\n",
    "import auxiliary as au\n",
    "file1='/Users/localuser/Downloads/stndata_whole.npz'\n",
    "file2='/Users/localuser/Downloads/mergecorr_trange_RMSE.npz'\n",
    "file3='/Users/localuser/Research/Test/mergecorr_trange_RMSE.npz'\n",
    "d1=np.load(file1)\n",
    "d2=np.load(file2)\n",
    "d3=np.load(file3)\n",
    "trange1=d1['trange_stn']\n",
    "trange2=d2['reacorr_stn'][0]\n",
    "trange3=d3['reacorr_stn'][0]\n",
    "nstn,ntimes=np.shape(trange1)\n",
    "met=np.zeros([2,nstn,4])\n",
    "for i in range(nstn):\n",
    "    met[0,i,:] = au.metric(trange1[i],trange2[i])\n",
    "    met[1,i,:] = au.metric(trange1[i],trange3[i])\n",
    "for i in range(2):\n",
    "    print(np.nanmean(met[i],axis=0))"
   ]
  },
  {
   "cell_type": "code",
   "execution_count": 7,
   "metadata": {},
   "outputs": [
    {
     "data": {
      "text/plain": [
       "['pcp_err_stn_bc',\n",
       " 'pcp_err_stn_raw',\n",
       " 'tmean_err_stn',\n",
       " 'trange_err_stn',\n",
       " 'stninfo']"
      ]
     },
     "execution_count": 7,
     "metadata": {},
     "output_type": "execute_result"
    }
   ],
   "source": [
    "file='/Users/localuser/Downloads/error_19800101-19800131.npz'\n",
    "d=np.load(file)\n",
    "d.files"
   ]
  },
  {
   "cell_type": "code",
   "execution_count": null,
   "metadata": {},
   "outputs": [],
   "source": [
    "nstn"
   ]
  }
 ],
 "metadata": {
  "kernelspec": {
   "display_name": "Python 3",
   "language": "python",
   "name": "python3"
  },
  "language_info": {
   "codemirror_mode": {
    "name": "ipython",
    "version": 3
   },
   "file_extension": ".py",
   "mimetype": "text/x-python",
   "name": "python",
   "nbconvert_exporter": "python",
   "pygments_lexer": "ipython3",
   "version": "3.7.4"
  }
 },
 "nbformat": 4,
 "nbformat_minor": 4
}
