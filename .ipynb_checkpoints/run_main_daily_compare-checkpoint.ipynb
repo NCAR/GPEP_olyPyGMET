{
 "cells": [
  {
   "cell_type": "code",
   "execution_count": 1,
   "id": "de2845f6-47d9-4eca-be5a-3c094a2c3a4e",
   "metadata": {},
   "outputs": [],
   "source": [
    "import numpy as np\n",
    "import netCDF4 as nc\n",
    "import auxiliary as au\n",
    "import regression as reg\n",
    "import datetime as dt\n",
    "from matplotlib import pyplot as plt\n",
    "from scipy import io\n",
    "import os\n",
    "import sys\n",
    "import xarray as xr"
   ]
  },
  {
   "cell_type": "code",
   "execution_count": 2,
   "id": "f39ce41b-57fd-4aab-a0a4-234f87c8f424",
   "metadata": {},
   "outputs": [],
   "source": [
    "\n",
    "########################################################################################################################\n",
    "# date_cal_start = int(sys.argv[1]) # yyyymmdd\n",
    "# date_cal_end = int(sys.argv[2])\n",
    "\n",
    "# 0. read/define configuration information\n",
    "\n",
    "# setting: start and end date\n",
    "# calculation start/end date:\n",
    "date_cal_start = 20170201  # yyyymmdd: start date\n",
    "date_cal_end = 20170215  # yyyymmdd: end date\n",
    "# station data (in PathStn) start/end date:\n",
    "date_stn_start = 20170201  # yyyymmdd: start date\n",
    "date_stn_end = 20170228  # yyyymmdd: end date\n",
    "\n",
    "# setting: paramters for lag correlation of tmean_stn_daily, and cross-correlation between prcp and trange_stn_daily\n",
    "windows = 1  # parameters for auto-cc t-p-cc calculation: 1 could be better than 31\n",
    "lag = 1\n",
    "\n",
    "# setting: searching nearby stations\n",
    "nearstn_min = 30  # nearby stations: minimum number\n",
    "nearstn_max = 30  # nearby stations: maximum number\n",
    "search_radius = 400  # km. only search stations within this radius even nearstn_max cannot be reached\n",
    "max_dist = 100  # max_distance in distance-based weight calculation\n",
    "\n",
    "# setting: parameters for transforming temp to approximate normal distribution\n",
    "trans_mode = 'none'  # box-cox or power-law or none\n",
    "trans_exp_daily = 4\n",
    "\n",
    "# setting: overwrite flags. -1:don't save files; 0: don't overwrite files; 1 is to overwrite existing files;\n",
    "ow_daily = 0\n",
    "ow_weight = 0\n",
    "ow_stn = 0\n",
    "\n",
    "# setting: output files\n",
    "datestr = str(date_cal_start) + '-' + str(date_cal_end)\n",
    "\n",
    "\n",
    "### Mac settings\n",
    "FileStnInfo = '/Users/guoqiang/Github/forked-repo/GMET/test_cases/cali2017/inputs/CALI.screened_stn_list_slope.v3.csv'  # station basic information (lists)\n",
    "FileGridInfo = '/Users/guoqiang/Github/forked-repo/GMET/test_cases/cali2017/inputs/CALI.gridinfo.0625_v3.nc'  # study area information\n",
    "PathStn = '/Users/guoqiang/Github/forked-repo/GMET/test_cases/cali2017/stndata'\n",
    "\n",
    "outpath = './Andy_test_case1'\n",
    "os.makedirs(outpath, exist_ok=True)\n",
    "FileStnData = f'{outpath}/stndata_' + datestr + '.npz'\n",
    "FileWeight = f'{outpath}/weight_nearstn.npz'\n",
    "FileRegError_daily = f'{outpath}/error_notrans_' + datestr + '.npz'  # regression error at station points\n",
    "FileRegError_daily_corr = f'{outpath}/error_rescorr' + datestr + '.npz'\n",
    "FileRegression_daily = f'{outpath}/output_' + datestr + '.npz'\n",
    "FileRegression_daily_GMETstyle_error = f'{outpath}/output_' + datestr + '_GMETstyle_error.npz'\n",
    "### Mac settings\n"
   ]
  },
  {
   "cell_type": "code",
   "execution_count": 3,
   "id": "ca60420c-0ea5-4a2c-9694-749331f8462c",
   "metadata": {},
   "outputs": [
    {
     "name": "stdout",
     "output_type": "stream",
     "text": [
      "Read study area basic information\n"
     ]
    },
    {
     "name": "stderr",
     "output_type": "stream",
     "text": [
      "/Users/guoqiang/Github/meteorological_dataset/PyGMET/auxiliary.py:13: VisibleDeprecationWarning: Reading unicode strings without specifying the encoding argument is deprecated. Set the encoding, use None for the system default.\n",
      "  data = np.genfromtxt(FileStnInfo, delimiter=',', dtype=None, skip_header=2)\n"
     ]
    }
   ],
   "source": [
    "\n",
    "########################################################################################################################\n",
    "\n",
    "# 1. basic information\n",
    "\n",
    "print('Read study area basic information')\n",
    "# station location and attribute information\n",
    "# stninfo: [ stations, 1/lat/lon/elev/slope_ns/slope_we ]\n",
    "stnID, stninfo = au.readstnlist(FileStnInfo)\n",
    "nstn = len(stnID)\n",
    "\n",
    "# time information\n",
    "if date_cal_start < date_stn_start:\n",
    "    sys.exit('The calculation period is earlier than the station period')\n",
    "if date_cal_end > date_stn_end:\n",
    "    sys.exit('The calculation period is later than the station period')\n",
    "\n",
    "date_cal_start2 = dt.datetime.strptime(str(date_cal_start), '%Y%m%d')\n",
    "date_cal_end2 = dt.datetime.strptime(str(date_cal_end), '%Y%m%d')\n",
    "ntimes = (date_cal_end2 - date_cal_start2).days + 1  # time steps to be processed\n",
    "\n",
    "date_stn_start2 = dt.datetime.strptime(str(date_stn_start), '%Y%m%d')\n",
    "loc_start = (date_cal_start2 - date_stn_start2).days  # start location in the netcdf file\n",
    "loc_end = loc_start + ntimes\n",
    "\n",
    "# seconds since 1970-1-1 0:0:0\n",
    "daydiff = (date_cal_start2 - dt.datetime(1970, 1, 1)).days\n",
    "seconds = (np.arange(ntimes) + daydiff) * 86400\n",
    "\n",
    "# datelist: yyyymmdd\n",
    "yyyymmdd = np.zeros(ntimes, dtype=int)\n",
    "for d in range(ntimes):\n",
    "    dated = date_cal_start2 + dt.timedelta(days=d)\n",
    "    yyyymmdd[d] = int(dated.strftime(\"%Y%m%d\"))\n",
    "yyyymm = np.floor(yyyymmdd / 100).astype(int)\n",
    "mm = np.floor(np.mod(yyyymmdd, 10000) / 100).astype(int)\n"
   ]
  },
  {
   "cell_type": "code",
   "execution_count": 4,
   "id": "2c7786b6-8511-4a30-8ed7-6b0b1d065e5d",
   "metadata": {},
   "outputs": [
    {
     "name": "stdout",
     "output_type": "stream",
     "text": [
      "Read study area basic information\n"
     ]
    }
   ],
   "source": [
    "\n",
    "########################################################################################################################\n",
    "\n",
    "# 2. read study area basic information\n",
    "print('Read study area basic information')\n",
    "ncfid = nc.Dataset(FileGridInfo)\n",
    "gridlat = ncfid.variables['latitude'][:].data\n",
    "gridlon = ncfid.variables['longitude'][:].data\n",
    "gridele = ncfid.variables['elev'][:].data\n",
    "gridgns = ncfid.variables['gradient_n_s'][:].data\n",
    "gridgwe = ncfid.variables['gradient_w_e'][:].data\n",
    "mask = ncfid.variables['mask'][:].data  # 1: grids to be considered; the other values: invalid grids\n",
    "ncfid.close()\n",
    "\n",
    "nrows, ncols = np.shape(gridlat)\n",
    "gridinfo = np.zeros([nrows, ncols, 6])\n",
    "gridinfo[:, :, 0] = 1\n",
    "gridinfo[:, :, 1] = gridlat\n",
    "gridinfo[:, :, 2] = gridlon\n",
    "gridinfo[:, :, 3] = gridele\n",
    "gridinfo[:, :, 4] = gridgns\n",
    "gridinfo[:, :, 5] = gridgwe\n",
    "del gridlat, gridlon, gridele, gridgns, gridgwe"
   ]
  },
  {
   "cell_type": "code",
   "execution_count": 5,
   "id": "49800991-ca44-43f8-82ed-bade199c5eb3",
   "metadata": {},
   "outputs": [
    {
     "name": "stdout",
     "output_type": "stream",
     "text": [
      "Read station precipitation and temperature data\n",
      "FileStnData exists. loading ...\n"
     ]
    },
    {
     "ename": "KeyError",
     "evalue": "'prcp_stn_climo is not a file in the archive'",
     "output_type": "error",
     "traceback": [
      "\u001b[0;31m---------------------------------------------------------------------------\u001b[0m",
      "\u001b[0;31mKeyError\u001b[0m                                  Traceback (most recent call last)",
      "\u001b[0;32m/var/folders/pf/n30tfn0j0n93dr81jm369hyc0000gp/T/ipykernel_24342/3579068442.py\u001b[0m in \u001b[0;36m<module>\u001b[0;34m\u001b[0m\n\u001b[1;32m      9\u001b[0m         \u001b[0mtmean_stn_daily\u001b[0m \u001b[0;34m=\u001b[0m \u001b[0mdatatemp\u001b[0m\u001b[0;34m[\u001b[0m\u001b[0;34m'tmean_stn_daily'\u001b[0m\u001b[0;34m]\u001b[0m\u001b[0;34m\u001b[0m\u001b[0;34m\u001b[0m\u001b[0m\n\u001b[1;32m     10\u001b[0m         \u001b[0mtrange_stn_daily\u001b[0m \u001b[0;34m=\u001b[0m \u001b[0mdatatemp\u001b[0m\u001b[0;34m[\u001b[0m\u001b[0;34m'trange_stn_daily'\u001b[0m\u001b[0;34m]\u001b[0m\u001b[0;34m\u001b[0m\u001b[0;34m\u001b[0m\u001b[0m\n\u001b[0;32m---> 11\u001b[0;31m         \u001b[0mprcp_stn_climo\u001b[0m \u001b[0;34m=\u001b[0m \u001b[0mdatatemp\u001b[0m\u001b[0;34m[\u001b[0m\u001b[0;34m'prcp_stn_climo'\u001b[0m\u001b[0;34m]\u001b[0m\u001b[0;34m\u001b[0m\u001b[0;34m\u001b[0m\u001b[0m\n\u001b[0m\u001b[1;32m     12\u001b[0m         \u001b[0mtmean_stn_climo\u001b[0m \u001b[0;34m=\u001b[0m \u001b[0mdatatemp\u001b[0m\u001b[0;34m[\u001b[0m\u001b[0;34m'tmean_stn_climo'\u001b[0m\u001b[0;34m]\u001b[0m\u001b[0;34m\u001b[0m\u001b[0;34m\u001b[0m\u001b[0m\n\u001b[1;32m     13\u001b[0m         \u001b[0mtrange_stn_climo\u001b[0m \u001b[0;34m=\u001b[0m \u001b[0mdatatemp\u001b[0m\u001b[0;34m[\u001b[0m\u001b[0;34m'trange_stn_climo'\u001b[0m\u001b[0;34m]\u001b[0m\u001b[0;34m\u001b[0m\u001b[0;34m\u001b[0m\u001b[0m\n",
      "\u001b[0;32m/opt/anaconda3/envs/general/lib/python3.9/site-packages/numpy/lib/npyio.py\u001b[0m in \u001b[0;36m__getitem__\u001b[0;34m(self, key)\u001b[0m\n\u001b[1;32m    258\u001b[0m                 \u001b[0;32mreturn\u001b[0m \u001b[0mself\u001b[0m\u001b[0;34m.\u001b[0m\u001b[0mzip\u001b[0m\u001b[0;34m.\u001b[0m\u001b[0mread\u001b[0m\u001b[0;34m(\u001b[0m\u001b[0mkey\u001b[0m\u001b[0;34m)\u001b[0m\u001b[0;34m\u001b[0m\u001b[0;34m\u001b[0m\u001b[0m\n\u001b[1;32m    259\u001b[0m         \u001b[0;32melse\u001b[0m\u001b[0;34m:\u001b[0m\u001b[0;34m\u001b[0m\u001b[0;34m\u001b[0m\u001b[0m\n\u001b[0;32m--> 260\u001b[0;31m             \u001b[0;32mraise\u001b[0m \u001b[0mKeyError\u001b[0m\u001b[0;34m(\u001b[0m\u001b[0;34m\"%s is not a file in the archive\"\u001b[0m \u001b[0;34m%\u001b[0m \u001b[0mkey\u001b[0m\u001b[0;34m)\u001b[0m\u001b[0;34m\u001b[0m\u001b[0;34m\u001b[0m\u001b[0m\n\u001b[0m\u001b[1;32m    261\u001b[0m \u001b[0;34m\u001b[0m\u001b[0m\n\u001b[1;32m    262\u001b[0m \u001b[0;34m\u001b[0m\u001b[0m\n",
      "\u001b[0;31mKeyError\u001b[0m: 'prcp_stn_climo is not a file in the archive'"
     ]
    }
   ],
   "source": [
    "\n",
    "########################################################################################################################\n",
    "\n",
    "# 3. read data (prcp, tmin, tmax) from station files\n",
    "print('Read station precipitation and temperature data')\n",
    "if os.path.isfile(FileStnData) and ow_stn != 1:\n",
    "    print('FileStnData exists. loading ...')\n",
    "    with np.load(FileStnData) as datatemp:\n",
    "        prcp_stn_daily = datatemp['prcp_stn_daily']\n",
    "        tmean_stn_daily = datatemp['tmean_stn_daily']\n",
    "        trange_stn_daily = datatemp['trange_stn_daily']\n",
    "        # prcp_stn_climo = datatemp['prcp_stn_climo']\n",
    "        # tmean_stn_climo = datatemp['tmean_stn_climo']\n",
    "        # trange_stn_climo = datatemp['trange_stn_climo']\n",
    "        # prcp_stn_anom = datatemp['prcp_stn_anom']\n",
    "        # tmean_stn_anom = datatemp['tmean_stn_anom']\n",
    "        # trange_stn_anom = datatemp['trange_stn_anom']\n",
    "else:\n",
    "    cai_mode = 0\n",
    "    prcp_stn_daily, tmean_stn_daily, trange_stn_daily, \\\n",
    "    prcp_stn_climo, tmean_stn_climo, trange_stn_climo, \\\n",
    "    prcp_stn_anom, tmean_stn_anom, trange_stn_anom \\\n",
    "        = au.read_station(PathStn, stnID, loc_start, loc_end, cai_mode, yyyymm)\n",
    "    np.savez_compressed(FileStnData,\n",
    "                        prcp_stn_daily=prcp_stn_daily, tmean_stn_daily=tmean_stn_daily, trange_stn_daily=trange_stn_daily)\n",
    "    del prcp_stn_climo, tmean_stn_climo, trange_stn_climo, prcp_stn_anom, tmean_stn_anom, trange_stn_anom\n"
   ]
  },
  {
   "cell_type": "code",
   "execution_count": null,
   "id": "e89b9a02-9d0f-46c7-8ba4-e61c33e5ae24",
   "metadata": {},
   "outputs": [],
   "source": [
    "########################################################################################################################\n",
    "\n",
    "# 4. calculate auto_corr and t_p_corr\n",
    "print('Calculate correlation (auto_cc and t_p_cc)')\n",
    "mean_autocorr_daily, mean_tp_corr_daily = au.cc_calculate(windows, lag, prcp_stn_daily, tmean_stn_daily,\n",
    "                                                          trange_stn_daily)\n",
    "print('Tmean lag-1 daily autocorrelation: ', mean_autocorr_daily)\n",
    "print('Trange-prcp daily correlation: ', mean_tp_corr_daily)\n"
   ]
  },
  {
   "cell_type": "code",
   "execution_count": null,
   "id": "11b66d2e-6222-42a5-b103-2c378103d503",
   "metadata": {},
   "outputs": [],
   "source": [
    "\n",
    "########################################################################################################################\n",
    "\n",
    "# 5. find neighboring stations and calculate distance-based weights\n",
    "if os.path.isfile(FileWeight) and ow_weight != 1:\n",
    "    print('FileWeight exists. loading ...')\n",
    "    with np.load(FileWeight) as datatemp:\n",
    "        near_grid_prcpLoc = datatemp['near_grid_prcpLoc']\n",
    "        near_grid_prcpWeight = datatemp['near_grid_prcpWeight']\n",
    "        near_grid_tempLoc = datatemp['near_grid_tempLoc']\n",
    "        near_grid_tempWeight = datatemp['near_grid_tempWeight']\n",
    "        near_stn_prcpLoc = datatemp['near_stn_prcpLoc']\n",
    "        near_stn_prcpWeight = datatemp['near_stn_prcpWeight']\n",
    "        near_stn_tempLoc = datatemp['near_stn_tempLoc']\n",
    "        near_stn_tempWeight = datatemp['near_stn_tempWeight']\n",
    "    del datatemp\n",
    "else:\n",
    "    near_grid_prcpLoc, near_grid_prcpDist, near_grid_prcpWeight, \\\n",
    "    near_grid_tempLoc, near_grid_tempDist, near_grid_tempWeight, \\\n",
    "    near_stn_prcpLoc, near_stn_prcpDist, near_stn_prcpWeight, \\\n",
    "    near_stn_tempLoc, near_stn_tempDist, near_stn_tempWeight \\\n",
    "        = au.station_weight(prcp_stn_daily, tmean_stn_daily, stninfo, gridinfo, mask,\n",
    "                            search_radius, nearstn_min, nearstn_max, max_dist)\n",
    "\n",
    "    # save data\n",
    "    np.savez_compressed(FileWeight, near_grid_prcpLoc=near_grid_prcpLoc, near_grid_prcpDist=near_grid_prcpDist,\n",
    "                        near_grid_prcpWeight=near_grid_prcpWeight, near_grid_tempLoc=near_grid_tempLoc,\n",
    "                        near_grid_tempDist=near_grid_tempDist, near_grid_tempWeight=near_grid_tempWeight,\n",
    "                        near_stn_prcpLoc=near_stn_prcpLoc, near_stn_prcpDist=near_stn_prcpDist,\n",
    "                        near_stn_prcpWeight=near_stn_prcpWeight, near_stn_tempLoc=near_stn_tempLoc,\n",
    "                        near_stn_tempDist=near_stn_tempDist, near_stn_tempWeight=near_stn_tempWeight)\n"
   ]
  },
  {
   "cell_type": "code",
   "execution_count": null,
   "id": "88d73ccd-94a4-4c56-a83f-0ea33c6dd1b1",
   "metadata": {},
   "outputs": [],
   "source": [
    "\n",
    "########################################################################################################################\n",
    "\n",
    "# 6. start spatial regression\n",
    "\n",
    "########################################################################################################################\n",
    "\n",
    "# 6.1 estimate regression error at station points\n",
    "if os.path.isfile(FileRegError_daily) and ow_daily != 1:\n",
    "    print('FileRegError_daily exists. loading ...')\n",
    "    with np.load(FileRegError_daily) as datatemp:\n",
    "        pcp_err_stn_daily = datatemp['pcp_err_stn']\n",
    "        tmean_err_stn_daily = datatemp['tmean_err_stn']\n",
    "        trange_err_stn_daily = datatemp['trange_err_stn']\n",
    "    del datatemp\n",
    "else:\n",
    "    print('Estimate daily regression error at station points')\n",
    "    pcp_err_stn_daily, tmean_err_stn_daily, trange_err_stn_daily, pop_err_stn_daily = \\\n",
    "        reg.station_error(prcp_stn_daily, tmean_stn_daily, trange_stn_daily, stninfo, near_stn_prcpLoc,\n",
    "                          near_stn_prcpWeight, near_stn_tempLoc, near_stn_tempWeight, trans_exp_daily,\n",
    "                          trans_mode, nearstn_min)\n",
    "    np.savez_compressed(FileRegError_daily, pcp_err_stn=pcp_err_stn_daily, tmean_err_stn=tmean_err_stn_daily,\n",
    "                        trange_err_stn=trange_err_stn_daily, pop_err_stn=pop_err_stn_daily, stninfo=stninfo)\n"
   ]
  },
  {
   "cell_type": "code",
   "execution_count": null,
   "id": "76b8cbef-0050-4d20-814f-f1ddca5d29f1",
   "metadata": {},
   "outputs": [],
   "source": [
    "\n",
    "########################################################################################################################\n",
    "\n",
    "\n",
    "# 6.3 regression for each grid cell\n",
    "if (not os.path.isfile(FileRegression_daily)) or ow_daily == 1:\n",
    "    print('Locally weighted regression of daily precipitation and temperature')\n",
    "    pop_daily, pcp_daily, tmean_daily, trange_daily, pcp_err_daily, tmean_err_daily, trange_err_daily, y_max_daily = \\\n",
    "        reg.regression(prcp_stn_daily, tmean_stn_daily, trange_stn_daily, pcp_err_stn_daily, tmean_err_stn_daily,\n",
    "                       trange_err_stn_daily, stninfo, gridinfo, mask, near_grid_prcpLoc,\n",
    "                       near_grid_prcpWeight, near_grid_tempLoc, near_grid_tempWeight,\n",
    "                       nearstn_min, nearstn_max, trans_exp_daily, trans_mode)\n",
    "    np.savez_compressed(FileRegression_daily, pop=pop_daily, pcp=pcp_daily, tmean=tmean_daily, trange=trange_daily,\n",
    "                        pcp_err=pcp_err_daily, tmean_err=tmean_err_daily, trange_err=trange_err_daily,\n",
    "                        y_max=y_max_daily,mean_autocorr_daily=mean_autocorr_daily, mean_tp_corr_daily=mean_tp_corr_daily)\n",
    "    # au.save_output_nc(FileRegression_daily, gridinfo, seconds, mean_autocorr_daily, mean_tp_corr_daily,\n",
    "    #                   pop_daily, pcp_daily, tmean_daily, trange_daily,\n",
    "    #                   pcp_err_daily, tmean_err_daily, trange_err_daily, y_max_daily)\n"
   ]
  },
  {
   "cell_type": "code",
   "execution_count": null,
   "id": "47e3e44f-3140-4cf3-ba50-9970246c7857",
   "metadata": {},
   "outputs": [],
   "source": [
    "\n",
    "########################################################################################################################\n",
    "# same with 6.3, but different error estimation methods\n",
    "# 6.4 regression for each grid cell\n",
    "if (not os.path.isfile(FileRegression_daily_GMETstyle_error)) or ow_daily == 1:\n",
    "    print('Locally weighted regression of daily precipitation and temperature')\n",
    "    pop_daily, pcp_daily, tmean_daily, trange_daily, pcp_err_daily, tmean_err_daily, trange_err_daily, y_max_daily = \\\n",
    "        reg.regression(prcp_stn_daily, tmean_stn_daily, trange_stn_daily, pcp_err_stn_daily, tmean_err_stn_daily,\n",
    "                       trange_err_stn_daily, stninfo, gridinfo, mask, near_grid_prcpLoc,\n",
    "                       near_grid_prcpWeight, near_grid_tempLoc, near_grid_tempWeight,\n",
    "                       nearstn_min, nearstn_max, trans_exp_daily, trans_mode, uncert_mode='gmet_regression')\n",
    "    np.savez_compressed(FileRegression_daily_GMETstyle_error, pop=pop_daily, pcp=pcp_daily, tmean=tmean_daily, trange=trange_daily,\n",
    "                        pcp_err=pcp_err_daily, tmean_err=tmean_err_daily, trange_err=trange_err_daily,\n",
    "                        y_max=y_max_daily,mean_autocorr_daily=mean_autocorr_daily, mean_tp_corr_daily=mean_tp_corr_daily)\n",
    "    # au.save_output_nc(FileRegression_daily, gridinfo, seconds, mean_autocorr_daily, mean_tp_corr_daily,\n",
    "    #                   pop_daily, pcp_daily, tmean_daily, trange_daily,\n",
    "    #                   pcp_err_daily, tmean_err_daily, trange_err_daily, y_max_daily)"
   ]
  },
  {
   "cell_type": "code",
   "execution_count": null,
   "id": "1aff0035-278d-4c7c-a9b8-497d5e0664dd",
   "metadata": {},
   "outputs": [],
   "source": [
    "np.ceil(10/3)"
   ]
  },
  {
   "cell_type": "code",
   "execution_count": null,
   "id": "c1e2520d-2f97-4aef-9da8-fdcd4a787f33",
   "metadata": {},
   "outputs": [],
   "source": []
  }
 ],
 "metadata": {
  "kernelspec": {
   "display_name": "Python [conda env:general]",
   "language": "python",
   "name": "conda-env-general-py"
  },
  "language_info": {
   "codemirror_mode": {
    "name": "ipython",
    "version": 3
   },
   "file_extension": ".py",
   "mimetype": "text/x-python",
   "name": "python",
   "nbconvert_exporter": "python",
   "pygments_lexer": "ipython3",
   "version": "3.9.13"
  }
 },
 "nbformat": 4,
 "nbformat_minor": 5
}
