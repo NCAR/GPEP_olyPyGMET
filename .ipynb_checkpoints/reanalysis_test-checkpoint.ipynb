{
 "cells": [
  {
   "cell_type": "code",
   "execution_count": 78,
   "metadata": {},
   "outputs": [
    {
     "name": "stderr",
     "output_type": "stream",
     "text": [
      "/Users/localuser/Github/PyGMET/auxiliary.py:9: VisibleDeprecationWarning: Reading unicode strings without specifying the encoding argument is deprecated. Set the encoding, use None for the system default.\n",
      "  data = np.genfromtxt(FileStnInfo, delimiter=',', dtype=None, skip_header=2)\n",
      "/Users/localuser/Github/PyGMET/auxiliary.py:118: RuntimeWarning: invalid value encountered in double_scalars\n",
      "  np.sum((obs - obs_mean) ** 2, dtype=np.float64))\n",
      "/Users/localuser/Github/PyGMET/auxiliary.py:122: RuntimeWarning: invalid value encountered in double_scalars\n",
      "  (np.std(obs, dtype=np.float64) / obs_mean)\n",
      "/Users/localuser/Github/PyGMET/auxiliary.py:125: RuntimeWarning: divide by zero encountered in double_scalars\n",
      "  np.mean(obs, axis=0, dtype=np.float64)\n",
      "/usr/local/lib/python3.7/site-packages/ipykernel_launcher.py:109: RuntimeWarning: invalid value encountered in less\n",
      "/usr/local/lib/python3.7/site-packages/ipykernel_launcher.py:110: RuntimeWarning: invalid value encountered in less\n",
      "/usr/local/lib/python3.7/site-packages/ipykernel_launcher.py:111: RuntimeWarning: invalid value encountered in less\n",
      "/usr/local/lib/python3.7/site-packages/ipykernel_launcher.py:116: RuntimeWarning: invalid value encountered in true_divide\n",
      "/usr/local/lib/python3.7/site-packages/ipykernel_launcher.py:117: RuntimeWarning: invalid value encountered in true_divide\n",
      "/usr/local/lib/python3.7/site-packages/ipykernel_launcher.py:118: RuntimeWarning: invalid value encountered in true_divide\n"
     ]
    },
    {
     "name": "stdout",
     "output_type": "stream",
     "text": [
      "[0.23685379 0.5345758  0.66784552 1.45516153]\n",
      "[0.00474136 0.41814377 0.7788931  1.79598084]\n",
      "[-0.23047801  0.40624282  0.61775875  2.00318704]\n",
      "[0.26086337 0.52718207 0.66188216 1.41827526]\n"
     ]
    }
   ],
   "source": [
    "import numpy as np\n",
    "import auxiliary as au\n",
    "import netCDF4 as nc\n",
    "import os\n",
    "from matplotlib import pyplot as plt\n",
    "from scipy import io\n",
    "import seaborn as sns\n",
    "\n",
    "# 1. read and save\n",
    "# file = '/Users/localuser/GMET/JRA55_prcp_2018.nc4'\n",
    "# outfile = '/Users/localuser/GMET/JRA55_prcp_2018_sub.npz'\n",
    "#\n",
    "# ncfid = nc.Dataset(file)\n",
    "# pcp = ncfid['data'][:].data\n",
    "# pcp = np.transpose(pcp,[2,1,0])\n",
    "#\n",
    "# latrange = [5,85]\n",
    "# lonrange = [-180,-50]\n",
    "#\n",
    "# lattar = [35, 40]\n",
    "# lontar = [-110, -105]\n",
    "# nrows = int((lattar[1]-lattar[0])/0.1)\n",
    "# ncols = int((lontar[1]-lontar[0])/0.1)\n",
    "#\n",
    "# rowsta = int((latrange[1]-lattar[1])/0.1)\n",
    "# colsta = int((lontar[0]-lonrange[0])/0.1)\n",
    "#\n",
    "# pcptar = pcp[rowsta:rowsta+nrows, colsta:colsta+ncols, :]\n",
    "#\n",
    "# np.savez_compressed(outfile, pcprea = pcptar)\n",
    "\n",
    "# 2. compare the CDF of reanalysis and station data\n",
    "# read reanalysis data\n",
    "file1 = '/Users/localuser/GMET/ERA5_prcp_2018_sub.npz'\n",
    "file2 = '/Users/localuser/GMET/MERRA2_prcp_2018_sub.npz'\n",
    "file3 = '/Users/localuser/GMET/JRA55_prcp_2018_sub.npz'\n",
    "pcpera = np.load(file1)\n",
    "pcpera = pcpera['pcprea']\n",
    "pcpmerra = np.load(file2)\n",
    "pcpmerra = pcpmerra['pcprea']\n",
    "pcpjra = np.load(file3)\n",
    "pcpjra = pcpjra['pcprea']\n",
    "pcpera = np.flipud(pcpera)\n",
    "pcpmerra = np.flipud(pcpmerra)\n",
    "pcpjra = np.flipud(pcpjra)\n",
    "\n",
    "# read station info and grid info\n",
    "FileStnInfo = '/Users/localuser/GMET/pyGMET_exp/inputs/stnlist_example.txt'\n",
    "FileGridInfo = '/Users/localuser/GMET/pyGMET_exp/inputs/gridinfo_example.nc'\n",
    "stnID, stninfo = au.readstnlist(FileStnInfo)\n",
    "\n",
    "ncfid = nc.Dataset(FileGridInfo)\n",
    "gridlat = ncfid.variables['latitude'][:].data\n",
    "gridlon = ncfid.variables['longitude'][:].data\n",
    "gridele = ncfid.variables['elev'][:].data\n",
    "gridgns = ncfid.variables['gradient_n_s'][:].data\n",
    "gridgwe = ncfid.variables['gradient_w_e'][:].data\n",
    "mask = ncfid.variables['mask'][:].data  # 1: grids to be considered; the other values: invalid grids\n",
    "ncfid.close()\n",
    "\n",
    "# read station data\n",
    "FileStnData = '/Users/localuser/GMET/pyGMET_exp/station_data.npz'\n",
    "datatemp = np.load(FileStnData)\n",
    "prcp_stn_daily = datatemp['prcp_stn_daily']\n",
    "\n",
    "\n",
    "nrows, ncols = np.shape(gridlat)\n",
    "gridinfo = np.zeros([nrows, ncols, 6])\n",
    "gridinfo[:, :, 0] = 1\n",
    "gridinfo[:, :, 1] = gridlat\n",
    "gridinfo[:, :, 2] = gridlon\n",
    "gridinfo[:, :, 3] = gridele\n",
    "gridinfo[:, :, 4] = gridgns\n",
    "gridinfo[:, :, 5] = gridgwe\n",
    "del gridlat, gridlon, gridele, gridgns, gridgwe\n",
    "\n",
    "\n",
    "# loop stations\n",
    "nstn = len(stnID)\n",
    "gridlat = gridinfo[:, 1, 1]\n",
    "gridlon = gridinfo[1, :, 2]\n",
    "\n",
    "pcpera2 = np.zeros([nstn,365])\n",
    "pcpmerra2 = np.zeros([nstn,365])\n",
    "pcpjra2 = np.zeros([nstn,365])\n",
    "for i in range(nstn):\n",
    "    stnlat = stninfo[i, 1]\n",
    "    stnlon = stninfo[i, 2]\n",
    "    row = np.argmin(np.abs(stnlat - gridlat))\n",
    "    col = np.argmin(np.abs(stnlon - gridlon))\n",
    "\n",
    "    pcpera2[i,:] = pcpera[row, col,:]\n",
    "    pcpmerra2[i,:] = pcpmerra[row, col, :]\n",
    "    pcpjra2[i,:] = pcpjra[row, col, :]\n",
    "\n",
    "\n",
    "kgeera = np.zeros([nstn,4])\n",
    "kgemerra = np.zeros([nstn,4])\n",
    "kgejra = np.zeros([nstn,4])\n",
    "for i in range(nstn):\n",
    "    kgeera[i,:] = au.kge2012(prcp_stn_daily[i,:], pcpera2[i,:])\n",
    "    kgemerra[i, :] = au.kge2012(prcp_stn_daily[i, :], pcpmerra2[i, :])\n",
    "    kgejra[i, :] = au.kge2012(prcp_stn_daily[i, :], pcpjra2[i, :])\n",
    "\n",
    "# simple merge\n",
    "w1 = kgeera[:,0].copy()\n",
    "w2 = kgemerra[:,0].copy()\n",
    "w3 = kgejra[:,0].copy()\n",
    "w1[w1<0] = 0\n",
    "w2[w2<0] = 0\n",
    "w3[w3<0] = 0\n",
    "w1 = w1 ** 2\n",
    "w2 = w2 ** 2\n",
    "w3 = w3 ** 2\n",
    "wsum = w1 + w2 + w3\n",
    "w1 = w1 / wsum\n",
    "w2 = w2 / wsum\n",
    "w3 = w3 / wsum\n",
    "w1[wsum == 0] = 1/3\n",
    "w2[wsum == 0] = 1/3\n",
    "w3[wsum == 0] = 1/3\n",
    "\n",
    "pcpmerge = np.zeros([nstn,365])\n",
    "for i in range(nstn):\n",
    "    pcpmerge[i,:] = w1[i]*pcpera2[i,:] + w2[i]*pcpmerra2[i,:]+w3[i]*pcpjra2[i,:]\n",
    "\n",
    "kgemerge = np.zeros([nstn,4])\n",
    "for i in range(nstn):\n",
    "    kgemerge[i, :] = au.kge2012(prcp_stn_daily[i, :], pcpmerge[i, :])\n",
    "\n",
    "print(np.nanmedian(kgeera,axis=0))\n",
    "print(np.nanmedian(kgemerra,axis=0))\n",
    "print(np.nanmedian(kgejra,axis=0))\n",
    "print(np.nanmedian(kgemerge,axis=0))"
   ]
  },
  {
   "cell_type": "code",
   "execution_count": 79,
   "metadata": {},
   "outputs": [
    {
     "data": {
      "text/plain": [
       "<matplotlib.legend.Legend at 0x137102ad0>"
      ]
     },
     "execution_count": 79,
     "metadata": {},
     "output_type": "execute_result"
    },
    {
     "data": {
      "image/png": "[encoded data removed]",
      "text/plain": [
       "<Figure size 432x288 with 1 Axes>"
      ]
     },
     "metadata": {
      "needs_background": "light"
     },
     "output_type": "display_data"
    }
   ],
   "source": [
    "plt.plot(kgemerge[:,0])\n",
    "plt.plot(kgeera[:,0])\n",
    "plt.legend(['merge','era'])"
   ]
  },
  {
   "cell_type": "code",
   "execution_count": 86,
   "metadata": {},
   "outputs": [
    {
     "data": {
      "text/plain": [
       "0.10043197304031243"
      ]
     },
     "execution_count": 86,
     "metadata": {},
     "output_type": "execute_result"
    }
   ],
   "source": [
    "file='/Users/localuser/Downloads/提取表格/整理血常规和CRP.xlsx'"
   ]
  },
  {
   "cell_type": "code",
   "execution_count": null,
   "metadata": {},
   "outputs": [],
   "source": []
  }
 ],
 "metadata": {
  "kernelspec": {
   "display_name": "Python 3",
   "language": "python",
   "name": "python3"
  },
  "language_info": {
   "codemirror_mode": {
    "name": "ipython",
    "version": 3
   },
   "file_extension": ".py",
   "mimetype": "text/x-python",
   "name": "python",
   "nbconvert_exporter": "python",
   "pygments_lexer": "ipython3",
   "version": "3.7.4"
  }
 },
 "nbformat": 4,
 "nbformat_minor": 4
}
