{
 "cells": [
  {
   "cell_type": "code",
   "execution_count": 109,
   "metadata": {},
   "outputs": [],
   "source": [
    "\n",
    "import numpy as np\n",
    "from scipy import io\n",
    "import os, sys, time\n",
    "import netCDF4 as nc\n",
    "from transform_functions import sfun, sfun_invint\n",
    "from scipy import optimize\n",
    "import lmoments3 as lm\n",
    "from scipy.special import erfc, erfinv\n",
    "\n",
    "\n",
    "def of_fun(param, p, num):\n",
    "    pt = sfun(p, num, param)\n",
    "    # lmoms = lmom.samlmu(pt, nmom=4)\n",
    "    lmoms = lm.lmom_ratios(pt, nmom=4)\n",
    "    l_skewness = lmoms[2]\n",
    "    l_kurtosis = lmoms[3]\n",
    "    of = (l_skewness) ** 2 + (l_kurtosis - 0.1226) ** 2\n",
    "    return of\n",
    "\n",
    "def of_solve_para(i, pi, tn1, tn2):\n",
    "    out = np.zeros([tn2-tn1+1,2])\n",
    "    # for t in range(3, 20):\n",
    "    for t in range(tn1-1, tn2):\n",
    "        paramrc = optimize.fmin(of_fun, 0.1, (pi, t + 1), disp=False)\n",
    "        out[t-tn1+1, 0] = paramrc\n",
    "        out[t-tn1+1, 1] = of_fun(paramrc, pi, t + 1)\n",
    "    return (i, out)\n",
    "\n",
    "def trans_prcp(p, tn, param):\n",
    "    p = p.copy()\n",
    "    ind = p > 0\n",
    "    p[~ind] = np.nan\n",
    "    if np.sum(ind) > 0:\n",
    "        p[ind] = sfun(p[ind], tn, param)\n",
    "    return p\n",
    "\n",
    "def idw_int(data, ll1, ll2):\n",
    "    # inverse distance interpolation\n",
    "    num = np.shape(ll2)[0]\n",
    "    dout = np.nan * np.zeros(num)\n",
    "    ind = ~np.isnan(data)\n",
    "    if np.sum(ind) > 10:\n",
    "        ll1 = ll1[ind, :]\n",
    "        data = data[ind]\n",
    "        for i in range(num):\n",
    "            dist = (ll1[:,0]-ll2[i,0]) ** 2 + (ll1[:,1]-ll2[i,1]) ** 2\n",
    "            dsort = np.argsort(dist)\n",
    "            dsort = dsort[:10] # we use 10 stations here\n",
    "            dist = dist[dsort]\n",
    "            weight = 1/dist\n",
    "            weight = weight/np.sum(weight)\n",
    "            dout[i] = np.sum(weight * data[dsort])\n",
    "    return dout\n",
    "\n",
    "def findmax(data, ll1, ll2):\n",
    "    num = np.shape(ll2)[0]\n",
    "    ind = ~np.isnan(data)\n",
    "    ll1 = ll1[ind, :]\n",
    "    data = data[ind]\n",
    "    dout = np.nan * np.zeros(num)\n",
    "    for i in range(num):\n",
    "        dist = (ll1[:, 0] - ll2[i, 0]) ** 2 + (ll1[:, 1] - ll2[i, 1]) ** 2\n",
    "        dsort = np.argsort(dist)\n",
    "        dout[i] = np.max(data[dsort[:25]]) # we use 25 stations here\n",
    "    return dout\n",
    "        \n",
    "########################################################################################################################\n",
    "\n",
    "# time periods and methods\n",
    "# year = int(sys.argv[1])  # prcp only\n",
    "# transn = int(sys.argv[2])\n",
    "# month = [1, 12]\n",
    "year = 2016  # prcp only\n",
    "transn = 1\n",
    "month = [1, 2]\n",
    "\n",
    "########################################################################################################################\n",
    "\n",
    "### Local Mac settings\n",
    "# input files/paths\n",
    "FileGridInfo = '/Users/localuser/Research/EMDNA/basicinfo/gridinfo_whole.nc'\n",
    "path_bac = '/Users/localuser/Research/EMDNA/merge' # data that will be used as background\n",
    "path_obs = '/Users/localuser/Research/EMDNA/regression' # data that will be used as observation\n",
    "near_file_GMET = '/Users/localuser/Research/EMDNA/regression/weight_nearstn.npz' # near station of stations/grids\n",
    "file_mask = './DEM/NA_DEM_010deg_trim.mat'\n",
    "FileStnInfo = '/Users/localuser/Research/EMDNA/basicinfo/stnlist_whole.txt'\n",
    "gmet_stndatafile = '/Users/localuser/Research/EMDNA/stndata_aftercheck.npz'\n",
    "filemerge_stn = '/Users/localuser/Research/EMDNA/OImerge_stn_GWRLSBMA_prcp.npz'\n",
    "\n",
    "# output files/paths (can also be used as inputs once generated)\n",
    "path_oimerge = '/Users/localuser/Research/EMDNA/oimerge'\n",
    "path_oipop = path_oimerge\n",
    "### Local Mac settings\n",
    "\n",
    "\n",
    "### Graham settings\n",
    "# input files/paths\n",
    "# FileGridInfo = '/home/gut428/projects/rpp-kshook/gut428/EMDNA_new/StnGridInfo/gridinfo_whole.nc'\n",
    "# gmet_stndatafile = '/home/gut428/projects/rpp-kshook/gut428/EMDNA_new/stndata_aftercheck.npz'\n",
    "# file_mask = '/home/gut428/projects/rpp-kshook/gut428/EMDNA_new/DEM/NA_DEM_010deg_trim.mat'\n",
    "# path_oimerge = '/home/gut428/projects/rpp-kshook/gut428/EMDNA_new/OImerge_GWRLSBMA'\n",
    "# outpath = '/home/gut428/scratch/OIprcp_transform'\n",
    "#\n",
    "# near_file_GMET = '/datastore/GLOBALWATER/CommonData/EMDNA_new/stn_reg_aftercheck/nearstn_catalog.npz'\n",
    "\n",
    "# for the transformation methods used, whether zero can be transformed\n",
    "# allowzero = [0, 0, 0, 0, 0, 0, 0, 0, 0, 0, 0, 0, 0, 0, 0, 0, 0, 0, 0, 0]\n",
    "path_trans = '/Users/localuser/Research/EMDNA/OIprcp_transform'\n",
    "path_validate = '/Users/localuser/Research/EMDNA/validate'\n",
    "path_ensval = '/Users/localuser/Research/EMDNA/ens_evaluation'\n",
    "path_scrf = '/Users/localuser/Research/EMDNA/scrf'\n"
   ]
  },
  {
   "cell_type": "code",
   "execution_count": 110,
   "metadata": {},
   "outputs": [],
   "source": [
    "\n",
    "# basic processing\n",
    "mask = io.loadmat(file_mask)\n",
    "mask = mask['DEM']\n",
    "mask[~np.isnan(mask)] = 1  # 1: valid pixels\n",
    "nrows, ncols = np.shape(mask)\n",
    "\n",
    "# meshed lat/lon of the target region\n",
    "ncfid = nc.Dataset(FileGridInfo)\n",
    "lattarm = ncfid.variables['latitude'][:].data\n",
    "lattarm = np.flipud(lattarm)\n",
    "lontarm = ncfid.variables['longitude'][:].data\n",
    "ncfid.close()\n",
    "lontar = lontarm[0, :]\n",
    "lattar = lattarm[:, 0]\n",
    "\n",
    "# load observations for all stations\n",
    "datatemp = np.load(gmet_stndatafile)\n",
    "date_ymd = datatemp['date_ymd']\n",
    "del datatemp\n",
    "date_yyyy = (date_ymd / 10000).astype(int)\n",
    "date_mm = (np.mod(date_ymd, 10000) / 100).astype(int)\n",
    "\n",
    "########################################################################################################################\n",
    "\n",
    "# load station points that will be used for testing\n",
    "file = path_ensval + '/stn_prcp_' + str(year) + '.mat'\n",
    "stndata0 = io.loadmat(file)\n",
    "stnlle = stndata0['LLE']\n",
    "stndata = stndata0['data_stn']\n",
    "stndate = stndata0['date']\n",
    "nstn = np.shape(stnlle)[0]\n",
    "\n",
    "# calculate the grid index that corresponds to each stations\n",
    "stnrc = np.zeros([nstn, 2], dtype=int)\n",
    "for i in range(nstn):\n",
    "    stnrc[i, 0] = np.argmin(np.abs(stnlle[i,0] - lattar))\n",
    "    stnrc[i, 1] = np.argmin(np.abs(stnlle[i, 1] - lontar))\n",
    "\n",
    "# extract data for the month\n",
    "stnmm = (np.mod(stndate, 10000) / 100).astype(int)\n",
    "ind = (stnmm >= month[0]) & (stnmm <= month[1])\n",
    "stndate = stndate[ind]\n",
    "stnmm = stnmm[ind]\n",
    "stndata = stndata[np.squeeze(ind), :]\n",
    "\n",
    "ndays = len(stndate)"
   ]
  },
  {
   "cell_type": "code",
   "execution_count": 111,
   "metadata": {},
   "outputs": [],
   "source": [
    "# load transformation parameters\n",
    "trans_param = np.nan * np.zeros([nstn, 12])\n",
    "if transn > 3:\n",
    "    for m in range(month[0]-1, month[1]):\n",
    "        filem = path_trans + '/prcp_trans_param_' + str(m+1) + '_TN' + str(transn) + '-' + str(transn) + '.mat'\n",
    "        datatemp = io.loadmat(filem)\n",
    "        param = datatemp['param']\n",
    "        for i in range(nstn):\n",
    "            trans_param[i, m] = param[stnrc[i,0], stnrc[i,1], 0, 0]\n",
    "        del param\n",
    "        # constrain\n",
    "        temp = trans_param[:, m]\n",
    "        temp[temp>np.percentile(temp,99)] = np.percentile(temp,99)\n",
    "        temp[temp < np.percentile(temp, 1)] = np.percentile(temp, 1)\n",
    "        trans_param[:, m] = temp"
   ]
  },
  {
   "cell_type": "code",
   "execution_count": 112,
   "metadata": {},
   "outputs": [],
   "source": [
    "oidata = np.nan * np.zeros([ndays, nstn])\n",
    "oidata_raw = np.nan * np.zeros([ndays, nstn])\n",
    "for m in range(month[0]-1, month[1]):\n",
    "    fileoi = path_oimerge + '/oimerge_prcp' + str(year * 100 + m + 1) + '.npz'\n",
    "    datatemp = np.load(fileoi)\n",
    "    prcp = datatemp['oi_value']  # value in normal space\n",
    "    del datatemp\n",
    "\n",
    "    # extract data corresponding to station points and convert data from natural space to normal space\n",
    "    # zero P will be nan\n",
    "    indm = stnmm == m + 1\n",
    "    ndaysm = np.shape(prcp)[2]\n",
    "    for i in range(nstn):\n",
    "        # prcp value\n",
    "        oidata_raw[indm, i] = prcp[stnrc[i,0], stnrc[i,1], :]\n",
    "        oidata[indm, i] = trans_prcp(prcp[stnrc[i,0], stnrc[i,1], :], transn, trans_param[i, m])\n",
    "        "
   ]
  },
  {
   "cell_type": "code",
   "execution_count": 113,
   "metadata": {},
   "outputs": [],
   "source": [
    "\n",
    "# load oimerge data at stations\n",
    "datatemp = np.load(filemerge_stn)\n",
    "oimerge_stn = datatemp['oimerge_stn']\n",
    "oimerge_date = datatemp['date_ymd']\n",
    "oimerge_stninfo = datatemp['stninfo']\n",
    "oimerge_yyyy = (oimerge_date/10000).astype(int)\n",
    "oimerge_stn = oimerge_stn[:, oimerge_yyyy == year]\n",
    "oimerge_date = oimerge_date[oimerge_yyyy == year]\n",
    "oimerge_mm = (np.mod(oimerge_date, 10000) / 100).astype(int)\n",
    "del datatemp\n",
    "nstn_all = np.shape(oimerge_stn)[0]\n",
    "\n",
    "# load obs data at stations\n",
    "datatemp = np.load(gmet_stndatafile)\n",
    "obs_stn = datatemp['prcp_stn']\n",
    "obs_stn = obs_stn[:, oimerge_yyyy == year]\n",
    "del datatemp\n",
    "\n",
    "ind = (oimerge_mm >= month[0]) & (oimerge_mm <= month[1])\n",
    "oimerge_stn = oimerge_stn[:, ind]\n",
    "obs_stn = obs_stn[:, ind]\n",
    "oimerge_mm = oimerge_mm[ind]\n",
    "\n",
    "# normal error at stations\n",
    "stnrc_all = np.zeros([nstn_all, 2], dtype=int)\n",
    "for i in range(nstn):\n",
    "    stnrc_all[i, 0] = np.argmin(np.abs(oimerge_stninfo[i, 1] - lattar))\n",
    "    stnrc_all[i, 1] = np.argmin(np.abs(oimerge_stninfo[i, 2] - lontar))\n",
    "\n",
    "    \n",
    "# load transformation parameters\n",
    "trans_param_all = np.nan * np.zeros([nstn_all, 12])\n",
    "if transn > 3:\n",
    "    for m in range(month[0]-1, month[1]):\n",
    "        filem = path_trans + '/prcp_trans_param_' + str(m+1) + '_TN' + str(transn) + '-' + str(transn) + '.mat'\n",
    "        datatemp = io.loadmat(filem)\n",
    "        param = datatemp['param']\n",
    "        for i in range(nstn):\n",
    "            trans_param_all[i, m] = param[stnrc_all[i,0], stnrc_all[i,1], 0, 0]\n",
    "        del param\n",
    "        # constrain\n",
    "        temp = trans_param_all[:, m]\n",
    "        upb = np.percentile(temp[~np.isnan(temp)],99)\n",
    "        lwb = np.percentile(temp[~np.isnan(temp)],1)\n",
    "        temp[temp> upb] = upb\n",
    "        temp[temp < lwb] = lwb\n",
    "        trans_param_all[:, m] = temp"
   ]
  },
  {
   "cell_type": "code",
   "execution_count": 114,
   "metadata": {},
   "outputs": [
    {
     "name": "stderr",
     "output_type": "stream",
     "text": [
      "/usr/local/lib/python3.7/site-packages/ipykernel_launcher.py:31: RuntimeWarning: invalid value encountered in greater\n"
     ]
    }
   ],
   "source": [
    "err_stn_all = np.nan * np.zeros([ndays, nstn_all])\n",
    "for m in range(month[0]-1, month[1]):\n",
    "    indm = oimerge_mm==m+1\n",
    "    for i in range(nstn_all):\n",
    "        err_stn_all[indm, i]  = trans_prcp(oimerge_stn[i, indm], transn, trans_param_all[i, m]) - \\\n",
    "                            trans_prcp(obs_stn[i, indm], transn, trans_param_all[i, m])"
   ]
  },
  {
   "cell_type": "code",
   "execution_count": 115,
   "metadata": {},
   "outputs": [],
   "source": [
    "err_stn_all = err_stn_all ** 2\n",
    "oidata_err = np.nan * np.zeros([ndays, nstn])\n",
    "for i in range(ndays):\n",
    "    oidata_err[i, :] = idw_int(err_stn_all[i,:], oimerge_stninfo[:,1:3], stnlle[:,0:2])\n",
    "oidata_err = oidata_err ** 0.5"
   ]
  },
  {
   "cell_type": "code",
   "execution_count": 95,
   "metadata": {},
   "outputs": [],
   "source": [
    "# 3. prcp max\n",
    "prcp_max = np.nan * np.zeros([ndays, nstn])\n",
    "for i in range(ndays):\n",
    "    prcp_max[i, :] = findmax(obs_stn[:, i], oimerge_stninfo[:,1:3], stnlle[:,0:2])\n",
    "for m in range(month[0]-1, month[1]):\n",
    "    indm = stnmm == m + 1\n",
    "    for i in range(nstn):\n",
    "        prcp_max[indm, i] = trans_prcp(prcp_max[indm, i], transn, trans_param[i, m])"
   ]
  },
  {
   "cell_type": "code",
   "execution_count": 116,
   "metadata": {},
   "outputs": [],
   "source": [
    "# 4. pop\n",
    "oipop = np.nan * np.zeros([ndays, nstn])\n",
    "for m in range(month[0]-1, month[1]):\n",
    "    fileoi = path_oipop + '/oimerge_pop' + str(year * 100 + m + 1) + '.npz'\n",
    "    datatemp = np.load(fileoi)\n",
    "    pop = datatemp['oi_value']  # value in normal space\n",
    "    del datatemp\n",
    "    # extract data corresponding to station points and convert data from natural space to normal space\n",
    "    # zero P will be nan\n",
    "    indm = stnmm == m + 1\n",
    "    ndaysm = np.shape(pop)[2]\n",
    "    for i in range(nstn):\n",
    "        # prcp value\n",
    "        oipop[indm, i] = pop[stnrc[i,0], stnrc[i,1], :]"
   ]
  },
  {
   "cell_type": "code",
   "execution_count": 102,
   "metadata": {},
   "outputs": [],
   "source": [
    "scrf = np.nan * np.zeros([ndays, nstn, 1], dtype=np.float32)\n",
    "for m in range(month[0] - 1, month[1]):\n",
    "    indm = stnmm == m + 1\n",
    "    for e in range(1):\n",
    "        filem = '{}/scrf.{}.{:03d}.nc'.format(path_scrf, year*100 + m + 1, e+1)\n",
    "        ncfid = nc.Dataset(filem)\n",
    "        scrfme = ncfid.variables['pcp_rndnum'][:].data\n",
    "        scrfme = np.transpose(scrfme, [1, 2, 0])\n",
    "        scrfme = np.flipud(scrfme)\n",
    "        ncfid.close()\n",
    "        for i in range(nstn):\n",
    "            scrf[indm, i, e] = scrfme[stnrc_all[i,0], stnrc_all[i,1], :]\n",
    "# find cumulative probability\n",
    "acorr = scrf / np.sqrt(2)\n",
    "aprob = erfc(acorr)\n",
    "cprob = (2 - aprob) / 2"
   ]
  },
  {
   "cell_type": "code",
   "execution_count": 107,
   "metadata": {},
   "outputs": [
    {
     "name": "stderr",
     "output_type": "stream",
     "text": [
      "/usr/local/lib/python3.7/site-packages/ipykernel_launcher.py:23: RuntimeWarning: invalid value encountered in greater\n",
      "/Users/localuser/Github/PyGMET/transform_functions.py:81: RuntimeWarning: invalid value encountered in less\n",
      "  x[x < x0[0]] = x0[0]\n",
      "/Users/localuser/Github/PyGMET/transform_functions.py:82: RuntimeWarning: invalid value encountered in greater\n",
      "  x[x > x0[-1]] = x0[-1]\n",
      "/usr/local/lib/python3.7/site-packages/scipy/interpolate/interpolate.py:687: RuntimeWarning: invalid value encountered in less\n",
      "  below_bounds = x_new < self.x[0]\n",
      "/usr/local/lib/python3.7/site-packages/scipy/interpolate/interpolate.py:688: RuntimeWarning: invalid value encountered in greater\n",
      "  above_bounds = x_new > self.x[-1]\n",
      "/usr/local/lib/python3.7/site-packages/ipykernel_launcher.py:28: RuntimeWarning: invalid value encountered in less\n"
     ]
    },
    {
     "name": "stdout",
     "output_type": "stream",
     "text": [
      "3.297887086868286\n"
     ]
    }
   ],
   "source": [
    "# start ensemble estimation\n",
    "import time\n",
    "time1=time.time()\n",
    "ensdata = np.nan * np.zeros([ndays, nstn, 1], dtype=np.float32)\n",
    "for m in range(month[0] - 1, month[1]):\n",
    "    indm = stnmm == m + 1\n",
    "    for i in range(nstn):\n",
    "        popi = oipop[indm, i]\n",
    "        erri = oidata_err[indm, i].copy()\n",
    "        erri[erri<0.1] = 0.1\n",
    "        datai = oidata[indm, i]\n",
    "        prcp_maxi = prcp_max[indm, i]\n",
    "        for e in range(1):\n",
    "            ensdatae = np.nan * np.zeros(len(popi))\n",
    "            cprobie = cprob[indm, i, e]\n",
    "            indp0 = cprobie > 1 - popi\n",
    "\n",
    "            cs = (cprobie[indp0] - (1 - popi[indp0])) / popi[indp0]\n",
    "            rn = np.sqrt(2) * erfinv(2*cs-1)\n",
    "            rn[cs < 3e-5] = - 3.99\n",
    "            rn[cs >= 0.99997] = 3.99\n",
    "            ra = datai[indp0] + rn*erri[indp0]\n",
    "            indrep = ra > 1.5 * prcp_maxi[indp0]\n",
    "            ra[indrep] = 1.5 * prcp_maxi[indp0][indrep]\n",
    "\n",
    "            # back transformation\n",
    "            ra = sfun_invint(ra, transn, trans_param[i, m])\n",
    "            ra[ra<0.1] = 0.1\n",
    "            ensdatae[indp0] = ra\n",
    "            ensdatae[~indp0 | np.isnan(datai) | np.isnan(prcp_maxi)] = 0\n",
    "\n",
    "            ensdata[indm, i, e] = ensdatae\n",
    "            \n",
    "time2=time.time()\n",
    "print(time2-time1)"
   ]
  },
  {
   "cell_type": "code",
   "execution_count": 106,
   "metadata": {},
   "outputs": [
    {
     "data": {
      "text/plain": [
       "<matplotlib.legend.Legend at 0x134f73710>"
      ]
     },
     "execution_count": 106,
     "metadata": {},
     "output_type": "execute_result"
    },
    {
     "data": {
      "image/png": "[encoded data removed]",
      "text/plain": [
       "<Figure size 432x288 with 1 Axes>"
      ]
     },
     "metadata": {
      "needs_background": "light"
     },
     "output_type": "display_data"
    }
   ],
   "source": [
    "from matplotlib import pyplot as plt\n",
    "plt.plot(ensdata[:,4500])\n",
    "plt.plot(oidata_raw[:,4500])\n",
    "plt.legend(['ens','raw'])"
   ]
  },
  {
   "cell_type": "code",
   "execution_count": 108,
   "metadata": {},
   "outputs": [
    {
     "data": {
      "text/plain": [
       "330.0"
      ]
     },
     "execution_count": 108,
     "metadata": {},
     "output_type": "execute_result"
    }
   ],
   "source": [
    "3.3*100"
   ]
  },
  {
   "cell_type": "code",
   "execution_count": 42,
   "metadata": {},
   "outputs": [],
   "source": [
    "        popi = oipop[indm, i]\n",
    "        erri = oidata_err[indm, i].copy()\n",
    "        erri[erri<0.1] = 0.1\n",
    "        datai = oidata[indm, i]"
   ]
  },
  {
   "cell_type": "code",
   "execution_count": 43,
   "metadata": {},
   "outputs": [],
   "source": [
    "            ensdatae = np.nan * np.zeros(len(popi))\n",
    "            cprobie = cprob[indm, i, e]\n",
    "            indp0 = cprobie > 1 - popi\n",
    "            ensdatae[~indp0] = 0\n",
    "\n",
    "            cs = (cprobie[indp0] - (1 - popi[indp0])) / popi[indp0]\n",
    "            rn = np.sqrt(2) * erfinv(2*cs-1)\n",
    "            rn[cs < 3e-5] = - 3.99\n",
    "            rn[cs >= 0.99997] = 3.99\n",
    "            ra = datai[indp0] + rn*erri[indp0]\n",
    "\n",
    "            # back transformation\n",
    "            ra = sfun_invint(ra, transn, trans_param[i, m])\n",
    "            ensdatae[indp0] = ra\n",
    "            ensdata[indm, i, e] = ensdatae"
   ]
  },
  {
   "cell_type": "code",
   "execution_count": 126,
   "metadata": {},
   "outputs": [
    {
     "name": "stderr",
     "output_type": "stream",
     "text": [
      "/usr/local/lib/python3.7/site-packages/ipykernel_launcher.py:1: RuntimeWarning: invalid value encountered in greater\n",
      "  \"\"\"Entry point for launching an IPython kernel.\n"
     ]
    }
   ],
   "source": [
    "num = np.sum(stndata > -100, axis=0)"
   ]
  },
  {
   "cell_type": "code",
   "execution_count": 129,
   "metadata": {},
   "outputs": [
    {
     "data": {
      "text/plain": [
       "array([10, 10, 10, ..., 10, 10, 10])"
      ]
     },
     "execution_count": 129,
     "metadata": {},
     "output_type": "execute_result"
    }
   ],
   "source": [
    "num[:]=10\n",
    "num"
   ]
  },
  {
   "cell_type": "code",
   "execution_count": null,
   "metadata": {},
   "outputs": [],
   "source": []
  }
 ],
 "metadata": {
  "kernelspec": {
   "display_name": "Python 3",
   "language": "python",
   "name": "python3"
  },
  "language_info": {
   "codemirror_mode": {
    "name": "ipython",
    "version": 3
   },
   "file_extension": ".py",
   "mimetype": "text/x-python",
   "name": "python",
   "nbconvert_exporter": "python",
   "pygments_lexer": "ipython3",
   "version": "3.7.4"
  }
 },
 "nbformat": 4,
 "nbformat_minor": 4
}
