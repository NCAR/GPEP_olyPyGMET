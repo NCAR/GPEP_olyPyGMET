{
 "cells": [
  {
   "cell_type": "code",
   "execution_count": 2,
   "metadata": {},
   "outputs": [
    {
     "name": "stderr",
     "output_type": "stream",
     "text": [
      "/Users/localuser/Github/PyGMET/auxiliary.py:13: VisibleDeprecationWarning: Reading unicode strings without specifying the encoding argument is deprecated. Set the encoding, use None for the system default.\n",
      "  data = np.genfromtxt(FileStnInfo, delimiter=',', dtype=None, skip_header=2)\n"
     ]
    }
   ],
   "source": [
    "\n",
    "import numpy as np\n",
    "from matplotlib import pyplot as plt\n",
    "from scipy import io\n",
    "import os\n",
    "import sys\n",
    "from optimal_interpolation import OImerge\n",
    "import calendar\n",
    "import auxiliary as au\n",
    "from auxiliary_merge import *\n",
    "\n",
    "\n",
    "########################################################################################################################\n",
    "\n",
    "# basic settings\n",
    "# y1 = int(sys.argv[3])\n",
    "# y2 = int(sys.argv[4])\n",
    "# year = [y1, y2]\n",
    "year = [1980, 1980]\n",
    "weightmode = 'RMSE'\n",
    "vars = ['prcp', 'tmean', 'trange']\n",
    "\n",
    "# \"Gaussian\": prcp will be transformed into normal distributions; \"Actual\": actual space\n",
    "# \"Gaussian\" is not a good choice because station prcp regression using box-cox has large underestimation\n",
    "prcp_space = 'Actual'\n",
    "\n",
    "hwsize = 2  # 5X5 space window used to support estimation at the center grid\n",
    "lontar = np.arange(-180 + 0.05, -50, 0.1)\n",
    "lattar = np.arange(85 - 0.05, 5, -0.1)\n",
    "\n",
    "# output path of OImerged data\n",
    "path_oimerge = '/Users/localuser/GMET/merge'\n",
    "# path_oimerge = '/home/gut428/OImerge'\n",
    "\n",
    "# path of merged reanalysis data\n",
    "path_bac = '/Users/localuser/GMET/merge'\n",
    "path_bac_stn = '/Users/localuser/Research/Test'\n",
    "# path_bac = '/datastore/GLOBALWATER/CommonData/EMDNA/ReanalysisCorrMerge/Reanalysis_merge'\n",
    "# path_bac_stn = '/datastore/GLOBALWATER/CommonData/EMDNA/ReanalysisCorrMerge/CrossValidate_2layer'\n",
    "file_corrmerge_stn = [''] * len(vars)\n",
    "for i in range(len(vars)):\n",
    "    file_corrmerge_stn[i] = path_bac_stn + '/mergecorr_' + vars[i] + '_' + weightmode + '.npz'\n",
    "\n",
    "# path of regressed observations\n",
    "# path_obs = '/datastore/GLOBALWATER/CommonData/EMDNA/PyGMETout'\n",
    "path_obs = '/Users/localuser/GMET/merge'\n",
    "\n",
    "# the near stations of each station\n",
    "# near_file_GMET = '/datastore/GLOBALWATER/CommonData/EMDNA/PyGMETout/weight.npz'\n",
    "near_file_GMET = '/Users/localuser/GMET/pyGMET_NA/weight_nearstn.npz'\n",
    "\n",
    "# mask file\n",
    "# file_mask = '/datastore/GLOBALWATER/CommonData/EMDNA/DEM/NA_DEM_010deg_trim.mat'\n",
    "file_mask = './DEM/NA_DEM_010deg_trim.mat'\n",
    "\n",
    "# FileStnInfo = '/home/gut428/GMET/eCAI_EMDNA/StnGridInfo/stnlist_whole.txt'\n",
    "FileStnInfo = '/Users/localuser/GMET/pyGMET_NA/stnlist_whole.txt' \n",
    "########################################################################################################################\n",
    "\n",
    "# basic processing\n",
    "mask = io.loadmat(file_mask)\n",
    "mask = mask['DEM']\n",
    "mask[~np.isnan(mask)] = 1  # 1: valid pixels\n",
    "nrows, ncols = np.shape(mask)\n",
    "\n",
    "# date\n",
    "date_list, date_number = m_DateList(1979, 2018, 'ByYear')\n",
    "\n",
    "# stninfo\n",
    "stnID, stninfo = au.readstnlist(FileStnInfo)\n",
    "nstn = len(stnID)"
   ]
  },
  {
   "cell_type": "code",
   "execution_count": 3,
   "metadata": {},
   "outputs": [],
   "source": [
    "datatemp = np.load(file_corrmerge_stn[0])\n",
    "reacorr_stn_all = datatemp['reacorr_stn']\n",
    "reanum, nstn, ntimes = np.shape(reacorr_stn_all)\n",
    "del datatemp, reacorr_stn_all\n",
    "\n",
    "# find nearby grids for each station\n",
    "nearrowcol = np.zeros([nstn, 2], dtype=int)\n",
    "for i in range(nstn):\n",
    "    rowi = np.argmin(abs(lattar-stninfo[i, 1]))\n",
    "    coli = np.argmin(abs(lontar-stninfo[i, 2]))\n",
    "    nearrowcol[i, 0] = rowi\n",
    "    nearrowcol[i, 1] = coli"
   ]
  },
  {
   "cell_type": "code",
   "execution_count": 8,
   "metadata": {},
   "outputs": [],
   "source": [
    "v=0\n",
    "y=1980\n",
    "m=0\n"
   ]
  },
  {
   "cell_type": "code",
   "execution_count": 6,
   "metadata": {},
   "outputs": [
    {
     "name": "stdout",
     "output_type": "stream",
     "text": [
      "OI merge at stations: prcp\n"
     ]
    }
   ],
   "source": [
    "    print('OI merge at stations:', vars[v])\n",
    "    filemerge_stn = path_oimerge + '/OImerge_stn_' + vars[v] + '_neargrid.npz'\n",
    "#     if os.path.isfile(filemerge_stn):\n",
    "#         continue\n",
    "\n",
    "    # load corrected/merged reanalysis data at all station points (those are totally independent with station observations)\n",
    "    datatemp = np.load(file_corrmerge_stn[v])\n",
    "    reamerge_stn_all = datatemp['reamerge_stn']\n",
    "    reacorr_stn_all = datatemp['reacorr_stn']\n",
    "    reanum, nstn, ntimes = np.shape(reacorr_stn_all)\n",
    "    del datatemp\n",
    "\n",
    "    oimerge_stn = np.zeros([nstn, ntimes])"
   ]
  },
  {
   "cell_type": "code",
   "execution_count": 9,
   "metadata": {},
   "outputs": [
    {
     "name": "stdout",
     "output_type": "stream",
     "text": [
      "merging error: date: 198001\n"
     ]
    }
   ],
   "source": [
    "            print('merging error: date:', y * 100 + m + 1)\n",
    "            indym = (date_number['yyyy'] == y) & (date_number['mm'] == m + 1)\n",
    "            nday = sum(indym)\n",
    "            oimerge_stnym = np.zeros([nstn, nday])\n",
    "\n",
    "            # load station regression estimates at all stations (locally weighted regression)\n",
    "            date_cal_start = y * 10000 + (m + 1) * 100 + 1\n",
    "            date_cal_end = y * 10000 + (m + 1) * 100 + calendar.monthrange(y, m + 1)[1]\n",
    "            datestr = str(date_cal_start) + '-' + str(date_cal_end)\n",
    "            file1 = path_obs + '/stndata_' + datestr + '.npz'\n",
    "            datatemp1 = np.load(file1)\n",
    "            observation_stn = datatemp1[vars[v] + '_stn_daily']\n",
    "\n",
    "\n",
    "\n",
    "            file_bac = path_bac + '/mergedata_' + vars[v] + '_' + str(y * 100 + m + 1) + weightmode + '.npz'\n",
    "            file_obs = path_obs + '/output_' + datestr + '.npz'\n",
    "            file_obserr = path_obs + '/output_realerror_' + datestr + '.npz'\n",
    "\n",
    "\n",
    "            # get the best reanalysis among three original reanalysis datasets and one merged dataset for each station\n",
    "            reamerge_stn = reamerge_stn_all[:, indym]\n",
    "            reacorr_stn = reacorr_stn_all[:, :, indym]\n",
    "            rearmse = np.zeros([nstn, reanum+1])\n",
    "            rearmse[:, 0] = calmetric(reamerge_stn, observation_stn, metname='RMSE')\n",
    "            for i in range(3):\n",
    "                rearmse[:, i + 1] = calmetric(reacorr_stn[i, :, :], observation_stn, metname='RMSE')\n",
    "            bestchoice = np.argmin(rearmse, axis=1)\n",
    "            reafinal_stn = reamerge_stn.copy()\n",
    "            for i in range(nstn):\n",
    "                if bestchoice[i] > 0:\n",
    "                    reafinal_stn[i, :] = reacorr_stn[bestchoice[i] - 1, i, :]\n",
    "\n",
    "            # load background data (value and error)\n",
    "            datatemp = np.load(file_bac)\n",
    "            v_bac = datatemp['merge_data']\n",
    "            if vars[v] == 'tmean' or vars[v] == 'trange':\n",
    "                e_bac = datatemp['merge_error_raw']  # error in actual space\n",
    "            elif vars[v] == 'prcp':\n",
    "                if prcp_space == 'Actual':\n",
    "                    e_bac = datatemp['merge_error_raw']\n",
    "                elif prcp_space == 'Gaussian':\n",
    "                    if weightmode == 'BMA':\n",
    "                        e_bac = datatemp['merge_error_bc']\n",
    "                        v_bac = box_cox_transform(v_bac)\n",
    "                    elif weightmode == 'RMSE':\n",
    "                        e_bac = datatemp['merge_error_raw']\n",
    "                        truth = v_bac - e_bac\n",
    "                        v_bac = box_cox_transform(v_bac)\n",
    "                        e_bac = v_bac - box_cox_transform(truth)\n",
    "            else:\n",
    "                sys.exit('Unknown variable')\n",
    "            del datatemp\n",
    "\n",
    "\n",
    "            # load observation data (value and error)\n",
    "            datatemp = np.load(file_obs)\n",
    "            datatemp2 = np.load(file_obserr)\n",
    "            if vars[v] == 'tmean' or vars[v] == 'trange':\n",
    "                v_obs = datatemp[vars[v]]\n",
    "                # e_obs = datatemp[var + '_err']\n",
    "                e_obs = datatemp2[vars[v] + '_realerr']\n",
    "            elif vars[v] == 'prcp':\n",
    "                if prcp_space == 'Actual':\n",
    "                    v_obs = datatemp['pcp_raw']\n",
    "                    # e_obs = datatemp['pcp_err_raw']\n",
    "                    e_obs = datatemp2['pcp_realerr_raw']\n",
    "                elif prcp_space == 'Gaussian':\n",
    "                    v_obs = datatemp['pcp_bc']\n",
    "                    # e_obs = datatemp['pcp_err_bc']\n",
    "                    e_obs = datatemp2['pcp_realerr_bc']\n",
    "            else:\n",
    "                sys.exit('Unknown variable')\n",
    "            del datatemp\n",
    "            v_obs = np.flipud(v_obs)\n",
    "            e_obs = np.flipud(e_obs)"
   ]
  },
  {
   "cell_type": "code",
   "execution_count": 77,
   "metadata": {},
   "outputs": [],
   "source": [
    "i=1300"
   ]
  },
  {
   "cell_type": "code",
   "execution_count": 78,
   "metadata": {},
   "outputs": [],
   "source": [
    "                    b_tar = reafinal_stn[i, :]\n",
    "                    tar_err_b = b_tar - observation_stn[i, :]\n",
    "\n",
    "                    b_near = v_bac[nearrowcol[i, 0]-hwsize:nearrowcol[i, 0]+hwsize+1,\n",
    "                             nearrowcol[i, 1]-hwsize:nearrowcol[i, 1]+hwsize+1, :]\n",
    "                    o_near = v_obs[nearrowcol[i, 0]-hwsize:nearrowcol[i, 0]+hwsize+1,\n",
    "                             nearrowcol[i, 1]-hwsize:nearrowcol[i, 1]+hwsize+1, :]\n",
    "                    near_err_b = e_bac[nearrowcol[i, 0]-hwsize:nearrowcol[i, 0]+hwsize+1,\n",
    "                             nearrowcol[i, 1]-hwsize:nearrowcol[i, 1]+hwsize+1, :]\n",
    "                    near_err_o = e_obs[nearrowcol[i, 0]-hwsize:nearrowcol[i, 0]+hwsize+1,\n",
    "                             nearrowcol[i, 1]-hwsize:nearrowcol[i, 1]+hwsize+1, :]\n",
    "                    b_near[hwsize, hwsize, :] = np.nan\n",
    "                    o_near[hwsize, hwsize, :] = np.nan\n",
    "                    near_err_b[hwsize, hwsize, :] = np.nan\n",
    "                    near_err_o[hwsize, hwsize, :] = np.nan\n",
    "                    snum=(hwsize*2+1)**2\n",
    "                    b_near=np.reshape(b_near,[snum, nday])\n",
    "                    o_near = np.reshape(o_near, [snum, nday])\n",
    "                    near_err_b = np.reshape(near_err_b, [snum, nday])\n",
    "                    near_err_o = np.reshape(near_err_o, [snum, nday])\n",
    "                    indnan = ~np.isnan(b_near[:,0])\n",
    "                    b_near=b_near[indnan,:]\n",
    "                    o_near = o_near[indnan, :]\n",
    "                    near_err_b = near_err_b[indnan, :]\n",
    "                    near_err_o = near_err_o[indnan, :]\n",
    "\n",
    "                    weight = OImerge(tar_err_b, near_err_b, near_err_o)\n",
    "                    if np.any(np.isnan(weight)) or np.any(abs(weight) > 2):\n",
    "                        weight = np.ones(len(weight)) / len(weight)\n",
    "\n",
    "                    diff = o_near - b_near\n",
    "                    merge_est = b_tar.copy()\n",
    "                    for id in range(nday):\n",
    "                        merge_est[id] = merge_est[id] + np.dot(weight, diff[:, id])"
   ]
  },
  {
   "cell_type": "code",
   "execution_count": 79,
   "metadata": {},
   "outputs": [
    {
     "name": "stdout",
     "output_type": "stream",
     "text": [
      "[ 0.86661642 -0.06681965  0.71367169  1.39419014]\n",
      "[0.04166667 0.04166667 0.04166667 0.04166667 0.04166667 0.04166667\n",
      " 0.04166667 0.04166667 0.04166667 0.04166667 0.04166667 0.04166667\n",
      " 0.04166667 0.04166667 0.04166667 0.04166667 0.04166667 0.04166667\n",
      " 0.04166667 0.04166667 0.04166667 0.04166667 0.04166667 0.04166667]\n"
     ]
    }
   ],
   "source": [
    "print(au.metric(observation_stn[i,:], merge_est))\n",
    "print(weight)\n",
    "d11=diff[:,10]"
   ]
  },
  {
   "cell_type": "code",
   "execution_count": 64,
   "metadata": {},
   "outputs": [],
   "source": [
    "            # load station regression estimates at all stations (locally weighted regression)\n",
    "            date_cal_start = y * 10000 + (m + 1) * 100 + 1\n",
    "            date_cal_end = y * 10000 + (m + 1) * 100 + calendar.monthrange(y, m + 1)[1]\n",
    "            datestr = str(date_cal_start) + '-' + str(date_cal_end)\n",
    "            file1 = path_obs + '/stndata_' + datestr + '.npz'\n",
    "            file2 = path_obs + '/error_' + datestr + '.npz'\n",
    "            datatemp1 = np.load(file1)\n",
    "            datatemp2 = np.load(file2)\n",
    "            observation_stn = datatemp1[vars[v] + '_stn_daily']\n",
    "            if vars[v] == 'prcp':\n",
    "                regression_stn = observation_stn + datatemp2['pcp' + '_err_stn_raw']\n",
    "            else:\n",
    "                regression_stn = observation_stn + datatemp2[vars[v] + '_err_stn']\n",
    "            del datatemp1, datatemp2"
   ]
  },
  {
   "cell_type": "code",
   "execution_count": 18,
   "metadata": {},
   "outputs": [],
   "source": [
    "    # load near station information\n",
    "    datatemp = np.load(near_file_GMET)\n",
    "    if vars[v] == 'prcp':\n",
    "        near_loc = datatemp['near_stn_prcpLoc']\n",
    "        near_weight = datatemp['near_stn_prcpWeight']\n",
    "    else:\n",
    "        near_loc = datatemp['near_stn_tempLoc']\n",
    "        near_weight = datatemp['near_stn_tempWeight']\n",
    "    del datatemp"
   ]
  },
  {
   "cell_type": "code",
   "execution_count": 80,
   "metadata": {},
   "outputs": [],
   "source": [
    "                    near_loci = near_loc[i, :]\n",
    "                    near_loci = near_loci[near_loci > -1]\n",
    "                    if len(near_loci) > (hwsize * 2 + 1) ** 2:\n",
    "                        near_loci = near_loci[0:(hwsize * 2 + 1) ** 2]\n",
    "                    b_tar = reafinal_stn[i, :]\n",
    "                    o_tar = regression_stn[i, :]\n",
    "                    b_near = reafinal_stn[near_loci, :]\n",
    "                    o_near = regression_stn[near_loci, :]\n",
    "\n",
    "                    tar_err_b = b_tar - observation_stn[i, :]\n",
    "                    near_err_b = b_near - observation_stn[near_loci, :]\n",
    "                    near_err_o = o_near - observation_stn[near_loci, :]\n",
    "                    weight = OImerge(tar_err_b, near_err_b, near_err_o)\n",
    "                    if np.any(np.isnan(weight)) or np.any(abs(weight) > 2):\n",
    "                        weight = near_weight[i, 0:len(near_loci)]\n",
    "                        weight = weight / np.sum(weight)\n",
    "\n",
    "                    diff = o_near - b_near\n",
    "                    merge_est = b_tar.copy()\n",
    "                    for id in range(nday):\n",
    "                        merge_est[id] = merge_est[id] + np.dot(weight, diff[:, id])"
   ]
  },
  {
   "cell_type": "code",
   "execution_count": 81,
   "metadata": {},
   "outputs": [
    {
     "name": "stdout",
     "output_type": "stream",
     "text": [
      "[ 0.94491008 -0.0802062   0.60210103  1.04854957]\n",
      "[-0.01557363 -0.03427934 -0.1030594   0.08670482  0.03128679 -0.13013183\n",
      "  0.08796956 -0.0348684   0.03329572 -0.04144519 -0.01360227  0.11623106\n",
      "  0.01057448  0.00464872 -0.02028544  0.02232799 -0.09087883 -0.00513483\n",
      "  0.00429572 -0.00275641 -0.07879999  0.09190813 -0.1738552   0.02708706\n",
      " -0.00850936]\n"
     ]
    }
   ],
   "source": [
    "print(au.metric(observation_stn[i,:], merge_est))\n",
    "print(weight)\n",
    "d22=diff[:,10]"
   ]
  },
  {
   "cell_type": "code",
   "execution_count": 52,
   "metadata": {},
   "outputs": [
    {
     "data": {
      "text/plain": [
       "<matplotlib.legend.Legend at 0x378a56710>"
      ]
     },
     "execution_count": 52,
     "metadata": {},
     "output_type": "execute_result"
    },
    {
     "data": {
      "image/png": "[encoded data removed]",
      "text/plain": [
       "<Figure size 432x288 with 1 Axes>"
      ]
     },
     "metadata": {
      "needs_background": "light"
     },
     "output_type": "display_data"
    }
   ],
   "source": [
    "plt.plot(d11)\n",
    "plt.plot(d22)\n",
    "plt.legend(['d11','d22'])"
   ]
  },
  {
   "cell_type": "code",
   "execution_count": 72,
   "metadata": {},
   "outputs": [],
   "source": [
    "def OImerge(tar_err_b, near_err_b, near_err_o):\n",
    "    # tar/near: target and nearby stations/grids\n",
    "    # o/b: observation/background\n",
    "    # err: error (o-t or b-t where t is truth)\n",
    "    # row: models, col: time steps\n",
    "    # calculate weight (W) using: W(Cb + Co)=Cb0\n",
    "    if np.ndim(near_err_b)==1:\n",
    "        near_err_b=near_err_b[np.newaxis,:]\n",
    "    nstn, ntimes = np.shape(near_err_b)\n",
    "    # covariance matrix of errors\n",
    "    Cb = np.cov(near_err_b)\n",
    "    Co = np.cov(near_err_o)\n",
    "    Co = np.eye(nstn) * Co # independence assumption\n",
    "    Cb0 = np.zeros(nstn)\n",
    "    for i in range(nstn):\n",
    "        Cb0[i] = cov1d(tar_err_b, near_err_b[i,:])\n",
    "\n",
    "    try:\n",
    "        cbot = np.linalg.inv(Cb+Co)\n",
    "        W = np.dot(Cb0, cbot)\n",
    "    except:\n",
    "        # singular matrix\n",
    "        W = np.nan * np.ones(nstn)\n",
    "    return W\n",
    "\n",
    "def cov1d(a, b):\n",
    "    if len(a) != len(b):\n",
    "        return\n",
    "    a_mean = np.mean(a)\n",
    "    b_mean = np.mean(b)\n",
    "\n",
    "    sum = 0\n",
    "\n",
    "    for i in range(0, len(a)):\n",
    "        sum += ((a[i] - a_mean) * (b[i] - b_mean))\n",
    "\n",
    "    return sum/(len(a)-1)"
   ]
  },
  {
   "cell_type": "code",
   "execution_count": null,
   "metadata": {},
   "outputs": [],
   "source": []
  }
 ],
 "metadata": {
  "kernelspec": {
   "display_name": "Python 3",
   "language": "python",
   "name": "python3"
  },
  "language_info": {
   "codemirror_mode": {
    "name": "ipython",
    "version": 3
   },
   "file_extension": ".py",
   "mimetype": "text/x-python",
   "name": "python",
   "nbconvert_exporter": "python",
   "pygments_lexer": "ipython3",
   "version": "3.7.4"
  }
 },
 "nbformat": 4,
 "nbformat_minor": 4
}
