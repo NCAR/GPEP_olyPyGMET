{
 "cells": [
  {
   "cell_type": "code",
   "execution_count": 3,
   "metadata": {},
   "outputs": [],
   "source": [
    "import numpy as np\n",
    "import auxiliary as au\n",
    "from matplotlib import pyplot as plt\n",
    "from scipy import io\n",
    "import os\n",
    "import sys\n",
    "import h5py\n",
    "import time\n",
    "import random\n",
    "import datetime\n",
    "from optimal_interpolation import OImerge\n",
    "import calendar\n",
    "\n",
    "\n",
    "def box_cox_transform(data, exp=0.25):\n",
    "    return (data ** exp - 1) / exp\n",
    "\n",
    "\n",
    "def box_cox_recover(data, exp=0.25):\n",
    "    dataout = (data * exp + 1) ** (1 / exp)\n",
    "    dataout[data < -1 / exp] = 0\n",
    "    return dataout\n",
    "\n",
    "\n",
    "# basic settings\n",
    "# y1 = int(sys.argv[3])\n",
    "# y2 = int(sys.argv[4])\n",
    "# year = [y1, y2]\n",
    "year = [1980, 1980]\n",
    "\n",
    "weightmode = 'RMSE'\n",
    "vars = ['prcp', 'tmean', 'trange']\n",
    "# \"Gaussian\": prcp will be transformed into normal distributions; \"Actual\": actual space\n",
    "prcp_space = 'Actual'\n",
    "hwsize = 2  # 5X5 space window used to support estimation at the center grid\n",
    "lontar = np.arange(-180 + 0.05, -50, 0.1)\n",
    "lattar = np.arange(85 - 0.05, 5, -0.1)\n",
    "\n",
    "# output path of merged data\n",
    "path_merge = '/Users/localuser/GMET/merge'\n",
    "\n",
    "# path of merged reanalysis\n",
    "# path_bac = '/datastore/GLOBALWATER/CommonData/EMDNA/ReanalysisCorrMerge/Reanalysis_merge'\n",
    "path_bac = '/Users/localuser/GMET/merge'\n",
    "\n",
    "# path of gridded observations\n",
    "# path_obs = '/datastore/GLOBALWATER/CommonData/EMDNA/PyGMETout'\n",
    "path_obs = '/Users/localuser/GMET/merge'\n",
    "\n",
    "# mask file\n",
    "# file_mask = '/datastore/GLOBALWATER/CommonData/EMDNA/DEM/NA_DEM_010deg_trim.mat'\n",
    "file_mask = './DEM/NA_DEM_010deg_trim.mat'\n",
    "mask = io.loadmat(file_mask)\n",
    "mask = mask['DEM']\n",
    "mask[~np.isnan(mask)] = 1  # 1: valid pixels\n",
    "nrows, ncols = np.shape(mask)\n"
   ]
  },
  {
   "cell_type": "code",
   "execution_count": 7,
   "metadata": {},
   "outputs": [
    {
     "name": "stdout",
     "output_type": "stream",
     "text": [
      "merging date: 198001\n"
     ]
    }
   ],
   "source": [
    "for y in range(year[0], year[1] + 1):\n",
    "    for m in range(1):\n",
    "        print('merging date:', y * 100 + m + 1)\n",
    "        filemerge = path_merge + '/OImerge_' + str(y * 100 + m + 1) + '.npz'\n",
    "        if os.path.isfile(filemerge):\n",
    "            print('file exists')\n",
    "            continue\n",
    "\n",
    "        date_cal_start = y * 10000 + (m + 1) * 100 + 1\n",
    "        date_cal_end = y * 10000 + (m + 1) * 100 + calendar.monthrange(y, m + 1)[1]\n",
    "        datestr = str(date_cal_start) + '-' + str(date_cal_end)\n",
    "        oimerge_data = dict()"
   ]
  },
  {
   "cell_type": "code",
   "execution_count": 16,
   "metadata": {},
   "outputs": [
    {
     "name": "stdout",
     "output_type": "stream",
     "text": [
      "variable prcp\n"
     ]
    }
   ],
   "source": [
    "            var='prcp'\n",
    "            print('variable', var)\n",
    "            file_bac = path_bac + '/mergedata_' + var + '_' +  str(y * 100 + m + 1) + weightmode + '.npz'\n",
    "            file_obs = path_obs + '/output_' + datestr + '.npz'\n",
    "\n",
    "            # load background data (value and error)\n",
    "            datatemp = np.load(file_bac)\n",
    "            v_bac = datatemp['merge_data']\n",
    "            if var == 'tmean' or var == 'trange':\n",
    "                e_bac = datatemp['merge_error_raw']  # error in actual space\n",
    "            elif var == 'prcp':\n",
    "                if prcp_space == 'Actual':\n",
    "                    e_bac = datatemp['merge_error_raw']\n",
    "                elif prcp_space == 'Gaussian':\n",
    "                    if weightmode == 'BMA':\n",
    "                        e_bac = datatemp['merge_error_bc']\n",
    "                        v_bac = box_cox_transform(v_bac)\n",
    "                    elif weightmode == 'RMSE':\n",
    "                        e_bac = datatemp['merge_error_raw']\n",
    "                        truth = v_bac - e_bac\n",
    "                        v_bac = box_cox_transform(v_bac)\n",
    "                        e_bac = v_bac - box_cox_transform(truth)\n",
    "            else:\n",
    "                sys.exit('Unknown variable')\n",
    "            del datatemp\n",
    "\n",
    "            # load observation data (value and error)\n",
    "            datatemp = np.load(file_obs)\n",
    "            if var == 'tmean' or var == 'trange':\n",
    "                v_obs = datatemp[var]\n",
    "                e_obs = datatemp[var + '_err']\n",
    "            elif var == 'prcp':\n",
    "                if prcp_space == 'Actual':\n",
    "                    v_obs = datatemp['pcp_raw']\n",
    "                    e_obs = datatemp['pcp_err_raw']\n",
    "                elif prcp_space == 'Gaussian':\n",
    "                    v_obs = datatemp['pcp_bc']\n",
    "                    e_obs = datatemp['pcp_err_bc']\n",
    "            else:\n",
    "                sys.exit('Unknown variable')\n",
    "            del datatemp\n",
    "            v_obs = np.flipud(v_obs)\n",
    "            e_obs = np.flipud(e_obs)\n",
    "\n",
    "            ntimes = np.shape(v_bac)[2]"
   ]
  },
  {
   "cell_type": "code",
   "execution_count": 34,
   "metadata": {},
   "outputs": [
    {
     "data": {
      "image/png": "[encoded data removed]",
      "text/plain": [
       "<Figure size 432x288 with 2 Axes>"
      ]
     },
     "metadata": {
      "needs_background": "light"
     },
     "output_type": "display_data"
    }
   ],
   "source": [
    "plt.subplot(121)\n",
    "z=v_obs[:,:,10]\n",
    "z[np.isnan(mask)]=np.nan\n",
    "plt.imshow(z)\n",
    "plt.clim([0,10])\n",
    "\n",
    "plt.subplot(122)\n",
    "z=v_bac[:,:,10]\n",
    "z[np.isnan(mask)]=np.nan\n",
    "plt.imshow(z)\n",
    "plt.clim([0,10])"
   ]
  },
  {
   "cell_type": "code",
   "execution_count": 38,
   "metadata": {},
   "outputs": [
    {
     "data": {
      "image/png": "[encoded data removed]",
      "text/plain": [
       "<Figure size 432x288 with 2 Axes>"
      ]
     },
     "metadata": {
      "needs_background": "light"
     },
     "output_type": "display_data"
    }
   ],
   "source": [
    "plt.subplot(121)\n",
    "z=e_obs[:,:,10]\n",
    "z[np.isnan(mask)]=np.nan\n",
    "plt.imshow(z)\n",
    "plt.clim([0,10])\n",
    "\n",
    "plt.subplot(122)\n",
    "z=e_bac[:,:,10]\n",
    "z[np.isnan(mask)]=np.nan\n",
    "plt.imshow(z)\n",
    "plt.clim([-2,2])"
   ]
  },
  {
   "cell_type": "code",
   "execution_count": 41,
   "metadata": {},
   "outputs": [
    {
     "data": {
      "text/plain": [
       "['pcp_err_stn_bc',\n",
       " 'pcp_err_stn_raw',\n",
       " 'tmean_err_stn',\n",
       " 'trange_err_stn',\n",
       " 'stninfo']"
      ]
     },
     "execution_count": 41,
     "metadata": {},
     "output_type": "execute_result"
    }
   ],
   "source": [
    "file='/Users/localuser/Downloads/error_19800101-19800131.npz'\n",
    "d=np.load(file)\n",
    "d.files"
   ]
  },
  {
   "cell_type": "code",
   "execution_count": 47,
   "metadata": {},
   "outputs": [
    {
     "data": {
      "text/plain": [
       "array([[-9.9900000e+02, -9.9900000e+02, -9.9900000e+02, ...,\n",
       "        -9.9900000e+02, -9.9900000e+02, -9.9900000e+02],\n",
       "       [-9.9900000e+02, -9.9900000e+02, -9.9900000e+02, ...,\n",
       "        -9.9900000e+02, -9.9900000e+02, -9.9900000e+02],\n",
       "       [-9.9900000e+02, -9.9900000e+02, -9.9900000e+02, ...,\n",
       "        -9.9900000e+02, -9.9900000e+02, -9.9900000e+02],\n",
       "       ...,\n",
       "       [ 2.1129937e+00,  2.5849261e+00,  8.7993127e-01, ...,\n",
       "         1.8886231e+00,  3.3178735e-01, -1.2724860e+00],\n",
       "       [-6.8349409e-01,  1.8779566e+00,  1.4152683e+00, ...,\n",
       "         7.6724796e+00,  5.1316247e+00,  2.9947710e+00],\n",
       "       [ 2.6068380e+00,  1.5431528e+00,  6.6852915e-01, ...,\n",
       "         2.4880970e-01,  2.1858134e+00,  1.5987308e-01]], dtype=float32)"
      ]
     },
     "execution_count": 47,
     "metadata": {},
     "output_type": "execute_result"
    }
   ],
   "source": [
    "e=d['trange_err_stn']\n",
    "e"
   ]
  },
  {
   "cell_type": "code",
   "execution_count": 48,
   "metadata": {},
   "outputs": [
    {
     "data": {
      "text/plain": [
       "['near_grid_prcpLoc',\n",
       " 'near_grid_prcpDist',\n",
       " 'near_grid_prcpWeight',\n",
       " 'near_grid_tempLoc',\n",
       " 'near_grid_tempDist',\n",
       " 'near_grid_tempWeight',\n",
       " 'near_stn_prcpLoc',\n",
       " 'near_stn_prcpDist',\n",
       " 'near_stn_prcpWeight',\n",
       " 'near_stn_tempLoc',\n",
       " 'near_stn_tempDist',\n",
       " 'near_stn_tempWeight']"
      ]
     },
     "execution_count": 48,
     "metadata": {},
     "output_type": "execute_result"
    }
   ],
   "source": [
    "near_file_GMET = '/Users/localuser/GMET/pyGMET_NA/weight_nearstn.npz'\n",
    "d=np.load(near_file_GMET)\n",
    "d.files"
   ]
  },
  {
   "cell_type": "code",
   "execution_count": 52,
   "metadata": {},
   "outputs": [],
   "source": [
    "        description = '*_realerr_* is weighted mean of estimate - observation from nearby stations. ' \\\n",
    "                      '*_err_* is the root mean of real errors from nearby stations'"
   ]
  },
  {
   "cell_type": "code",
   "execution_count": 53,
   "metadata": {},
   "outputs": [
    {
     "data": {
      "text/plain": [
       "'*_realerr_* is weighted mean of estimate - observation from nearby stations. *_err_* is the root mean of real errors from nearby stations'"
      ]
     },
     "execution_count": 53,
     "metadata": {},
     "output_type": "execute_result"
    }
   ],
   "source": [
    "    description    "
   ]
  },
  {
   "cell_type": "code",
   "execution_count": null,
   "metadata": {},
   "outputs": [],
   "source": []
  }
 ],
 "metadata": {
  "kernelspec": {
   "display_name": "Python 3",
   "language": "python",
   "name": "python3"
  },
  "language_info": {
   "codemirror_mode": {
    "name": "ipython",
    "version": 3
   },
   "file_extension": ".py",
   "mimetype": "text/x-python",
   "name": "python",
   "nbconvert_exporter": "python",
   "pygments_lexer": "ipython3",
   "version": "3.7.4"
  }
 },
 "nbformat": 4,
 "nbformat_minor": 4
}
