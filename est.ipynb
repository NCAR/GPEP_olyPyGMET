{
 "cells": [
  {
   "cell_type": "code",
   "execution_count": 1,
   "metadata": {},
   "outputs": [
    {
     "name": "stdout",
     "output_type": "stream",
     "text": [
      "r m i 0 0 0\n",
      "r m i 0 1 0\n",
      "r m i 0 2 0\n",
      "r m i 0 3 0\n",
      "r m i 0 4 0\n",
      "r m i 0 5 0\n",
      "r m i 0 6 0\n",
      "r m i 0 7 0\n",
      "r m i 0 8 0\n",
      "r m i 0 9 0\n",
      "r m i 0 10 0\n",
      "r m i 0 11 0\n",
      "r m i 1 0 0\n",
      "r m i 1 1 0\n",
      "r m i 1 2 0\n"
     ]
    },
    {
     "name": "stderr",
     "output_type": "stream",
     "text": [
      "/usr/local/lib/python3.7/site-packages/ipykernel_launcher.py:119: RuntimeWarning: invalid value encountered in less\n",
      "/usr/local/lib/python3.7/site-packages/ipykernel_launcher.py:61: RuntimeWarning: invalid value encountered in greater\n",
      "/usr/local/lib/python3.7/site-packages/ipykernel_launcher.py:62: RuntimeWarning: invalid value encountered in greater\n",
      "/usr/local/lib/python3.7/site-packages/ipykernel_launcher.py:63: RuntimeWarning: invalid value encountered in less_equal\n"
     ]
    },
    {
     "name": "stdout",
     "output_type": "stream",
     "text": [
      "r m i 1 3 0\n",
      "r m i 1 4 0\n",
      "r m i 1 5 0\n",
      "r m i 1 6 0\n",
      "r m i 1 7 0\n",
      "r m i 1 8 0\n",
      "r m i 1 9 0\n",
      "r m i 1 10 0\n",
      "r m i 1 11 0\n",
      "r m i 2 0 0\n",
      "r m i 2 1 0\n",
      "r m i 2 2 0\n",
      "r m i 2 3 0\n",
      "r m i 2 4 0\n",
      "r m i 2 5 0\n",
      "r m i 2 6 0\n",
      "r m i 2 7 0\n",
      "r m i 2 8 0\n",
      "r m i 2 9 0\n",
      "r m i 2 10 0\n",
      "r m i 2 11 0\n"
     ]
    }
   ],
   "source": [
    "import numpy as np\n",
    "import sys\n",
    "from auxiliary_merge import *\n",
    "\n",
    "\n",
    "# probability of precipitation\n",
    "\n",
    "def threshold_for_occurrence(dref, dtar, mode=1, upperbound=2):\n",
    "    # dref is station prcp and >0 means positive precipitation\n",
    "    # mode 1: objective is that dref and dtar have the same number of precipitation events\n",
    "    # mode 2: objective is to get max CSI of dtar\n",
    "\n",
    "    indnan = (np.isnan(dref)) | (np.isnan(dtar))\n",
    "    if np.sum(indnan) > 0:\n",
    "        dref = dref[~indnan]\n",
    "        dtar = dtar[~indnan]\n",
    "\n",
    "    if len(dtar) < 1:\n",
    "        threshold = np.nan\n",
    "    else:\n",
    "        num1 = np.sum(dref > 0)\n",
    "        if num1 == 0:\n",
    "            threshold = np.max(dtar) + 0.1\n",
    "        else:\n",
    "            if mode == 1:\n",
    "                indnan = (dtar == 0) | (np.isnan(dtar))\n",
    "                dtar = dtar[~indnan]\n",
    "                if len(dtar) <= num1:\n",
    "                    threshold = 0\n",
    "                else:\n",
    "                    dtars = np.flip(np.sort(dtar))\n",
    "                    threshold = (dtars[num1] + dtars[num1 - 1]) / 2\n",
    "            elif mode == 2:\n",
    "                step = 0.05\n",
    "                num = int(upperbound / step) + 1\n",
    "                csi = np.zeros(num)\n",
    "                for i in range(num):\n",
    "                    threi = i * step\n",
    "                    n11 = np.sum((dref > 0) & (dtar > threi))\n",
    "                    n10 = np.sum((dref <= 0) & (dtar > threi))\n",
    "                    n01 = np.sum((dref > 0) & (dtar <= threi))\n",
    "                    csii = n11 / (n11 + n01 + n10)\n",
    "                    csi[i] = csii\n",
    "                indi = np.nanargmax(csi)\n",
    "                threshold = indi * step\n",
    "            else:\n",
    "                sys.exit('Unknown mode for threshold estimation')\n",
    "\n",
    "    if threshold > upperbound:\n",
    "        threshold = upperbound\n",
    "\n",
    "    return threshold\n",
    "\n",
    "\n",
    "def cal_csi(Obs, Pre, Tre=0):\n",
    "    # Tre: rain/no rain threshold\n",
    "    # POD(Probability of Detection),FOH(frequency of hit)\n",
    "    # FAR(False Alarm Ratio), CSI(Critical Success Index)\n",
    "    # HSS(Heidke skillscore),Ebert et al. [2007]\n",
    "    if len(Obs) > 1:\n",
    "        n11 = np.sum((Obs > Tre) & (Pre > Tre))\n",
    "        n10 = np.sum((Obs <= Tre) & (Pre > Tre))\n",
    "        n01 = np.sum((Obs > Tre) & (Pre <= Tre))\n",
    "        # n00 = np.sum((Obs <= Tre) & (Pre <= Tre))\n",
    "    # try:\n",
    "    #     POD = n11 / (n11 + n01)\n",
    "    # except:\n",
    "    #     POD = np.nan\n",
    "    # try:\n",
    "    #     FOH = n11 / (n11 + n10)\n",
    "    #     FAR = n10 / (n11 + n10)\n",
    "    # except:\n",
    "    #     FOH = np.nan\n",
    "    #     FAR = np.nan\n",
    "    try:\n",
    "        CSI = n11 / (n11 + n01 + n10)\n",
    "    except:\n",
    "        CSI = np.nan\n",
    "    # try:\n",
    "    #     HSS = 2 * (n11 * n00 - n10 * n01) / ((n11 + n01) *\n",
    "    #                                          (n01 + n00) + (n11 + n10) * (n10 + n00))\n",
    "    # except:\n",
    "    #     HSS = np.nan\n",
    "    #\n",
    "    # contingency_group = {'POD': POD, 'FOH': FOH, 'FAR': FAR,\n",
    "    #                      'CSI': CSI, 'HSS': HSS}\n",
    "    return CSI\n",
    "\n",
    "\n",
    "date_list, date_number = m_DateList(1979, 2018, 'ByYear')\n",
    "\n",
    "# main\n",
    "filestn = '/Users/localuser/Downloads/stndata_whole.npz'\n",
    "filerea = '/Users/localuser/Research/Test/mergecorr_prcp_RMSE.npz'\n",
    "outfile = '/Users/localuser/Research/Test/reanalysis_pop_stn.npz'\n",
    "maxthreshold = 2\n",
    "\n",
    "d1 = np.load(filestn)\n",
    "d2 = np.load(filerea)\n",
    "\n",
    "stndata = d1['prcp_stn']\n",
    "readata = d2['reacorr_stn']\n",
    "stn_lle = d1['stn_lle']\n",
    "\n",
    "reanum, nstn, ntimes = np.shape(readata)\n",
    "# 1. get threshold for precipitation occurrence\n",
    "rea_threshold = np.nan * np.zeros([12, nstn, reanum])\n",
    "rea_csi = np.nan * np.zeros([12, nstn, reanum])\n",
    "for r in range(reanum):\n",
    "    for m in range(12):\n",
    "        indm = date_number['mm'] == m + 1\n",
    "        for i in range(10):\n",
    "            if np.mod(i, 1000) == 0:\n",
    "                print('r m i', r, m, i)\n",
    "            if not np.isnan(stndata[i, 0]):\n",
    "                dobs = stndata[i, indm]\n",
    "                drea = readata[r, i, indm].copy()\n",
    "                rea_threshold[m, i, r] = threshold_for_occurrence(dobs, drea, mode=2, upperbound=maxthreshold)\n",
    "                drea[drea < rea_threshold[m, i, r]] = 0\n",
    "                rea_csi[m, i, r] = cal_csi(dobs, drea)"
   ]
  },
  {
   "cell_type": "code",
   "execution_count": 2,
   "metadata": {},
   "outputs": [
    {
     "name": "stdout",
     "output_type": "stream",
     "text": [
      "i 0\n"
     ]
    },
    {
     "name": "stderr",
     "output_type": "stream",
     "text": [
      "/usr/local/lib/python3.7/site-packages/ipykernel_launcher.py:15: RuntimeWarning: invalid value encountered in less_equal\n",
      "  from ipykernel import kernelapp as app\n",
      "/usr/local/lib/python3.7/site-packages/ipykernel_launcher.py:16: RuntimeWarning: invalid value encountered in greater\n",
      "  app.launch_new_instance()\n"
     ]
    }
   ],
   "source": [
    "pop_reamerge = np.nan * np.zeros([nstn, ntimes], dtype=np.float32)\n",
    "for i in range(10):\n",
    "    if np.mod(i, 1000) == 0:\n",
    "        print('i', i)\n",
    "    if not np.isnan(stndata[i, 0]):\n",
    "        for m in range(12):\n",
    "            indm = date_number['mm'] == m + 1\n",
    "            mtime = np.sum(indm)\n",
    "            csii = rea_csi[m, i, :]\n",
    "            weighti = csii ** 2  # weight formulation\n",
    "            weighti = np.tile(weighti, (mtime, 1)).T\n",
    "            popi = np.zeros([reanum, mtime])\n",
    "            for r in range(reanum):\n",
    "                pr = readata[r, i, indm].copy()\n",
    "                pr[pr <= rea_threshold[m, i, r]] = 0\n",
    "                pr[pr > rea_threshold[m, i, r]] = 1\n",
    "                popi[r, :] = pr\n",
    "            weighti[np.isnan(popi)] = 0  # MERRA2 does not have data for 1979\n",
    "            popi2 = np.nansum(weighti * popi, axis=0) / np.sum(weighti, axis=0)\n",
    "        pop_reamerge[i, indm] = popi2"
   ]
  },
  {
   "cell_type": "code",
   "execution_count": 3,
   "metadata": {},
   "outputs": [
    {
     "name": "stdout",
     "output_type": "stream",
     "text": [
      "i 0\n",
      "i 1000\n",
      "i 2000\n",
      "i 3000\n"
     ]
    },
    {
     "ename": "KeyboardInterrupt",
     "evalue": "",
     "output_type": "error",
     "traceback": [
      "\u001b[0;31m---------------------------------------------------------------------------\u001b[0m",
      "\u001b[0;31mKeyboardInterrupt\u001b[0m                         Traceback (most recent call last)",
      "\u001b[0;32m<ipython-input-3-b6d114e14b43>\u001b[0m in \u001b[0;36m<module>\u001b[0;34m\u001b[0m\n\u001b[1;32m      9\u001b[0m             \u001b[0mdobs\u001b[0m\u001b[0;34m[\u001b[0m\u001b[0mdobs\u001b[0m\u001b[0;34m>\u001b[0m\u001b[0;36m0\u001b[0m\u001b[0;34m]\u001b[0m \u001b[0;34m=\u001b[0m \u001b[0;36m1\u001b[0m\u001b[0;34m\u001b[0m\u001b[0;34m\u001b[0m\u001b[0m\n\u001b[1;32m     10\u001b[0m             \u001b[0mdpop\u001b[0m \u001b[0;34m=\u001b[0m \u001b[0mpop_reamerge\u001b[0m\u001b[0;34m[\u001b[0m\u001b[0mi\u001b[0m\u001b[0;34m,\u001b[0m \u001b[0mindm\u001b[0m\u001b[0;34m]\u001b[0m\u001b[0;34m\u001b[0m\u001b[0;34m\u001b[0m\u001b[0m\n\u001b[0;32m---> 11\u001b[0;31m             \u001b[0mmae_pop\u001b[0m\u001b[0;34m[\u001b[0m\u001b[0mi\u001b[0m\u001b[0;34m,\u001b[0m \u001b[0mm\u001b[0m\u001b[0;34m]\u001b[0m \u001b[0;34m=\u001b[0m \u001b[0mnp\u001b[0m\u001b[0;34m.\u001b[0m\u001b[0mmean\u001b[0m\u001b[0;34m(\u001b[0m\u001b[0mabs\u001b[0m\u001b[0;34m(\u001b[0m\u001b[0mdpop\u001b[0m \u001b[0;34m-\u001b[0m \u001b[0mdobs\u001b[0m\u001b[0;34m)\u001b[0m\u001b[0;34m)\u001b[0m\u001b[0;34m\u001b[0m\u001b[0;34m\u001b[0m\u001b[0m\n\u001b[0m",
      "\u001b[0;32m<__array_function__ internals>\u001b[0m in \u001b[0;36mmean\u001b[0;34m(*args, **kwargs)\u001b[0m\n",
      "\u001b[0;32m/usr/local/lib/python3.7/site-packages/numpy/core/fromnumeric.py\u001b[0m in \u001b[0;36mmean\u001b[0;34m(a, axis, dtype, out, keepdims)\u001b[0m\n\u001b[1;32m   3255\u001b[0m \u001b[0;34m\u001b[0m\u001b[0m\n\u001b[1;32m   3256\u001b[0m     return _methods._mean(a, axis=axis, dtype=dtype,\n\u001b[0;32m-> 3257\u001b[0;31m                           out=out, **kwargs)\n\u001b[0m\u001b[1;32m   3258\u001b[0m \u001b[0;34m\u001b[0m\u001b[0m\n\u001b[1;32m   3259\u001b[0m \u001b[0;34m\u001b[0m\u001b[0m\n",
      "\u001b[0;32m/usr/local/lib/python3.7/site-packages/numpy/core/_methods.py\u001b[0m in \u001b[0;36m_mean\u001b[0;34m(a, axis, dtype, out, keepdims)\u001b[0m\n\u001b[1;32m    149\u001b[0m             \u001b[0mis_float16_result\u001b[0m \u001b[0;34m=\u001b[0m \u001b[0;32mTrue\u001b[0m\u001b[0;34m\u001b[0m\u001b[0;34m\u001b[0m\u001b[0m\n\u001b[1;32m    150\u001b[0m \u001b[0;34m\u001b[0m\u001b[0m\n\u001b[0;32m--> 151\u001b[0;31m     \u001b[0mret\u001b[0m \u001b[0;34m=\u001b[0m \u001b[0mumr_sum\u001b[0m\u001b[0;34m(\u001b[0m\u001b[0marr\u001b[0m\u001b[0;34m,\u001b[0m \u001b[0maxis\u001b[0m\u001b[0;34m,\u001b[0m \u001b[0mdtype\u001b[0m\u001b[0;34m,\u001b[0m \u001b[0mout\u001b[0m\u001b[0;34m,\u001b[0m \u001b[0mkeepdims\u001b[0m\u001b[0;34m)\u001b[0m\u001b[0;34m\u001b[0m\u001b[0;34m\u001b[0m\u001b[0m\n\u001b[0m\u001b[1;32m    152\u001b[0m     \u001b[0;32mif\u001b[0m \u001b[0misinstance\u001b[0m\u001b[0;34m(\u001b[0m\u001b[0mret\u001b[0m\u001b[0;34m,\u001b[0m \u001b[0mmu\u001b[0m\u001b[0;34m.\u001b[0m\u001b[0mndarray\u001b[0m\u001b[0;34m)\u001b[0m\u001b[0;34m:\u001b[0m\u001b[0;34m\u001b[0m\u001b[0;34m\u001b[0m\u001b[0m\n\u001b[1;32m    153\u001b[0m         ret = um.true_divide(\n",
      "\u001b[0;31mKeyboardInterrupt\u001b[0m: "
     ]
    }
   ],
   "source": [
    "mae_pop = np.nan * np.zeros([nstn, 12], dtype=np.float32)\n",
    "for i in range(nstn):\n",
    "    if np.mod(i, 1000) == 0:\n",
    "        print('i', i)\n",
    "    if not np.isnan(stndata[i, 0]):\n",
    "        for m in range(12):\n",
    "            indm = date_number['mm'] == m + 1\n",
    "            dobs = stndata[i, indm].copy()\n",
    "            dobs[dobs>0] = 1\n",
    "            dpop = pop_reamerge[i, indm]\n",
    "            mae_pop[i, m] = np.mean(abs(dpop - dobs))"
   ]
  },
  {
   "cell_type": "code",
   "execution_count": null,
   "metadata": {},
   "outputs": [],
   "source": []
  }
 ],
 "metadata": {
  "kernelspec": {
   "display_name": "Python 3",
   "language": "python",
   "name": "python3"
  },
  "language_info": {
   "codemirror_mode": {
    "name": "ipython",
    "version": 3
   },
   "file_extension": ".py",
   "mimetype": "text/x-python",
   "name": "python",
   "nbconvert_exporter": "python",
   "pygments_lexer": "ipython3",
   "version": "3.7.4"
  }
 },
 "nbformat": 4,
 "nbformat_minor": 4
}
