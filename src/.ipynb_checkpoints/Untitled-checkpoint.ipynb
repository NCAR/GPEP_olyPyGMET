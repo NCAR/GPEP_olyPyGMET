{
 "cells": [
  {
   "cell_type": "code",
   "execution_count": 1,
   "id": "c42a3ba5-110c-422d-a0a6-9f73c3a1c90e",
   "metadata": {},
   "outputs": [
    {
     "name": "stderr",
     "output_type": "stream",
     "text": [
      "/opt/anaconda3/envs/PyGMET/lib/python3.10/site-packages/tqdm/auto.py:22: TqdmWarning: IProgress not found. Please update jupyter and ipywidgets. See https://ipywidgets.readthedocs.io/en/stable/user_install.html\n",
      "  from .autonotebook import tqdm as notebook_tqdm\n"
     ]
    }
   ],
   "source": [
    "import numpy as np\n",
    "import xarray as xr\n",
    "from tqdm.contrib import itertools\n",
    "from data_processing import data_transformation\n",
    "import sys, os"
   ]
  },
  {
   "cell_type": "code",
   "execution_count": 2,
   "id": "2a42f9f8-4579-46d3-a160-b02bb6af1fd0",
   "metadata": {},
   "outputs": [],
   "source": [
    "d = np.load('testdata.npz')\n",
    "stn_value = d['stn_value']\n",
    "stn_predictor = d['stn_predictor']\n",
    "nearIndex = d['nearIndex']\n",
    "nearWeight = d['nearWeight']\n",
    "tar_predictor = d['tar_predictor']"
   ]
  },
  {
   "cell_type": "code",
   "execution_count": 3,
   "id": "9739eb74-e7e8-489c-b4c9-28ecf3193191",
   "metadata": {},
   "outputs": [],
   "source": [
    "import regression"
   ]
  },
  {
   "cell_type": "code",
   "execution_count": 4,
   "id": "ace45524-ed44-4f12-806d-b611f8bc6ce2",
   "metadata": {},
   "outputs": [
    {
     "name": "stderr",
     "output_type": "stream",
     "text": [
      "  0%|          | 65/16128 [00:00<00:00, 41559.41it/s]\n"
     ]
    },
    {
     "ename": "NameError",
     "evalue": "name 'least_squares' is not defined",
     "output_type": "error",
     "traceback": [
      "\u001b[0;31m---------------------------------------------------------------------------\u001b[0m",
      "\u001b[0;31mNameError\u001b[0m                                 Traceback (most recent call last)",
      "Cell \u001b[0;32mIn[4], line 1\u001b[0m\n\u001b[0;32m----> 1\u001b[0m estimates \u001b[38;5;241m=\u001b[39m \u001b[43mregression\u001b[49m\u001b[38;5;241;43m.\u001b[39;49m\u001b[43mloop_regression_2Dor3D\u001b[49m\u001b[43m(\u001b[49m\u001b[43mstn_value\u001b[49m\u001b[43m,\u001b[49m\u001b[43m \u001b[49m\u001b[43mstn_predictor\u001b[49m\u001b[43m,\u001b[49m\u001b[43m \u001b[49m\u001b[43mnearIndex\u001b[49m\u001b[43m,\u001b[49m\u001b[43m \u001b[49m\u001b[43mnearWeight\u001b[49m\u001b[43m,\u001b[49m\u001b[43m \u001b[49m\u001b[43mtar_predictor\u001b[49m\u001b[43m,\u001b[49m\u001b[43m \u001b[49m\u001b[38;5;124;43m'\u001b[39;49m\u001b[38;5;124;43mlinear\u001b[39;49m\u001b[38;5;124;43m'\u001b[39;49m\u001b[43m)\u001b[49m\n",
      "File \u001b[0;32m~/Github/meteorological_dataset/PyGMET/src/regression.py:210\u001b[0m, in \u001b[0;36mloop_regression_2Dor3D\u001b[0;34m(stn_data, stn_predictor, tar_nearIndex, tar_nearWeight, tar_predictor, method)\u001b[0m\n\u001b[1;32m    208\u001b[0m \u001b[38;5;28;01melse\u001b[39;00m:\n\u001b[1;32m    209\u001b[0m     \u001b[38;5;28;01mif\u001b[39;00m method \u001b[38;5;241m==\u001b[39m \u001b[38;5;124m'\u001b[39m\u001b[38;5;124mlinear\u001b[39m\u001b[38;5;124m'\u001b[39m:\n\u001b[0;32m--> 210\u001b[0m         ydata_tar \u001b[38;5;241m=\u001b[39m \u001b[43mweight_linear_regression\u001b[49m\u001b[43m(\u001b[49m\u001b[43mxdata_near\u001b[49m\u001b[43m,\u001b[49m\u001b[43m \u001b[49m\u001b[43msample_weight\u001b[49m\u001b[43m,\u001b[49m\u001b[43m \u001b[49m\u001b[43mydata_near\u001b[49m\u001b[43m,\u001b[49m\u001b[43m \u001b[49m\u001b[43mxdata_g\u001b[49m\u001b[43m)\u001b[49m\n\u001b[1;32m    211\u001b[0m     \u001b[38;5;28;01melif\u001b[39;00m method \u001b[38;5;241m==\u001b[39m \u001b[38;5;124m'\u001b[39m\u001b[38;5;124mlogistic\u001b[39m\u001b[38;5;124m'\u001b[39m:\n\u001b[1;32m    212\u001b[0m         ydata_tar \u001b[38;5;241m=\u001b[39m weight_logistic_regression(xdata_near, sample_weight, ydata_near, xdata_g)\n",
      "File \u001b[0;32m~/Github/meteorological_dataset/PyGMET/src/regression.py:120\u001b[0m, in \u001b[0;36mweight_linear_regression\u001b[0;34m(nearinfo, weightnear, datanear, tarinfo)\u001b[0m\n\u001b[1;32m    118\u001b[0m tx_red \u001b[38;5;241m=\u001b[39m np\u001b[38;5;241m.\u001b[39mtranspose(nearinfo)\n\u001b[1;32m    119\u001b[0m twx_red \u001b[38;5;241m=\u001b[39m np\u001b[38;5;241m.\u001b[39mmatmul(tx_red, w_pcp_red)\n\u001b[0;32m--> 120\u001b[0m b \u001b[38;5;241m=\u001b[39m \u001b[43mleast_squares\u001b[49m(nearinfo, datanear, twx_red)\n\u001b[1;32m    121\u001b[0m datatar \u001b[38;5;241m=\u001b[39m np\u001b[38;5;241m.\u001b[39mdot(tarinfo, b)\n\u001b[1;32m    123\u001b[0m \u001b[38;5;28;01mreturn\u001b[39;00m datatar\n",
      "\u001b[0;31mNameError\u001b[0m: name 'least_squares' is not defined"
     ]
    }
   ],
   "source": [
    "estimates = regression.loop_regression_2Dor3D(stn_value, stn_predictor, nearIndex, nearWeight, tar_predictor, 'linear')"
   ]
  },
  {
   "cell_type": "code",
   "execution_count": null,
   "id": "b32be119-29a3-4f5e-864d-a2314fb76545",
   "metadata": {},
   "outputs": [],
   "source": []
  }
 ],
 "metadata": {
  "kernelspec": {
   "display_name": "Python [conda env:PyGMET]",
   "language": "python",
   "name": "conda-env-PyGMET-py"
  },
  "language_info": {
   "codemirror_mode": {
    "name": "ipython",
    "version": 3
   },
   "file_extension": ".py",
   "mimetype": "text/x-python",
   "name": "python",
   "nbconvert_exporter": "python",
   "pygments_lexer": "ipython3",
   "version": "3.10.8"
  }
 },
 "nbformat": 4,
 "nbformat_minor": 5
}
