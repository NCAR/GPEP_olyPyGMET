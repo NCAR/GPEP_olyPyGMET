{
 "cells": [
  {
   "cell_type": "code",
   "execution_count": 1,
   "metadata": {},
   "outputs": [
    {
     "name": "stderr",
     "output_type": "stream",
     "text": [
      "/Users/localuser/Github/PyGMET/auxiliary.py:13: VisibleDeprecationWarning: Reading unicode strings without specifying the encoding argument is deprecated. Set the encoding, use None for the system default.\n",
      "  data = np.genfromtxt(FileStnInfo, delimiter=',', dtype=None, skip_header=2)\n"
     ]
    }
   ],
   "source": [
    "\n",
    "import numpy as np\n",
    "from matplotlib import pyplot as plt\n",
    "from scipy import io\n",
    "import os\n",
    "import sys\n",
    "from optimal_interpolation import OImerge\n",
    "import calendar\n",
    "import auxiliary as au\n",
    "from auxiliary_merge import *\n",
    "\n",
    "########################################################################################################################\n",
    "\n",
    "# time periods and methods\n",
    "# vars = sys.argv[1]\n",
    "# vars = [vars]\n",
    "# month = int(sys.argv[2])\n",
    "\n",
    "vars = 'prcp'\n",
    "vars = [vars]\n",
    "month = 2\n",
    "\n",
    "########################################################################################################################\n",
    "\n",
    "# basic settings\n",
    "weightmode = 'BMA' # method used to merge different reanalysis products\n",
    "# vars = ['prcp', 'tmean', 'trange']\n",
    "hwsize = 2  # 5X5 space window used to support estimation at the center grid\n",
    "lontar = np.arange(-180 + 0.05, -50, 0.1)\n",
    "lattar = np.arange(85 - 0.05, 5, -0.1)\n",
    "\n",
    "# \"Gaussian\": prcp will be transformed into normal distributions; \"Actual\": actual space\n",
    "# \"Gaussian\" is not a good choice because station prcp regression using box-cox has large underestimation\n",
    "prcp_space = 'Actual'\n",
    "\n",
    "### Local Mac settings\n",
    "# input files/paths\n",
    "path_bac = '/Users/localuser/Research/EMDNA/merge' # data that will be used as background\n",
    "path_obs = '/Users/localuser/Research/EMDNA/regression' # data that will be used as observation\n",
    "near_file_GMET = '/Users/localuser/Research/EMDNA/regression/weight_nearstn.npz' # near station of stations/grids\n",
    "file_mask = './DEM/NA_DEM_010deg_trim.mat'\n",
    "FileStnInfo = '/Users/localuser/GMET/pyGMET_NA/stnlist_whole.txt'\n",
    "gmet_stndatafile = '/Users/localuser/Research/EMDNA/stndata_whole.npz'\n",
    "\n",
    "# output files/paths (can also be used as inputs once generated)\n",
    "path_oimerge = '/Users/localuser/Research/EMDNA/oimerge'\n",
    "\n",
    "### Local Mac settings\n",
    "\n",
    "\n",
    "# ### Plato settings\n",
    "# # input files/paths\n",
    "# path_bac = '/datastore/GLOBALWATER/CommonData/EMDNA/ReanalysisCorrMerge/Reanalysis_merge'\n",
    "# path_obs = '/datastore/GLOBALWATER/CommonData/EMDNA/PyGMETout'\n",
    "# near_file_GMET = '/datastore/GLOBALWATER/CommonData/EMDNA/PyGMETout/weight.npz'\n",
    "# file_mask = '/datastore/GLOBALWATER/CommonData/EMDNA/DEM/NA_DEM_010deg_trim.mat'\n",
    "# FileStnInfo = '/home/gut428/GMET/eCAI_EMDNA/StnGridInfo/stnlist_whole.txt'\n",
    "# gmet_stndatafile = '/datastore/GLOBALWATER/CommonData/EMDNA/stndata_whole.npz'\n",
    "#\n",
    "# # output files/paths (can also be used as inputs once generated)\n",
    "# path_oimerge = '/home/gut428/OImerge'\n",
    "# ### Plato settings\n",
    "\n",
    "file_regression_stn = path_obs + '/daily_regression_stn.npz'\n",
    "file_corrmerge_stn = [''] * len(vars)\n",
    "for i in range(len(vars)):\n",
    "    if vars[i] == 'pop':\n",
    "        file_corrmerge_stn[i] = path_bac + '/merge_stn_' + vars[i] + '_GWR_' + weightmode + '.npz'\n",
    "    else:\n",
    "        file_corrmerge_stn[i] = path_bac + '/mergecorr_stn_' + vars[i] + '_GWRQM_' + weightmode + '.npz'\n",
    "\n",
    "########################################################################################################################\n",
    "\n",
    "# basic processing\n",
    "mask = io.loadmat(file_mask)\n",
    "mask = mask['DEM']\n",
    "mask[~np.isnan(mask)] = 1  # 1: valid pixels\n",
    "nrows, ncols = np.shape(mask)\n",
    "\n",
    "# date\n",
    "date_list, date_number = m_DateList(1979, 2018, 'ByYear')\n",
    "\n",
    "# stninfo\n",
    "stnID, stninfo = au.readstnlist(FileStnInfo)\n",
    "nstn = len(stnID)"
   ]
  },
  {
   "cell_type": "code",
   "execution_count": 3,
   "metadata": {},
   "outputs": [
    {
     "name": "stdout",
     "output_type": "stream",
     "text": [
      "OI merge at stations: prcp\n"
     ]
    }
   ],
   "source": [
    "for v in range(len(vars)):\n",
    "    print('OI merge at stations:', vars[v])\n",
    "    filemerge_stn = path_oimerge + '/OImerge_stn_GWRQMBMA_' + vars[v] + '.npz'\n",
    "#     if os.path.isfile(filemerge_stn):\n",
    "#         continue\n",
    "\n",
    "    # load station original observations\n",
    "    datatemp = np.load(gmet_stndatafile)\n",
    "    if vars[v] == 'pop':\n",
    "        observation_stn = datatemp['prcp_stn']\n",
    "        observation_stn[observation_stn > 0] = 1\n",
    "    else:\n",
    "        observation_stn = datatemp[vars[v]+'_stn']\n",
    "\n",
    "    # load station regression estimates (obs)\n",
    "    datatemp = np.load(file_regression_stn)\n",
    "    regression_stn = datatemp[vars[v]]\n",
    "    del datatemp\n",
    "\n",
    "    # load corrected/merged reanalysis data at all station points (those are totally independent with station observations)\n",
    "    datatemp = np.load(file_corrmerge_stn[v])\n",
    "    reafinal_stn = datatemp['reamerge_stn']\n",
    "    nstn, ntimes = np.shape(reafinal_stn)\n",
    "    del datatemp\n",
    "\n",
    "    # load near station information\n",
    "    datatemp = np.load(near_file_GMET)\n",
    "    if vars[v] == 'prcp' or vars[v] == 'pop':\n",
    "        near_loc = datatemp['near_stn_prcpLoc']\n",
    "        near_weight = datatemp['near_stn_prcpWeight']\n",
    "    else:\n",
    "        near_loc = datatemp['near_stn_tempLoc']\n",
    "        near_weight = datatemp['near_stn_tempWeight']\n",
    "    del datatemp\n"
   ]
  },
  {
   "cell_type": "code",
   "execution_count": 4,
   "metadata": {},
   "outputs": [
    {
     "name": "stdout",
     "output_type": "stream",
     "text": [
      "month 1\n"
     ]
    }
   ],
   "source": [
    "    oimerge_stn = np.nan * np.zeros([nstn, ntimes], dtype=np.float32)\n",
    "    for m in range(1):\n",
    "        print('month', m + 1)\n",
    "        indm = (date_number['mm'] == m + 1)\n",
    "        nday = sum(indm)\n",
    "\n",
    "        filemerge_stnm = path_oimerge + '/OImerge_stn_GWRQMBMA_' + vars[v] + '_' + str(m+1) + '--.npz'\n",
    "        if not os.path.isfile(filemerge_stnm):\n",
    "            # use optimal interpolation to get OI-merged estimate at each station points\n",
    "            for i in range(26502,26502+1):\n",
    "                if np.mod(i,100)==0:\n",
    "                    print('station',i,nstn)\n",
    "                if np.isnan(observation_stn[i, 0]):\n",
    "                    continue\n",
    "\n",
    "                near_loci = near_loc[i, :]\n",
    "                near_loci = near_loci[near_loci > -1]\n",
    "\n",
    "                b_tar = reafinal_stn[i, indm]\n",
    "                o_tar = regression_stn[i, indm]\n",
    "                b_near = reafinal_stn[near_loci,:][:, indm]\n",
    "                o_near = regression_stn[near_loci,:][:, indm]\n",
    "\n",
    "                tar_err_b = b_tar - observation_stn[i, indm]\n",
    "                near_err_b = b_near - observation_stn[near_loci,:][:, indm]\n",
    "                near_err_o = o_near - observation_stn[near_loci,:][:, indm]\n",
    "\n",
    "                # delete possible nan values\n",
    "                indnan = ~np.isnan(tar_err_b + np.sum(near_err_b,axis=0) + np.sum(near_err_o,axis=0) )\n",
    "                weight = OImerge(tar_err_b[indnan], near_err_b[:, indnan], near_err_o[:, indnan], eye_o=0)\n",
    "                if np.any(np.isnan(weight)) or np.any(abs(weight) > 2):\n",
    "                    weight = near_weight[i, 0:len(near_loci)]\n",
    "                    weight = weight / np.sum(weight)\n",
    "\n",
    "                diff = o_near - b_near\n",
    "                merge_est = b_tar.copy()\n",
    "                for id in range(nday):\n",
    "                    merge_est[id] = merge_est[id] + np.dot(weight, diff[:, id])\n",
    "                oimerge_stn[i, indm] = merge_est"
   ]
  },
  {
   "cell_type": "code",
   "execution_count": 30,
   "metadata": {},
   "outputs": [
    {
     "data": {
      "text/plain": [
       "[<matplotlib.lines.Line2D at 0x125c0f810>]"
      ]
     },
     "execution_count": 30,
     "metadata": {},
     "output_type": "execute_result"
    },
    {
     "data": {
      "image/png": "[encoded data removed]",
      "text/plain": [
       "<Figure size 432x288 with 1 Axes>"
      ]
     },
     "metadata": {
      "needs_background": "light"
     },
     "output_type": "display_data"
    }
   ],
   "source": [
    "plt.plot(o_near[:,1])"
   ]
  },
  {
   "cell_type": "code",
   "execution_count": 28,
   "metadata": {},
   "outputs": [
    {
     "data": {
      "text/plain": [
       "[<matplotlib.lines.Line2D at 0x1264f0490>]"
      ]
     },
     "execution_count": 28,
     "metadata": {},
     "output_type": "execute_result"
    },
    {
     "data": {
      "image/png": "[encoded data removed]",
      "text/plain": [
       "<Figure size 432x288 with 1 Axes>"
      ]
     },
     "metadata": {
      "needs_background": "light"
     },
     "output_type": "display_data"
    }
   ],
   "source": [
    "plt.plot(o_tar[0:31])"
   ]
  },
  {
   "cell_type": "code",
   "execution_count": 39,
   "metadata": {},
   "outputs": [
    {
     "data": {
      "image/png": "[encoded data removed]",
      "text/plain": [
       "<Figure size 432x288 with 1 Axes>"
      ]
     },
     "metadata": {
      "needs_background": "light"
     },
     "output_type": "display_data"
    }
   ],
   "source": [
    "plt.scatter(stninfo[near_loci,2],stninfo[near_loci,1],50,observation_stn[near_loci, 9])\n",
    "plt.clim([0,10])\n",
    "plt.scatter(stninfo[26502,2],stninfo[26502,1],100,observation_stn[i, 9])\n",
    "plt.clim([0,10])"
   ]
  },
  {
   "cell_type": "code",
   "execution_count": 43,
   "metadata": {},
   "outputs": [
    {
     "data": {
      "text/plain": [
       "'GS76575299999'"
      ]
     },
     "execution_count": 43,
     "metadata": {},
     "output_type": "execute_result"
    }
   ],
   "source": [
    "stnID[26502]"
   ]
  },
  {
   "cell_type": "code",
   "execution_count": 41,
   "metadata": {},
   "outputs": [
    {
     "data": {
      "text/plain": [
       "array([ 3849,  3858,  3850, 26504, 26942,  3810,  3834,  3772,  3757,\n",
       "        3777,  3780,  3799,  3769,  3829,  3761,  3788,  3837, 26503,\n",
       "        2845,  3855,  3760,  3814, 26964,  3809,  3823,  4200,  3786,\n",
       "        3796,  3840,  3836])"
      ]
     },
     "execution_count": 41,
     "metadata": {},
     "output_type": "execute_result"
    }
   ],
   "source": [
    "near_loci"
   ]
  },
  {
   "cell_type": "code",
   "execution_count": null,
   "metadata": {},
   "outputs": [],
   "source": []
  }
 ],
 "metadata": {
  "kernelspec": {
   "display_name": "Python 3",
   "language": "python",
   "name": "python3"
  },
  "language_info": {
   "codemirror_mode": {
    "name": "ipython",
    "version": 3
   },
   "file_extension": ".py",
   "mimetype": "text/x-python",
   "name": "python",
   "nbconvert_exporter": "python",
   "pygments_lexer": "ipython3",
   "version": "3.7.4"
  }
 },
 "nbformat": 4,
 "nbformat_minor": 4
}
