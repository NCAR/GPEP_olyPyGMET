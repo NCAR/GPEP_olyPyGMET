{
 "cells": [
  {
   "cell_type": "code",
   "execution_count": 9,
   "metadata": {},
   "outputs": [
    {
     "name": "stderr",
     "output_type": "stream",
     "text": [
      "/usr/local/lib/python3.7/site-packages/ipykernel_launcher.py:30: RuntimeWarning: Mean of empty slice\n",
      "/usr/local/lib/python3.7/site-packages/ipykernel_launcher.py:31: RuntimeWarning: Mean of empty slice\n"
     ]
    },
    {
     "ename": "IndexError",
     "evalue": "too many indices for array",
     "output_type": "error",
     "traceback": [
      "\u001b[0;31m---------------------------------------------------------------------------\u001b[0m",
      "\u001b[0;31mIndexError\u001b[0m                                Traceback (most recent call last)",
      "\u001b[0;32m<ipython-input-9-e7e88e4db471>\u001b[0m in \u001b[0;36m<module>\u001b[0;34m\u001b[0m\n\u001b[1;32m     49\u001b[0m \u001b[0;34m\u001b[0m\u001b[0m\n\u001b[1;32m     50\u001b[0m \u001b[0;31m# toxic_prcp=np.where(((ratio_vsreg<p3) & (ratio_vsnear<p4)))[0]\u001b[0m\u001b[0;34m\u001b[0m\u001b[0;34m\u001b[0m\u001b[0;34m\u001b[0m\u001b[0m\n\u001b[0;32m---> 51\u001b[0;31m toxic_prcp = np.where(((ratio_vsreg[:, 0] > p1) & (ratio_vsnear[:, 1] > p2)) |\n\u001b[0m\u001b[1;32m     52\u001b[0m                       ((ratio_vsreg[:, 0] < p3) & (ratio_vsnear[:, 1] < p4)))[0]\n\u001b[1;32m     53\u001b[0m \u001b[0;34m\u001b[0m\u001b[0m\n",
      "\u001b[0;31mIndexError\u001b[0m: too many indices for array"
     ]
    }
   ],
   "source": [
    "\n",
    "import numpy as np\n",
    "\n",
    "# filestn = '/datastore/GLOBALWATER/CommonData/EMDNA_new/stndata_whole.npz'\n",
    "# filereg = '/datastore/GLOBALWATER/CommonData/EMDNA_new/stn_regression/daily_regression_stn.npz'\n",
    "# file_nearstn = '/datastore/GLOBALWATER/CommonData/EMDNA_new/stn_regression/nearstn_catalog.npz'\n",
    "\n",
    "filestn = '/Users/localuser/Research/EMDNA/stndata_whole.npz'\n",
    "filereg = '/Users/localuser/Research/EMDNA/regression/daily_regression_stn.npz'\n",
    "file_nearstn = '/Users/localuser/Research/EMDNA/regression/weight_nearstn.npz'\n",
    "nearnum = 10  # compare target station with its nearby stations to determine climatological anomaly\n",
    "\n",
    "########################################################################################################################\n",
    "\n",
    "# precipitation\n",
    "var = 'prcp'\n",
    "d = np.load(filestn)\n",
    "dstn = d[var + '_stn']\n",
    "stn_lle = d['stn_lle']\n",
    "d = np.load(filereg)\n",
    "dreg = d[var]\n",
    "\n",
    "d = np.load(file_nearstn)\n",
    "if var == 'prcp':\n",
    "    nearloc = d['near_stn_prcpLoc']\n",
    "else:\n",
    "    nearloc = d['near_stn_tempLoc']\n",
    "\n",
    "# calculate two types of ratio\n",
    "nstn, ntimes = np.shape(dstn)\n",
    "dstnm = np.nanmean(dstn, axis=1)\n",
    "dregm = np.nanmean(dreg, axis=1)\n",
    "ratio_vsreg = np.abs(dstnm) / np.abs(dregm)\n",
    "ratio_vsnear = np.nan * np.zeros(nstn)\n",
    "for i in range(nstn):\n",
    "    if np.isnan(dstnm[i]):\n",
    "        continue\n",
    "    zz = nearloc[i, 0:nearnum]\n",
    "    zz = zz[zz > -1]\n",
    "    ratio_vsnear[i] = abs(dstnm[i] / np.nanmean(dstnm[zz]))\n",
    "\n",
    "# determine toxic stations: two-tailed percentile check\n",
    "# the thresholds are determined by trial-and-error\n",
    "# for precipitation, stations with too dry precipitation is more common. besides, we prefer to keep more stations\n",
    "# with heavy precipitation to benefit extreme precipitation estimation\n",
    "p1 = np.nanpercentile(ratio_vsreg, 99.9)\n",
    "p2 = np.nanpercentile(ratio_vsnear, 99.9)\n",
    "p3 = np.nanpercentile(ratio_vsreg, 1)\n",
    "p4 = np.nanpercentile(ratio_vsnear, 1)\n",
    "\n",
    "# toxic_prcp=np.where(((ratio_vsreg<p3) & (ratio_vsnear<p4)))[0]\n",
    "toxic_prcp = np.where(((ratio_vsreg > p1) & (ratio_vsnear > p2)) |\n",
    "                      ((ratio_vsreg < p3) & (ratio_vsnear < p4)))[0]\n",
    "\n",
    "del dstn, dregm"
   ]
  },
  {
   "cell_type": "code",
   "execution_count": 37,
   "metadata": {},
   "outputs": [
    {
     "name": "stderr",
     "output_type": "stream",
     "text": [
      "/usr/local/lib/python3.7/site-packages/ipykernel_launcher.py:18: RuntimeWarning: Mean of empty slice\n",
      "/usr/local/lib/python3.7/site-packages/ipykernel_launcher.py:19: RuntimeWarning: Mean of empty slice\n",
      "/usr/local/lib/python3.7/site-packages/ipykernel_launcher.py:31: RuntimeWarning: invalid value encountered in greater\n"
     ]
    }
   ],
   "source": [
    "vart = ['tmean', 'trange']\n",
    "toxic_temp = [' '] * 2\n",
    "for v in range(len(vart)):\n",
    "    var = vart[v]\n",
    "    d = np.load(filestn)\n",
    "    dstn = d[var + '_stn']\n",
    "    stn_lle = d['stn_lle']\n",
    "    d = np.load(filereg)\n",
    "    dreg = d[var]\n",
    "\n",
    "    d = np.load(file_nearstn)\n",
    "    if var == 'prcp':\n",
    "        nearloc = d['near_stn_prcpLoc']\n",
    "    else:\n",
    "        nearloc = d['near_stn_tempLoc']\n",
    "\n",
    "    nstn, ntimes = np.shape(dstn)\n",
    "    dstnm = np.nanmean(dstn, axis=1)\n",
    "    dregm = np.nanmean(dreg, axis=1)\n",
    "    diff_vsreg = np.abs(dstnm - dregm)\n",
    "    diff_vsnear = np.nan * np.zeros(nstn)\n",
    "    for i in range(nstn):\n",
    "        if np.isnan(dstnm[i]):\n",
    "            continue\n",
    "        zz = nearloc[i, 0:nearnum]\n",
    "        zz = zz[zz > -1]\n",
    "        diff_vsnear[i] = np.abs(dstnm[i] - np.mean(dstnm[zz]))\n",
    "\n",
    "    p1 = np.nanpercentile(diff_vsreg, 99)\n",
    "    p2 = np.nanpercentile(diff_vsnear, 95)\n",
    "    toxic_temp[v] = np.where((diff_vsreg > p1) & (diff_vsnear > p2))[0]\n"
   ]
  },
  {
   "cell_type": "code",
   "execution_count": 38,
   "metadata": {},
   "outputs": [
    {
     "name": "stdout",
     "output_type": "stream",
     "text": [
      "64 91\n"
     ]
    }
   ],
   "source": [
    "print(len(toxic_temp[0]),len(toxic_temp[1]))"
   ]
  },
  {
   "cell_type": "code",
   "execution_count": 39,
   "metadata": {},
   "outputs": [
    {
     "data": {
      "text/plain": [
       "0.014654996946875637"
      ]
     },
     "execution_count": 39,
     "metadata": {},
     "output_type": "execute_result"
    }
   ],
   "source": [
    "toxic_temp=np.union1d(toxic_temp[0],toxic_temp[1])\n",
    "288/np.sum(~np.isnan(dstnm))"
   ]
  },
  {
   "cell_type": "code",
   "execution_count": 31,
   "metadata": {},
   "outputs": [],
   "source": [
    "np.savez_compressed('toxic_temp.npz',toxic_temp=toxic_temp)"
   ]
  },
  {
   "cell_type": "code",
   "execution_count": 36,
   "metadata": {},
   "outputs": [
    {
     "ename": "TypeError",
     "evalue": "object of type 'numpy.int64' has no len()",
     "output_type": "error",
     "traceback": [
      "\u001b[0;31m---------------------------------------------------------------------------\u001b[0m",
      "\u001b[0;31mTypeError\u001b[0m                                 Traceback (most recent call last)",
      "\u001b[0;32m<ipython-input-36-dac57ffdb166>\u001b[0m in \u001b[0;36m<module>\u001b[0;34m\u001b[0m\n\u001b[1;32m      1\u001b[0m \u001b[0mind_toxic1\u001b[0m\u001b[0;34m=\u001b[0m\u001b[0mtoxic_temp\u001b[0m\u001b[0;34m[\u001b[0m\u001b[0;36m1\u001b[0m\u001b[0;34m]\u001b[0m\u001b[0;34m\u001b[0m\u001b[0;34m\u001b[0m\u001b[0m\n\u001b[0;32m----> 2\u001b[0;31m \u001b[0;32mfor\u001b[0m \u001b[0mi\u001b[0m \u001b[0;32min\u001b[0m \u001b[0mrange\u001b[0m\u001b[0;34m(\u001b[0m\u001b[0mlen\u001b[0m\u001b[0;34m(\u001b[0m\u001b[0mind_toxic1\u001b[0m\u001b[0;34m)\u001b[0m\u001b[0;34m)\u001b[0m\u001b[0;34m:\u001b[0m\u001b[0;34m\u001b[0m\u001b[0;34m\u001b[0m\u001b[0m\n\u001b[0m\u001b[1;32m      3\u001b[0m     \u001b[0mitar\u001b[0m\u001b[0;34m=\u001b[0m\u001b[0mind_toxic1\u001b[0m\u001b[0;34m[\u001b[0m\u001b[0mi\u001b[0m\u001b[0;34m]\u001b[0m\u001b[0;34m\u001b[0m\u001b[0;34m\u001b[0m\u001b[0m\n\u001b[1;32m      4\u001b[0m     \u001b[0minear\u001b[0m\u001b[0;34m=\u001b[0m\u001b[0mnearloc\u001b[0m\u001b[0;34m[\u001b[0m\u001b[0mitar\u001b[0m\u001b[0;34m]\u001b[0m\u001b[0;34m\u001b[0m\u001b[0;34m\u001b[0m\u001b[0m\n\u001b[1;32m      5\u001b[0m     \u001b[0minear\u001b[0m\u001b[0;34m=\u001b[0m\u001b[0minear\u001b[0m\u001b[0;34m[\u001b[0m\u001b[0minear\u001b[0m\u001b[0;34m>\u001b[0m\u001b[0;34m-\u001b[0m\u001b[0;36m1\u001b[0m\u001b[0;34m]\u001b[0m\u001b[0;34m\u001b[0m\u001b[0;34m\u001b[0m\u001b[0m\n",
      "\u001b[0;31mTypeError\u001b[0m: object of type 'numpy.int64' has no len()"
     ]
    }
   ],
   "source": [
    "ind_toxic1=toxic_temp[1]\n",
    "for i in range(len(ind_toxic1)):\n",
    "    itar=ind_toxic1[i]\n",
    "    inear=nearloc[itar]\n",
    "    inear=inear[inear>-1]\n",
    "    clim1=min(dstnm[inear])-5\n",
    "    clim2=max(dstnm[inear])+5\n",
    "    plt.scatter(stn_lle[inear,1],stn_lle[inear,0],50,dstnm[inear],cmap='jet')\n",
    "    plt.clim([clim1,clim2])\n",
    "    plt.scatter(stn_lle[itar,1],stn_lle[itar,0],200,dstnm[itar],cmap='jet',edgecolors=[0,0,0])\n",
    "    plt.clim([clim1,clim2])\n",
    "    plt.colorbar()\n",
    "    plt.show()"
   ]
  },
  {
   "cell_type": "code",
   "execution_count": null,
   "metadata": {},
   "outputs": [],
   "source": []
  }
 ],
 "metadata": {
  "kernelspec": {
   "display_name": "Python 3",
   "language": "python",
   "name": "python3"
  },
  "language_info": {
   "codemirror_mode": {
    "name": "ipython",
    "version": 3
   },
   "file_extension": ".py",
   "mimetype": "text/x-python",
   "name": "python",
   "nbconvert_exporter": "python",
   "pygments_lexer": "ipython3",
   "version": "3.7.4"
  }
 },
 "nbformat": 4,
 "nbformat_minor": 4
}
