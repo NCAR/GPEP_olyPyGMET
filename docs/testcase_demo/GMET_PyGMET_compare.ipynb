{
 "cells": [
  {
   "cell_type": "code",
   "execution_count": 22,
   "id": "3fedef0d-9ad6-487d-a4be-3ec38ac4a2d2",
   "metadata": {},
   "outputs": [],
   "source": [
    "import pandas as pd\n",
    "import xarray as xr\n",
    "import numpy as np\n",
    "from array import array\n",
    "import matplotlib.pyplot as plt"
   ]
  },
  {
   "cell_type": "code",
   "execution_count": 62,
   "id": "553c5d5b-232c-451b-b397-0cd9762af432",
   "metadata": {},
   "outputs": [],
   "source": [
    "# load Fortran weight files\n",
    "file_f_weight = '/glade/u/home/guoqiang/GMET_repos/GMET/test_cases/cali2017/outputs/station_weights.35stn.bin'\n",
    "\n",
    "y = 144\n",
    "x = 112\n",
    "ngrid = x*y\n",
    "nstn = 1219\n",
    "n = 35\n",
    "nt = 5\n",
    "recl = nt * ngrid * n * 8\n",
    "\n",
    "\n",
    "with open(file_f_weight, 'rb') as f:\n",
    "        tmp=f.read(recl)\n",
    "        # Convert to double precision (real 64bit)\n",
    "        tmp1=array('d',tmp)\n",
    "         # Pull out data array (leaving behind fortran control records)for fortran sequential\n",
    "        tmp2=np.array(tmp1)\n",
    "         # Create a 2d array (lat x lon) and store it in the data array\n",
    "        data=np.reshape(tmp2,(nt, ngrid, n))\n"
   ]
  },
  {
   "cell_type": "code",
   "execution_count": 63,
   "id": "cf28ae3e-0558-4222-9fe6-4811dc4433af",
   "metadata": {},
   "outputs": [
    {
     "data": {
      "text/plain": [
       "array([ 1.66134644e-247, -6.99727954e-148,  5.33761372e-315, ...,\n",
       "       -1.96819408e+038,  9.68727764e-303, -5.28352929e+079])"
      ]
     },
     "execution_count": 63,
     "metadata": {},
     "output_type": "execute_result"
    }
   ],
   "source": [
    "data[0,:,0]"
   ]
  },
  {
   "cell_type": "code",
   "execution_count": 64,
   "id": "7c70347c-c5aa-41c1-9315-613ffb7b010b",
   "metadata": {},
   "outputs": [
    {
     "data": {
      "text/plain": [
       "(5, 16128, 35)"
      ]
     },
     "execution_count": 64,
     "metadata": {},
     "output_type": "execute_result"
    }
   ],
   "source": [
    "data.shape"
   ]
  },
  {
   "cell_type": "code",
   "execution_count": null,
   "id": "95d3f3bf-e434-48d9-8d91-2a86750eb0c5",
   "metadata": {},
   "outputs": [],
   "source": []
  }
 ],
 "metadata": {
  "kernelspec": {
   "display_name": "Python [conda env:npl-2022b-tgq]",
   "language": "python",
   "name": "conda-env-npl-2022b-tgq-py"
  },
  "language_info": {
   "codemirror_mode": {
    "name": "ipython",
    "version": 3
   },
   "file_extension": ".py",
   "mimetype": "text/x-python",
   "name": "python",
   "nbconvert_exporter": "python",
   "pygments_lexer": "ipython3",
   "version": "3.8.13"
  }
 },
 "nbformat": 4,
 "nbformat_minor": 5
}
