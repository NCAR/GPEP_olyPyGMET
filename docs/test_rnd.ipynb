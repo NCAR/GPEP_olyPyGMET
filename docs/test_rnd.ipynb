{
 "cells": [
  {
   "cell_type": "code",
   "execution_count": 44,
   "id": "ac34cb86-1c52-4bdf-9950-7378e61a5278",
   "metadata": {},
   "outputs": [],
   "source": [
    "\n",
    "import numpy as np\n",
    "\n",
    "def LU_Decomposition(a, b):\n",
    "    # replace Fortran ludcmp and lubksb\n",
    "    # https://github.com/NCAR/GMET/blob/master/source/sp_regression/regression_routines.f90\n",
    "    # ! Solve linear equation for x (Ax = b => x = bA^-1) using LU decomposition and back substitution.\n",
    "    # ! Input:\n",
    "    # !   X  = An m by n array.\n",
    "    # !   TX = Precalculated transpose array of X, size n by m\n",
    "    # !   Y  = An m-element vector containing the right-hand side of the linear system Ax = b.\n",
    "    # ! Output:\n",
    "    # !   B  = An n-element vector.\n",
    "\n",
    "    deta = np.linalg.det(a)  # Compute the determinant of an array\n",
    "    if deta == 0:\n",
    "        # print('Singular matrix')\n",
    "        c = 0\n",
    "    else:\n",
    "        ainv = np.linalg.inv(a)\n",
    "        c = np.matmul(ainv, b)\n",
    "    return c\n"
   ]
  },
  {
   "cell_type": "code",
   "execution_count": 96,
   "id": "2ed485c0-b407-4431-9f52-80354a715e91",
   "metadata": {},
   "outputs": [],
   "source": [
    "\n",
    "# input parameters\n",
    "nspl1 = 100\n",
    "nspl2 = 120\n",
    "clen = 150\n",
    "lat = np.arange(0, 1, 0.01)\n",
    "lon = np.arange(0, 1.2, 0.01)\n",
    "grid_lat = np.tile(lat[:, np.newaxis], [1, 120])\n",
    "grid_lon = np.tile(lon[np.newaxis, :], [100, 1])"
   ]
  },
  {
   "cell_type": "code",
   "execution_count": 97,
   "id": "ffd0cc10-fae2-4be8-9fcc-ddd954e711af",
   "metadata": {},
   "outputs": [
    {
     "name": "stdout",
     "output_type": "stream",
     "text": [
      "Working on Loop:  9\n",
      "Working on Loop:  8\n",
      "Working on Loop:  7\n",
      "Working on Loop:  6\n",
      "Working on Loop:  5\n",
      "Working on Loop:  4\n",
      "Working on Loop:  3\n",
      "Working on Loop:  2\n",
      "Working on Loop:  1\n",
      "Working on Loop:  0\n"
     ]
    }
   ],
   "source": [
    "\n",
    "# ----------------------------------------------------------------------------------------\n",
    "# (0) CHECK THAT SPCORR IS NOT POPULATED ALREADY\n",
    "# ----------------------------------------------------------------------------------------\n",
    "\n",
    "\n",
    "# ----------------------------------------------------------------------------------------\n",
    "# (1) DEFINE HYPER-PARAMETERS\n",
    "# ----------------------------------------------------------------------------------------\n",
    "nnst = 10 # number of nests\n",
    "nloc = 3 # number of local points to include in the estimation\n",
    "\n",
    "# ----------------------------------------------------------------------------------------\n",
    "# (2) ALLOCATE SPACE FOR OUTPUT ARRAYS\n",
    "# ----------------------------------------------------------------------------------------\n",
    "# define the maximum number of previously generated points\n",
    "maxp = (nloc*2+1) ** 2\n",
    "gmsk = np.full((nspl1, nspl2), False, dtype=bool)\n",
    "spcorr_ipos = np.empty((nspl1, nspl2), dtype=object) # np.frompyfunc(list, 0, 1)(np.empty((3,2), dtype=object))\n",
    "spcorr_jpos = np.empty((nspl1, nspl2), dtype=object)\n",
    "spcorr_wght = np.empty((nspl1, nspl2), dtype=object)\n",
    "spcorr_sdev = np.empty((nspl1, nspl2), dtype=float)\n",
    "iorder = np.zeros(nspl1*nspl2, dtype=int)\n",
    "jorder = np.zeros(nspl1*nspl2, dtype=int)\n",
    "\n",
    "# ----------------------------------------------------------------------------------------\n",
    "# (3) LOOP THROUGH THE DIFFERENT GRID RESOLUTIONS (PROCESS COARSE RESOLUTION FIRST)\n",
    "# ----------------------------------------------------------------------------------------\n",
    "sdev = 0 # Initialize SDEV (added to account for the first point)  EÖH\n",
    "iprc = 0 # counter for the number of grid points processed\n",
    "for ires in range(nnst-1, 0-1, -1):\n",
    "    incr = 2 ** ires # increment(2 ** 4 = 16, 2 ** 3 = 8, 2 ** 2 = 4, 2 ** 1 = 2, 2 ** 0 = 1)\n",
    "    print('Working on Loop: ', ires)\n",
    "    # ---------------------------------------------------------------------------------------\n",
    "    # (4) LOOP THROUGH THE LAT-LON OF THE GRID AT A GIVEN RESOLUTION\n",
    "    # ---------------------------------------------------------------------------------------\n",
    "    for isp1 in range(0, nspl1, incr):\n",
    "        for isp2 in range(0, nspl2, incr):\n",
    "            # ! check that \"current\" point has not been generated yet\n",
    "            if not gmsk[isp1, isp2]:\n",
    "                # ! allocate space to store the (i,j) position, and weights\n",
    "                ipos = np.zeros(maxp, dtype=int)\n",
    "                jpos = np.zeros(maxp, dtype=int)\n",
    "                wght = np.zeros(maxp, dtype=float)\n",
    "                # ! save the (i,j) position of iprc\n",
    "                iorder[iprc] = isp1\n",
    "                jorder[iprc] = isp2\n",
    "                # ! increment IPRC\n",
    "                iprc = iprc + 1\n",
    "                # ------------------------------------------------------------------------------------\n",
    "                # (5) IDENTIFY PREVIOUSLY GENERATED POINTS\n",
    "                # ------------------------------------------------------------------------------------\n",
    "                k = 0 # initialize the number of previous points generated to zero\n",
    "                # ! loop through points in the local neighbourhood\n",
    "                for jsp1 in range(max(0, isp1-(incr*nloc)), min(isp1+(incr*nloc), nspl1)): #doubt\n",
    "                    for jsp2 in range(max(0, isp2-(incr*nloc)), min(isp2+(incr*nloc), nspl2)): #doubt\n",
    "                        # ! check to see if the \"local\" point has been generated previously\n",
    "                        if gmsk[jsp1, jsp2]:\n",
    "                            ipos[k] = jsp1\n",
    "                            jpos[k] = jsp2\n",
    "                            k = k + 1\n",
    "                # include the (i,j) of the current point\n",
    "                ipos[k] = isp1\n",
    "                jpos[k] = isp2\n",
    "                k = k + 1\n",
    "                # ...and save the number of points\n",
    "                npts = k\n",
    "                # check that there are at least two points\n",
    "                if k >= 2:\n",
    "                    # ------------------------------------------------------------------------------------\n",
    "                    # (6) COMPUTE THE CORRELATION AMONG PREVIOUSLY GENERATED POINTS\n",
    "                    # ------------------------------------------------------------------------------------\n",
    "                    corr = np.zeros([k-1, k-1])\n",
    "                    gvec = np.zeros(k-1)\n",
    "                    twgt = np.zeros(k-1)\n",
    "                    indx = np.zeros(k-1, dtype=int)\n",
    "                    # Note that the vector of previously generated points includes the current point as its\n",
    "                    # last element.  The correlation among all previously generated points are computed over\n",
    "                    # elements (1...k-1) and saved in the matrix corr.  The correlation between previously\n",
    "                    # generated points (1...k-1) and the current point (k) is saved in ther vector gvec.\n",
    "                    for iprev in range(0, k):\n",
    "                        for jprev in range(0, iprev+1):\n",
    "                            if iprev == jprev:\n",
    "                                if iprev <= k-2:\n",
    "                                    corr[iprev, jprev] = 1.0\n",
    "                            else:\n",
    "                                lon1 = np.deg2rad(grid_lon[ipos[iprev], jpos[iprev]]) # NOTE, iprev, lon\n",
    "                                lon2 = np.deg2rad(grid_lon[ipos[jprev], jpos[jprev]]) # NOTE, jprev, lon\n",
    "                                lat1 = np.deg2rad(grid_lat[ipos[iprev], jpos[iprev]]) # NOTE, iprev, lat\n",
    "                                lat2 = np.deg2rad(grid_lat[ipos[jprev], jpos[jprev]]) # NOTE, jprev, lat\n",
    "                                # ! compute distance (km) - on the surface of a sphere\n",
    "                                dist = 6378.0 * np.arccos(np.sin(lat1) * np.sin(lat2) + np.cos(lat1) * np.cos(lat2) * np.cos(lon1 - lon2))\n",
    "                                # ! compute correlation\n",
    "                                if iprev <= k-2:\n",
    "                                    # ! correlation among all previously generated points (1...k-1,1...k-1) -- corr\n",
    "                                    corr[iprev, jprev] = np.exp(-(dist / clen))\n",
    "                                    corr[jprev, iprev] = corr[iprev, jprev]\n",
    "                                else:\n",
    "                                    # ! correlation between all previously generated points and the current point -- gvec\n",
    "                                    if jprev <= k-2:\n",
    "                                        gvec[jprev] = np.exp(-(dist / clen))\n",
    "                    #  ------------------------------------------------------------------------------------\n",
    "                    #  (7) COMPUTE THE WEIGHTS\n",
    "                    #  ------------------------------------------------------------------------------------\n",
    "                    #  Note that the vector of previously generated points includes the current point as its\n",
    "                    #  last element.  The correlation among all previously generated points are computed over\n",
    "                    #  elements (1...k-1) and saved in the matrix corr.  The correlation between previously\n",
    "                    #  generated points (1...k-1) and the current point (k) is saved in ther vector gvec.\n",
    "                    #  special case of the bi-variate normal\n",
    "                    if k == 2:\n",
    "                        wght[0] = gvec[0]\n",
    "                        sdev = np.sqrt(1 - gvec[0] ** 2)\n",
    "                    # all other points\n",
    "                    else:\n",
    "                        # temporary weight (GVEC is over-written)\n",
    "                        twgt[0: k - 1] = gvec[0: k - 1]\n",
    "                        # estimate weights\n",
    "                        twgt[0: k - 1] = LU_Decomposition(corr, twgt)\n",
    "                        # save weights and variance\n",
    "                        wght[0: k - 1] = twgt[0: k - 1]\n",
    "                        sdev = np.sqrt(1. - np.dot(gvec[0:k - 1], twgt[0: k - 1]))\n",
    "                gmsk[isp1, isp2] = True\n",
    "                # -------------------------------------------------------------------------------------\n",
    "                # (8) SAVE WEIGHTS IN THE SPATIAL CORRELATION STRUCTURE\n",
    "                # -------------------------------------------------------------------------------------\n",
    "                # populate the structures (-1 excludes the current (i,j) point)\n",
    "                spcorr_ipos[isp1, isp2] = ipos[0:npts-1]\n",
    "                spcorr_jpos[isp1, isp2] = jpos[0:npts-1]\n",
    "                spcorr_wght[isp1, isp2] = wght[0:npts-1]\n",
    "                spcorr_sdev[isp1, isp2] = sdev\n",
    "\n",
    "\n",
    "\n",
    "\n",
    "\n",
    "# random field generation using Fortran GMET codes\n",
    "########################################################################################################################\n",
    "\n"
   ]
  },
  {
   "cell_type": "code",
   "execution_count": 116,
   "id": "74249523-5c19-4ac8-ace2-4de7b9b2f50d",
   "metadata": {},
   "outputs": [],
   "source": [
    "\n",
    "from random import gauss\n",
    "# def field_rand():\n",
    "# ----------------------------------------------------------------------------------------\n",
    "# (1) GET THE NUMBER OF X AND Y POINTS AND ALLOCATE SPACE FOR THE RANDOM GRID\n",
    "# ----------------------------------------------------------------------------------------\n",
    "nlon, nlat = spcorr_jpos.shape\n",
    "cran = np.nan * np.zeros([nlon, nlat], dtype=float)\n",
    "\n",
    "for igrd in range(nlon * nlat):\n",
    "    ilon = iorder[igrd]\n",
    "    ilat = jorder[igrd]\n",
    "    # ! assign a random number to the first grid-point\n",
    "    if igrd == 0:\n",
    "        aran = gauss(0, 1)\n",
    "        cran[ilon, ilat] = aran\n",
    "    # ! process gridpoints 2,...,n\n",
    "    else:\n",
    "        # ! get the number of \"previously generated points\"\n",
    "        nprv = len(spcorr_wght[ilon, ilat])\n",
    "        vprv = np.zeros(nprv)\n",
    "        # ! build a vector of previously generated points\n",
    "        for iprev in range(0, nprv):\n",
    "            jlon = spcorr_ipos[ilon, ilat][iprev]\n",
    "            jlat = spcorr_jpos[ilon, ilat][iprev]\n",
    "            vprv[iprev] = cran[jlon, jlat] # (previously generated point)\n",
    "        # ! and generate the \"current\" point\n",
    "        aran = gauss(0, 1)\n",
    "        xbar = np.dot(vprv[0:nprv], spcorr_wght[ilon, ilat][0:nprv])\n",
    "        cran[ilon, ilat] = xbar + spcorr_sdev[ilon, ilat] * aran\n"
   ]
  },
  {
   "cell_type": "code",
   "execution_count": 117,
   "id": "8116ed07-3140-43ab-b2ab-b9f29aa1cf70",
   "metadata": {},
   "outputs": [
    {
     "data": {
      "text/plain": [
       "<matplotlib.image.AxesImage at 0x176df4c70>"
      ]
     },
     "execution_count": 117,
     "metadata": {},
     "output_type": "execute_result"
    },
    {
     "data": {
      "image/png": "[encoded data removed]",
      "text/plain": [
       "<Figure size 640x480 with 1 Axes>"
      ]
     },
     "metadata": {},
     "output_type": "display_data"
    }
   ],
   "source": [
    "plt.imshow(cran)"
   ]
  },
  {
   "cell_type": "code",
   "execution_count": 118,
   "id": "9222dd9f-a65a-4fc6-b251-77b4f0f63e1a",
   "metadata": {},
   "outputs": [
    {
     "data": {
      "text/plain": [
       "(array([ 227., 1130., 2147., 2667., 1863., 1173., 1117., 1010.,  553.,\n",
       "         113.]),\n",
       " array([-1.21259626, -0.84546159, -0.47832691, -0.11119224,  0.25594243,\n",
       "         0.62307711,  0.99021178,  1.35734646,  1.72448113,  2.09161581,\n",
       "         2.45875048]),\n",
       " <BarContainer object of 10 artists>)"
      ]
     },
     "execution_count": 118,
     "metadata": {},
     "output_type": "execute_result"
    },
    {
     "data": {
      "image/png": "[encoded data removed]",
      "text/plain": [
       "<Figure size 640x480 with 1 Axes>"
      ]
     },
     "metadata": {},
     "output_type": "display_data"
    }
   ],
   "source": [
    "plt.hist(cran.flatten())"
   ]
  },
  {
   "cell_type": "code",
   "execution_count": 128,
   "id": "092cf1b9-5023-49e9-bbcf-d37882773210",
   "metadata": {},
   "outputs": [
    {
     "data": {
      "text/plain": [
       "(24,)"
      ]
     },
     "execution_count": 128,
     "metadata": {},
     "output_type": "execute_result"
    }
   ],
   "source": [
    "spcorr_wght[10,10].shape"
   ]
  },
  {
   "cell_type": "code",
   "execution_count": 131,
   "id": "f706e668-1f78-44f5-844c-13e242e78da8",
   "metadata": {},
   "outputs": [],
   "source": [
    "np.savez_compressed('test.npz',spcorr_wght=spcorr_wght)\n"
   ]
  },
  {
   "cell_type": "code",
   "execution_count": 146,
   "id": "7a7a0b7b-07ba-4869-93c0-1a07da540bf1",
   "metadata": {},
   "outputs": [],
   "source": [
    "dd=np.load('test.npz', allow_pickle=True)"
   ]
  },
  {
   "cell_type": "code",
   "execution_count": 148,
   "id": "200d5564-110e-4f2e-a590-44712cd382fd",
   "metadata": {},
   "outputs": [
    {
     "data": {
      "text/plain": [
       "(100, 120)"
      ]
     },
     "execution_count": 148,
     "metadata": {},
     "output_type": "execute_result"
    }
   ],
   "source": [
    "dd['spcorr_wght'].shape"
   ]
  },
  {
   "cell_type": "code",
   "execution_count": 155,
   "id": "a7509277-cd12-47b9-97c2-31e7e82d697f",
   "metadata": {},
   "outputs": [],
   "source": [
    "import os\n"
   ]
  },
  {
   "cell_type": "code",
   "execution_count": 167,
   "id": "ba975ae2-22da-4554-b9af-be225abc2db6",
   "metadata": {},
   "outputs": [
    {
     "data": {
      "text/plain": [
       "1273186309"
      ]
     },
     "execution_count": 167,
     "metadata": {},
     "output_type": "execute_result"
    }
   ],
   "source": [
    "random.seed(10)\n",
    "\n",
    "random_data = os.urandom(4) \n",
    "seed = int.from_bytes(random_data, byteorder=\"big\")\n",
    "seed"
   ]
  },
  {
   "cell_type": "code",
   "execution_count": 205,
   "id": "4936110a-9921-4532-a4aa-3ae27123b3c7",
   "metadata": {},
   "outputs": [
    {
     "name": "stdout",
     "output_type": "stream",
     "text": [
      "[8325804 1484405 2215104 5157699 8222403 7644169 5853461 6739698  374564\n",
      " 2832983]\n",
      "##################################################\n",
      "[7026296  897971]\n",
      "[9854229 7448954]\n",
      "[1998351 3533909]\n"
     ]
    }
   ],
   "source": [
    "for i in range(1):\n",
    "    np.random.seed(i)\n",
    "    rn = np.random.randint(0, 10000000, 10)\n",
    "    print(rn)\n",
    "    print('#'*50)\n",
    "    for j in range(3):\n",
    "        np.random.seed(rn[j])\n",
    "        print(np.random.randint(0, 10000000, 2))"
   ]
  },
  {
   "cell_type": "code",
   "execution_count": 232,
   "id": "4d665663-9bce-4546-8acb-b897d22cc8ee",
   "metadata": {},
   "outputs": [
    {
     "data": {
      "text/plain": [
       "-0.7200855607188968"
      ]
     },
     "execution_count": 232,
     "metadata": {},
     "output_type": "execute_result"
    }
   ],
   "source": [
    "\n",
    "np.random.normal(0,1)"
   ]
  },
  {
   "cell_type": "code",
   "execution_count": null,
   "id": "663cd111-b09f-49c5-b64f-85e592eda475",
   "metadata": {},
   "outputs": [],
   "source": []
  },
  {
   "cell_type": "code",
   "execution_count": null,
   "id": "5b876b76-0d4c-4ed4-8742-27776f13e421",
   "metadata": {},
   "outputs": [],
   "source": []
  }
 ],
 "metadata": {
  "kernelspec": {
   "display_name": "Python [conda env:PyGMET]",
   "language": "python",
   "name": "conda-env-PyGMET-py"
  },
  "language_info": {
   "codemirror_mode": {
    "name": "ipython",
    "version": 3
   },
   "file_extension": ".py",
   "mimetype": "text/x-python",
   "name": "python",
   "nbconvert_exporter": "python",
   "pygments_lexer": "ipython3",
   "version": "3.10.8"
  }
 },
 "nbformat": 4,
 "nbformat_minor": 5
}
